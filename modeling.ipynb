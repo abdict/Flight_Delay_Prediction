{
 "cells": [
  {
   "cell_type": "markdown",
   "metadata": {},
   "source": [
    "# Machine Learning\n",
    "\n",
    "In this file, instructions how to approach the challenge can be found."
   ]
  },
  {
   "cell_type": "markdown",
   "metadata": {},
   "source": [
    "We are going to work on different types of Machine Learning problems:\n",
    "\n",
    "- **Regression Problem**: The goal is to predict delay of flights.\n",
    "- **(Stretch) Multiclass Classification**: If the plane was delayed, we will predict what type of delay it is (will be).\n",
    "- **(Stretch) Binary Classification**: The goal is to predict if the flight will be cancelled."
   ]
  },
  {
   "cell_type": "code",
   "execution_count": 2,
   "metadata": {},
   "outputs": [],
   "source": [
    "import pandas as pd\n",
    "import numpy as np"
   ]
  },
  {
   "cell_type": "markdown",
   "metadata": {},
   "source": [
    "## Main Task: Regression Problem"
   ]
  },
  {
   "cell_type": "markdown",
   "metadata": {},
   "source": [
    "The target variable is **ARR_DELAY**. We need to be careful which columns to use and which don't. For example, DEP_DELAY is going to be the perfect predictor, but we can't use it because in real-life scenario, we want to predict the delay before the flight takes of --> We can use average delay from earlier days but not the one from the actual flight we predict.  \n",
    "\n",
    "For example, variables **CARRIER_DELAY, WEATHER_DELAY, NAS_DELAY, SECURITY_DELAY, LATE_AIRCRAFT_DELAY** shouldn't be used directly as predictors as well. However, we can create various transformations from earlier values.\n",
    "\n",
    "We will be evaluating your models by predicting the ARR_DELAY for all flights **1 week in advance**."
   ]
  },
  {
   "cell_type": "code",
   "execution_count": null,
   "metadata": {},
   "outputs": [],
   "source": []
  },
  {
   "cell_type": "code",
   "execution_count": null,
   "metadata": {},
   "outputs": [],
   "source": []
  },
  {
   "cell_type": "code",
   "execution_count": null,
   "metadata": {},
   "outputs": [],
   "source": []
  },
  {
   "cell_type": "code",
   "execution_count": null,
   "metadata": {},
   "outputs": [],
   "source": []
  },
  {
   "cell_type": "markdown",
   "metadata": {},
   "source": [
    "### Feature Engineering"
   ]
  },
  {
   "cell_type": "markdown",
   "metadata": {},
   "source": [
    "Feature engineering will play a crucial role in this problems. We have only very little attributes so we need to create some features that will have some predictive power.\n",
    "\n",
    "- weather: we can use some weather API to look for the weather in time of the scheduled departure and scheduled arrival.\n",
    "- statistics (avg, mean, median, std, min, max...): we can take a look at previous delays and compute descriptive statistics\n",
    "- airports encoding: we need to think about what to do with the airports and other categorical variables\n",
    "- time of the day: the delay probably depends on the airport traffic which varies during the day.\n",
    "- airport traffic\n",
    "- unsupervised learning as feature engineering?\n",
    "- **what are the additional options?**: Think about what we could do more to improve the model."
   ]
  },
  {
   "cell_type": "code",
   "execution_count": 173,
   "metadata": {},
   "outputs": [],
   "source": [
    "# filename = './_flights_fix2.csv'\n",
    "# df = pd.read_csv(filename, engine='c', low_memory=False)\n",
    "# # update dtypes\n",
    "# str_obj = ['mkt_unique_carrier', 'op_unique_carrier', 'origin_city_name', 'dest_city_name']\n",
    "# date_obj = ['fl_date']\n",
    "# id_obj = ['origin_airport_id', 'dest_airport_id']\n",
    "# time_obj = ['crs_dep_time', 'dep_time', 'crs_arr_time', 'arr_time']\n",
    "# # df[date_obj] = df[date_obj].astype(dtype='datetime64[ns]')\n",
    "# df[date_obj] = df[date_obj].astype(dtype='string')\n",
    "# df[str_obj] = df[str_obj].astype(dtype='string')\n",
    "# df[id_obj] = df[id_obj].astype(dtype='int16')\n",
    "# df.iloc[:, 7:] = df.iloc[:, 7:].astype(dtype='int16')\n",
    "# # update time obj\n",
    "# for t in time_obj:\n",
    "#     df[t] = df[t].astype(dtype='string').str.zfill(4)\n",
    "#     df[t].replace(to_replace={'2400': '0000'}, inplace=True)\n",
    "#     df[t] = df['fl_date'] + df[t]\n",
    "#     df[t] = pd.to_datetime(df[t], format='%Y-%m-%d%H%M', errors='coerce')\n",
    "# df.info()"
   ]
  },
  {
   "cell_type": "code",
   "execution_count": 172,
   "metadata": {},
   "outputs": [],
   "source": [
    "# df[(df['arr_delay'] > 0) & (df.iloc[:, 19:].sum(axis=1) == 0)].iloc[:, 9:].sort_values(by=['arr_delay'], ascending=False)\n",
    "# _df = df[df['arr_delay'] > 0].copy()\n",
    "# _df.insert(loc=19, column='traffic_delay', value=0)\n",
    "# _df['traffic_delay'] = _df['actual_elapsed_time'] - _df['crs_elapsed_time']\n",
    "# _df.iloc[:, 14:].sort_values(by=['traffic_delay'], ascending=False).head()"
   ]
  },
  {
   "cell_type": "code",
   "execution_count": 171,
   "metadata": {},
   "outputs": [],
   "source": [
    "# dff = df[(df['arr_delay'] > 0) & (df.iloc[:, 19:].sum(axis=1) > 0)][\n",
    "#     [\n",
    "#         # 'fl_date',            # check_weather\n",
    "#         'arr_delay',          # target value (y)\n",
    "#         'mkt_unique_carrier', # category for avg_carrier_delay\n",
    "#         'origin_airport_id',  # dep_weather\n",
    "#         'origin_city_name',   # check_weather\n",
    "#         'crs_dep_time',       # avg_dep_traffic / check_weather\n",
    "#         'dest_airport_id',    # arr_weather\n",
    "#         'dest_city_name',     # check_weather\n",
    "#         'crs_arr_time',       # avg_arr_traffic / check_weather\n",
    "#         # 'crs_elapsed_time',   # this one should work the same as distance, pick 1/2\n",
    "#         'distance',           # this one should work the same as crs_elapsed_time, pick 1/2\n",
    "#         'carrier_delay',      # avg_carrier_delay\n",
    "#         'weather_delay',      # avg_extreme_weather_delay, based on weather info, should be 0 for most\n",
    "#         'nas_delay',          # this relates to air_traffic and weather_effect\n",
    "#         'security_delay',     # very minimal impact, drop column later\n",
    "#         'late_aircraft_delay' # avg_late_aircraft_delay\n",
    "#     ]\n",
    "# ]\n",
    "# dff.drop(index=dff[dff['security_delay'] > 0].index, inplace=True)\n",
    "# dff.drop(columns=['security_delay'], inplace=True)\n",
    "# dff.to_csv('./_flights_feat.csv', index=False)"
   ]
  },
  {
   "cell_type": "code",
   "execution_count": 3,
   "metadata": {},
   "outputs": [
    {
     "name": "stdout",
     "output_type": "stream",
     "text": [
      "<class 'pandas.core.frame.DataFrame'>\n",
      "RangeIndex: 5407500 entries, 0 to 5407499\n",
      "Data columns (total 13 columns):\n",
      " #   Column               Dtype         \n",
      "---  ------               -----         \n",
      " 0   arr_delay            int16         \n",
      " 1   mkt_unique_carrier   string        \n",
      " 2   origin               string        \n",
      " 3   crs_dep_time         datetime64[ns]\n",
      " 4   dest                 string        \n",
      " 5   crs_arr_time         datetime64[ns]\n",
      " 6   crs_elapsed_time     int16         \n",
      " 7   actual_elapsed_time  int16         \n",
      " 8   distance             int16         \n",
      " 9   carrier_delay        int16         \n",
      " 10  weather_delay        int16         \n",
      " 11  nas_delay            int16         \n",
      " 12  late_aircraft_delay  int16         \n",
      "dtypes: datetime64[ns](2), int16(8), string(3)\n",
      "memory usage: 288.8 MB\n"
     ]
    }
   ],
   "source": [
    "filename = '../_flights_feat.csv'\n",
    "df = pd.read_csv(filename, engine='c', low_memory=False)\n",
    "# update dtypes\n",
    "df.iloc[:, :1] = df.iloc[:, :1].astype(dtype='int16')\n",
    "str_obj = ['mkt_unique_carrier', 'origin', 'dest']\n",
    "time_obj = ['crs_dep_time', 'crs_arr_time']\n",
    "df[str_obj] = df[str_obj].astype(dtype='string')\n",
    "df[time_obj] = df[time_obj].astype(dtype='datetime64[ns]')\n",
    "df.iloc[:, 6:] = df.iloc[:, 6:].astype(dtype='int16')\n",
    "df.info()"
   ]
  },
  {
   "cell_type": "code",
   "execution_count": 38,
   "metadata": {},
   "outputs": [
    {
     "data": {
      "text/html": [
       "<div>\n",
       "<style scoped>\n",
       "    .dataframe tbody tr th:only-of-type {\n",
       "        vertical-align: middle;\n",
       "    }\n",
       "\n",
       "    .dataframe tbody tr th {\n",
       "        vertical-align: top;\n",
       "    }\n",
       "\n",
       "    .dataframe thead th {\n",
       "        text-align: right;\n",
       "    }\n",
       "</style>\n",
       "<table border=\"1\" class=\"dataframe\">\n",
       "  <thead>\n",
       "    <tr style=\"text-align: right;\">\n",
       "      <th></th>\n",
       "      <th>arr_delay</th>\n",
       "      <th>mkt_unique_carrier</th>\n",
       "      <th>origin</th>\n",
       "      <th>crs_dep_time</th>\n",
       "      <th>dest</th>\n",
       "      <th>crs_arr_time</th>\n",
       "      <th>crs_elapsed_time</th>\n",
       "      <th>actual_elapsed_time</th>\n",
       "      <th>distance</th>\n",
       "      <th>carrier_delay</th>\n",
       "      <th>weather_delay</th>\n",
       "      <th>nas_delay</th>\n",
       "      <th>late_aircraft_delay</th>\n",
       "    </tr>\n",
       "  </thead>\n",
       "  <tbody>\n",
       "    <tr>\n",
       "      <th>0</th>\n",
       "      <td>38</td>\n",
       "      <td>DL</td>\n",
       "      <td>FLL</td>\n",
       "      <td>2018-07-30 12:42:00</td>\n",
       "      <td>ATL</td>\n",
       "      <td>2018-07-30 14:42:00</td>\n",
       "      <td>120</td>\n",
       "      <td>152</td>\n",
       "      <td>581</td>\n",
       "      <td>6</td>\n",
       "      <td>0</td>\n",
       "      <td>32</td>\n",
       "      <td>0</td>\n",
       "    </tr>\n",
       "    <tr>\n",
       "      <th>1</th>\n",
       "      <td>13</td>\n",
       "      <td>DL</td>\n",
       "      <td>MSP</td>\n",
       "      <td>2018-07-30 20:31:00</td>\n",
       "      <td>SFO</td>\n",
       "      <td>2018-07-30 22:50:00</td>\n",
       "      <td>259</td>\n",
       "      <td>274</td>\n",
       "      <td>1589</td>\n",
       "      <td>0</td>\n",
       "      <td>0</td>\n",
       "      <td>0</td>\n",
       "      <td>0</td>\n",
       "    </tr>\n",
       "    <tr>\n",
       "      <th>2</th>\n",
       "      <td>21</td>\n",
       "      <td>DL</td>\n",
       "      <td>MDW</td>\n",
       "      <td>2018-07-30 06:00:00</td>\n",
       "      <td>ATL</td>\n",
       "      <td>2018-07-30 08:49:00</td>\n",
       "      <td>109</td>\n",
       "      <td>128</td>\n",
       "      <td>591</td>\n",
       "      <td>0</td>\n",
       "      <td>0</td>\n",
       "      <td>21</td>\n",
       "      <td>0</td>\n",
       "    </tr>\n",
       "    <tr>\n",
       "      <th>3</th>\n",
       "      <td>6</td>\n",
       "      <td>DL</td>\n",
       "      <td>ALB</td>\n",
       "      <td>2018-07-30 18:15:00</td>\n",
       "      <td>ATL</td>\n",
       "      <td>2018-07-30 20:53:00</td>\n",
       "      <td>158</td>\n",
       "      <td>146</td>\n",
       "      <td>853</td>\n",
       "      <td>0</td>\n",
       "      <td>0</td>\n",
       "      <td>0</td>\n",
       "      <td>0</td>\n",
       "    </tr>\n",
       "    <tr>\n",
       "      <th>4</th>\n",
       "      <td>18</td>\n",
       "      <td>DL</td>\n",
       "      <td>ATL</td>\n",
       "      <td>2018-07-30 15:11:00</td>\n",
       "      <td>ALB</td>\n",
       "      <td>2018-07-30 17:35:00</td>\n",
       "      <td>144</td>\n",
       "      <td>149</td>\n",
       "      <td>853</td>\n",
       "      <td>0</td>\n",
       "      <td>0</td>\n",
       "      <td>18</td>\n",
       "      <td>0</td>\n",
       "    </tr>\n",
       "  </tbody>\n",
       "</table>\n",
       "</div>"
      ],
      "text/plain": [
       "   arr_delay mkt_unique_carrier origin        crs_dep_time dest  \\\n",
       "0         38                 DL    FLL 2018-07-30 12:42:00  ATL   \n",
       "1         13                 DL    MSP 2018-07-30 20:31:00  SFO   \n",
       "2         21                 DL    MDW 2018-07-30 06:00:00  ATL   \n",
       "3          6                 DL    ALB 2018-07-30 18:15:00  ATL   \n",
       "4         18                 DL    ATL 2018-07-30 15:11:00  ALB   \n",
       "\n",
       "         crs_arr_time  crs_elapsed_time  actual_elapsed_time  distance  \\\n",
       "0 2018-07-30 14:42:00               120                  152       581   \n",
       "1 2018-07-30 22:50:00               259                  274      1589   \n",
       "2 2018-07-30 08:49:00               109                  128       591   \n",
       "3 2018-07-30 20:53:00               158                  146       853   \n",
       "4 2018-07-30 17:35:00               144                  149       853   \n",
       "\n",
       "   carrier_delay  weather_delay  nas_delay  late_aircraft_delay  \n",
       "0              6              0         32                    0  \n",
       "1              0              0          0                    0  \n",
       "2              0              0         21                    0  \n",
       "3              0              0          0                    0  \n",
       "4              0              0         18                    0  "
      ]
     },
     "execution_count": 38,
     "metadata": {},
     "output_type": "execute_result"
    }
   ],
   "source": [
    "df.head()"
   ]
  },
  {
   "cell_type": "code",
   "execution_count": 46,
   "metadata": {},
   "outputs": [
    {
     "data": {
      "text/plain": [
       "count    5.407500e+06\n",
       "mean     1.426102e+00\n",
       "std      1.201950e+01\n",
       "min      0.000000e+00\n",
       "25%      0.000000e+00\n",
       "50%      0.000000e+00\n",
       "75%      0.000000e+00\n",
       "max      2.990000e+02\n",
       "Name: weather_delay, dtype: float64"
      ]
     },
     "execution_count": 46,
     "metadata": {},
     "output_type": "execute_result"
    }
   ],
   "source": [
    "# df[df['weather_delay'] >= 30].sort_values(by=['weather_delay']).head(10)\n",
    "df['weather_delay'].describe()"
   ]
  },
  {
   "cell_type": "code",
   "execution_count": 8,
   "metadata": {},
   "outputs": [
    {
     "name": "stdout",
     "output_type": "stream",
     "text": [
      "<class 'pandas.core.frame.DataFrame'>\n",
      "Int64Index: 403647 entries, 936476 to 4328681\n",
      "Data columns (total 13 columns):\n",
      " #   Column               Non-Null Count   Dtype         \n",
      "---  ------               --------------   -----         \n",
      " 0   arr_delay            403647 non-null  int16         \n",
      " 1   mkt_unique_carrier   403647 non-null  string        \n",
      " 2   origin               403647 non-null  string        \n",
      " 3   crs_dep_time         403647 non-null  datetime64[ns]\n",
      " 4   dest                 403647 non-null  string        \n",
      " 5   crs_arr_time         403647 non-null  datetime64[ns]\n",
      " 6   crs_elapsed_time     403647 non-null  int16         \n",
      " 7   actual_elapsed_time  403647 non-null  int16         \n",
      " 8   distance             403647 non-null  int16         \n",
      " 9   carrier_delay        403647 non-null  int16         \n",
      " 10  weather_delay        403647 non-null  int16         \n",
      " 11  nas_delay            403647 non-null  int16         \n",
      " 12  late_aircraft_delay  403647 non-null  int16         \n",
      "dtypes: datetime64[ns](2), int16(8), string(3)\n",
      "memory usage: 24.6 MB\n"
     ]
    }
   ],
   "source": [
    "df_ = df[\n",
    "    # (df['crs_dep_time'].dt.month == 1) & (df['crs_dep_time'].dt.day <= 7)\n",
    "    df['crs_dep_time'].dt.month == 1\n",
    "].copy()\n",
    "df_.info()"
   ]
  },
  {
   "cell_type": "code",
   "execution_count": 9,
   "metadata": {},
   "outputs": [
    {
     "data": {
      "text/plain": [
       "count    403647.000000\n",
       "mean         34.861721\n",
       "std          46.422341\n",
       "min           1.000000\n",
       "25%           7.000000\n",
       "50%          17.000000\n",
       "75%          42.000000\n",
       "max         299.000000\n",
       "Name: arr_delay, dtype: float64"
      ]
     },
     "execution_count": 9,
     "metadata": {},
     "output_type": "execute_result"
    }
   ],
   "source": [
    "df_['arr_delay'].describe()"
   ]
  },
  {
   "cell_type": "markdown",
   "metadata": {},
   "source": [
    "### <span style='color:magenta'> Airport(local) Weather </span>"
   ]
  },
  {
   "cell_type": "code",
   "execution_count": 79,
   "metadata": {},
   "outputs": [
    {
     "data": {
      "text/html": [
       "<div>\n",
       "<style scoped>\n",
       "    .dataframe tbody tr th:only-of-type {\n",
       "        vertical-align: middle;\n",
       "    }\n",
       "\n",
       "    .dataframe tbody tr th {\n",
       "        vertical-align: top;\n",
       "    }\n",
       "\n",
       "    .dataframe thead th {\n",
       "        text-align: right;\n",
       "    }\n",
       "</style>\n",
       "<table border=\"1\" class=\"dataframe\">\n",
       "  <thead>\n",
       "    <tr style=\"text-align: right;\">\n",
       "      <th></th>\n",
       "      <th>IATA</th>\n",
       "    </tr>\n",
       "  </thead>\n",
       "  <tbody>\n",
       "    <tr>\n",
       "      <th>0</th>\n",
       "      <td>ABE</td>\n",
       "    </tr>\n",
       "    <tr>\n",
       "      <th>1</th>\n",
       "      <td>ABI</td>\n",
       "    </tr>\n",
       "    <tr>\n",
       "      <th>2</th>\n",
       "      <td>ABQ</td>\n",
       "    </tr>\n",
       "    <tr>\n",
       "      <th>3</th>\n",
       "      <td>ABR</td>\n",
       "    </tr>\n",
       "    <tr>\n",
       "      <th>4</th>\n",
       "      <td>ABY</td>\n",
       "    </tr>\n",
       "    <tr>\n",
       "      <th>...</th>\n",
       "      <td>...</td>\n",
       "    </tr>\n",
       "    <tr>\n",
       "      <th>358</th>\n",
       "      <td>XNA</td>\n",
       "    </tr>\n",
       "    <tr>\n",
       "      <th>359</th>\n",
       "      <td>YAK</td>\n",
       "    </tr>\n",
       "    <tr>\n",
       "      <th>360</th>\n",
       "      <td>YKM</td>\n",
       "    </tr>\n",
       "    <tr>\n",
       "      <th>361</th>\n",
       "      <td>YNG</td>\n",
       "    </tr>\n",
       "    <tr>\n",
       "      <th>362</th>\n",
       "      <td>YUM</td>\n",
       "    </tr>\n",
       "  </tbody>\n",
       "</table>\n",
       "<p>363 rows × 1 columns</p>\n",
       "</div>"
      ],
      "text/plain": [
       "    IATA\n",
       "0    ABE\n",
       "1    ABI\n",
       "2    ABQ\n",
       "3    ABR\n",
       "4    ABY\n",
       "..   ...\n",
       "358  XNA\n",
       "359  YAK\n",
       "360  YKM\n",
       "361  YNG\n",
       "362  YUM\n",
       "\n",
       "[363 rows x 1 columns]"
      ]
     },
     "execution_count": 79,
     "metadata": {},
     "output_type": "execute_result"
    }
   ],
   "source": [
    "_airports = pd.DataFrame(\n",
    "    {\n",
    "        # 'id': df.groupby(by=['origin_airport_id', 'origin_city_name']).count().index.get_level_values(0),\n",
    "        # 'name': df.groupby(by=['origin_airport_id', 'origin_city_name']).count().index.get_level_values(1)\n",
    "        'IATA': dff.groupby(by=['origin']).count().index\n",
    "    }\n",
    ")\n",
    "# _airports.loc[_airports.iloc[:, 1].duplicated(keep=False)].sort_values(by=['name'])\n",
    "_airports"
   ]
  },
  {
   "cell_type": "code",
   "execution_count": 153,
   "metadata": {},
   "outputs": [
    {
     "name": "stdout",
     "output_type": "stream",
     "text": [
      "<class 'pandas.core.frame.DataFrame'>\n",
      "RangeIndex: 71911 entries, 0 to 71910\n",
      "Data columns (total 18 columns):\n",
      " #   Column             Non-Null Count  Dtype  \n",
      "---  ------             --------------  -----  \n",
      " 0   id                 71911 non-null  int64  \n",
      " 1   ident              71911 non-null  object \n",
      " 2   type               71911 non-null  object \n",
      " 3   name               71911 non-null  object \n",
      " 4   latitude_deg       71911 non-null  float64\n",
      " 5   longitude_deg      71911 non-null  float64\n",
      " 6   elevation_ft       58312 non-null  float64\n",
      " 7   continent          36843 non-null  object \n",
      " 8   iso_country        71652 non-null  object \n",
      " 9   iso_region         71911 non-null  object \n",
      " 10  municipality       66676 non-null  object \n",
      " 11  scheduled_service  71911 non-null  object \n",
      " 12  gps_code           42832 non-null  object \n",
      " 13  iata_code          9252 non-null   object \n",
      " 14  local_code         32649 non-null  object \n",
      " 15  home_link          3404 non-null   object \n",
      " 16  wikipedia_link     10507 non-null  object \n",
      " 17  keywords           13141 non-null  object \n",
      "dtypes: float64(3), int64(1), object(14)\n",
      "memory usage: 9.9+ MB\n"
     ]
    }
   ],
   "source": [
    "airports = pd.read_csv('../airports.csv', engine='c', low_memory=False)\n",
    "airports.info()"
   ]
  },
  {
   "cell_type": "code",
   "execution_count": 154,
   "metadata": {},
   "outputs": [
    {
     "name": "stdout",
     "output_type": "stream",
     "text": [
      "<class 'pandas.core.frame.DataFrame'>\n",
      "RangeIndex: 71911 entries, 0 to 71910\n",
      "Data columns (total 5 columns):\n",
      " #   Column         Non-Null Count  Dtype  \n",
      "---  ------         --------------  -----  \n",
      " 0   name           71911 non-null  string \n",
      " 1   latitude_deg   71911 non-null  float32\n",
      " 2   longitude_deg  71911 non-null  float32\n",
      " 3   elevation_ft   58312 non-null  float32\n",
      " 4   iata_code      9252 non-null   string \n",
      "dtypes: float32(3), string(2)\n",
      "memory usage: 1.9 MB\n"
     ]
    }
   ],
   "source": [
    "airports.drop(\n",
    "    columns=[\n",
    "        'id', 'ident', 'type',\n",
    "        'continent', 'iso_country', 'iso_region', 'municipality',\n",
    "        'scheduled_service', 'gps_code', 'local_code',\n",
    "        'home_link', 'wikipedia_link', 'keywords'\n",
    "    ],\n",
    "    inplace=True\n",
    ")\n",
    "airports.iloc[:, :1] = airports.iloc[:, :1].astype(dtype='string')\n",
    "airports.iloc[:, 1:4] = airports.iloc[:, 1:4].astype(dtype='float32')\n",
    "airports.iloc[:, 4] = airports.iloc[:, 4].astype(dtype='string')\n",
    "airports.info()"
   ]
  },
  {
   "cell_type": "code",
   "execution_count": 155,
   "metadata": {},
   "outputs": [
    {
     "data": {
      "text/html": [
       "<div>\n",
       "<style scoped>\n",
       "    .dataframe tbody tr th:only-of-type {\n",
       "        vertical-align: middle;\n",
       "    }\n",
       "\n",
       "    .dataframe tbody tr th {\n",
       "        vertical-align: top;\n",
       "    }\n",
       "\n",
       "    .dataframe thead th {\n",
       "        text-align: right;\n",
       "    }\n",
       "</style>\n",
       "<table border=\"1\" class=\"dataframe\">\n",
       "  <thead>\n",
       "    <tr style=\"text-align: right;\">\n",
       "      <th></th>\n",
       "      <th>name</th>\n",
       "      <th>latitude_deg</th>\n",
       "      <th>longitude_deg</th>\n",
       "      <th>elevation_ft</th>\n",
       "      <th>iata_code</th>\n",
       "    </tr>\n",
       "  </thead>\n",
       "  <tbody>\n",
       "    <tr>\n",
       "      <th>0</th>\n",
       "      <td>Total Rf Heliport</td>\n",
       "      <td>40.070801</td>\n",
       "      <td>-74.933601</td>\n",
       "      <td>11.0</td>\n",
       "      <td>&lt;NA&gt;</td>\n",
       "    </tr>\n",
       "    <tr>\n",
       "      <th>1</th>\n",
       "      <td>Aero B Ranch Airport</td>\n",
       "      <td>38.704021</td>\n",
       "      <td>-101.473907</td>\n",
       "      <td>3435.0</td>\n",
       "      <td>&lt;NA&gt;</td>\n",
       "    </tr>\n",
       "    <tr>\n",
       "      <th>2</th>\n",
       "      <td>Lowell Field</td>\n",
       "      <td>59.947735</td>\n",
       "      <td>-151.692520</td>\n",
       "      <td>450.0</td>\n",
       "      <td>&lt;NA&gt;</td>\n",
       "    </tr>\n",
       "    <tr>\n",
       "      <th>3</th>\n",
       "      <td>Epps Airpark</td>\n",
       "      <td>34.864799</td>\n",
       "      <td>-86.770302</td>\n",
       "      <td>820.0</td>\n",
       "      <td>&lt;NA&gt;</td>\n",
       "    </tr>\n",
       "    <tr>\n",
       "      <th>4</th>\n",
       "      <td>Newport Hospital &amp; Clinic Heliport</td>\n",
       "      <td>35.608700</td>\n",
       "      <td>-91.254898</td>\n",
       "      <td>237.0</td>\n",
       "      <td>&lt;NA&gt;</td>\n",
       "    </tr>\n",
       "  </tbody>\n",
       "</table>\n",
       "</div>"
      ],
      "text/plain": [
       "                                 name  latitude_deg  longitude_deg  \\\n",
       "0                   Total Rf Heliport     40.070801     -74.933601   \n",
       "1                Aero B Ranch Airport     38.704021    -101.473907   \n",
       "2                        Lowell Field     59.947735    -151.692520   \n",
       "3                        Epps Airpark     34.864799     -86.770302   \n",
       "4  Newport Hospital & Clinic Heliport     35.608700     -91.254898   \n",
       "\n",
       "   elevation_ft iata_code  \n",
       "0          11.0      <NA>  \n",
       "1        3435.0      <NA>  \n",
       "2         450.0      <NA>  \n",
       "3         820.0      <NA>  \n",
       "4         237.0      <NA>  "
      ]
     },
     "execution_count": 155,
     "metadata": {},
     "output_type": "execute_result"
    }
   ],
   "source": [
    "airports.head()"
   ]
  },
  {
   "cell_type": "code",
   "execution_count": 165,
   "metadata": {},
   "outputs": [],
   "source": [
    "# dff_city = pd.DataFrame(data=dff['origin'].values, columns=['IATA'])\n",
    "lat = []\n",
    "lon = []\n",
    "for code in _airports['IATA']:\n",
    "    lat.append(airports[airports['iata_code'] == code]['latitude_deg'].values[0])\n",
    "    lon.append(airports[airports['iata_code'] == code]['longitude_deg'].values[0])\n",
    "# dff_city.insert(loc=1, column='lat', value=lat)\n",
    "# dff_city.insert(loc=2, column='lon', value=lon)\n",
    "_airports.insert(loc=1, column='lat', value=lat)\n",
    "_airports.insert(loc=2, column='lon', value=lon)"
   ]
  },
  {
   "cell_type": "code",
   "execution_count": 166,
   "metadata": {},
   "outputs": [
    {
     "data": {
      "text/plain": [
       "IATA    0\n",
       "lat     0\n",
       "lon     0\n",
       "dtype: int64"
      ]
     },
     "execution_count": 166,
     "metadata": {},
     "output_type": "execute_result"
    }
   ],
   "source": [
    "_airports.isnull().sum()"
   ]
  },
  {
   "cell_type": "code",
   "execution_count": 167,
   "metadata": {},
   "outputs": [
    {
     "data": {
      "text/html": [
       "<div>\n",
       "<style scoped>\n",
       "    .dataframe tbody tr th:only-of-type {\n",
       "        vertical-align: middle;\n",
       "    }\n",
       "\n",
       "    .dataframe tbody tr th {\n",
       "        vertical-align: top;\n",
       "    }\n",
       "\n",
       "    .dataframe thead th {\n",
       "        text-align: right;\n",
       "    }\n",
       "</style>\n",
       "<table border=\"1\" class=\"dataframe\">\n",
       "  <thead>\n",
       "    <tr style=\"text-align: right;\">\n",
       "      <th></th>\n",
       "      <th>IATA</th>\n",
       "      <th>lat</th>\n",
       "      <th>lon</th>\n",
       "    </tr>\n",
       "  </thead>\n",
       "  <tbody>\n",
       "    <tr>\n",
       "      <th>0</th>\n",
       "      <td>ABE</td>\n",
       "      <td>40.651772</td>\n",
       "      <td>-75.442795</td>\n",
       "    </tr>\n",
       "    <tr>\n",
       "      <th>1</th>\n",
       "      <td>ABI</td>\n",
       "      <td>32.411301</td>\n",
       "      <td>-99.681900</td>\n",
       "    </tr>\n",
       "    <tr>\n",
       "      <th>2</th>\n",
       "      <td>ABQ</td>\n",
       "      <td>35.040199</td>\n",
       "      <td>-106.609001</td>\n",
       "    </tr>\n",
       "    <tr>\n",
       "      <th>3</th>\n",
       "      <td>ABR</td>\n",
       "      <td>45.449100</td>\n",
       "      <td>-98.421799</td>\n",
       "    </tr>\n",
       "    <tr>\n",
       "      <th>4</th>\n",
       "      <td>ABY</td>\n",
       "      <td>31.532946</td>\n",
       "      <td>-84.196213</td>\n",
       "    </tr>\n",
       "  </tbody>\n",
       "</table>\n",
       "</div>"
      ],
      "text/plain": [
       "  IATA        lat         lon\n",
       "0  ABE  40.651772  -75.442795\n",
       "1  ABI  32.411301  -99.681900\n",
       "2  ABQ  35.040199 -106.609001\n",
       "3  ABR  45.449100  -98.421799\n",
       "4  ABY  31.532946  -84.196213"
      ]
     },
     "execution_count": 167,
     "metadata": {},
     "output_type": "execute_result"
    }
   ],
   "source": [
    "_airports.head()"
   ]
  },
  {
   "cell_type": "code",
   "execution_count": null,
   "metadata": {},
   "outputs": [],
   "source": [
    "from meteostat import Point, Daily\n",
    "from datetime import datetime\n",
    "\n",
    "weather18w1 = []\n",
    "for i in _airports.index:\n",
    "    loc = Point(_airports.iloc[i, 1], _airports.iloc[i, 2])\n",
    "    start = datetime(2018, 1, 1)\n",
    "    end = datetime(2018, 1, 7)\n",
    "    data = Daily(loc=loc, start=start, end=end)\n",
    "    data = data.fetch()\n",
    "    weather18w1.append(data)"
   ]
  },
  {
   "cell_type": "code",
   "execution_count": null,
   "metadata": {},
   "outputs": [],
   "source": []
  },
  {
   "cell_type": "markdown",
   "metadata": {},
   "source": [
    "### <span style='color:royalblue'> Feature Engineering </span>"
   ]
  },
  {
   "cell_type": "code",
   "execution_count": 10,
   "metadata": {},
   "outputs": [
    {
     "data": {
      "text/html": [
       "<div>\n",
       "<style scoped>\n",
       "    .dataframe tbody tr th:only-of-type {\n",
       "        vertical-align: middle;\n",
       "    }\n",
       "\n",
       "    .dataframe tbody tr th {\n",
       "        vertical-align: top;\n",
       "    }\n",
       "\n",
       "    .dataframe thead th {\n",
       "        text-align: right;\n",
       "    }\n",
       "</style>\n",
       "<table border=\"1\" class=\"dataframe\">\n",
       "  <thead>\n",
       "    <tr style=\"text-align: right;\">\n",
       "      <th></th>\n",
       "      <th>arr_delay</th>\n",
       "      <th>mkt_unique_carrier</th>\n",
       "      <th>origin</th>\n",
       "      <th>crs_dep_time</th>\n",
       "      <th>dest</th>\n",
       "      <th>crs_arr_time</th>\n",
       "      <th>crs_elapsed_time</th>\n",
       "      <th>actual_elapsed_time</th>\n",
       "      <th>distance</th>\n",
       "      <th>carrier_delay</th>\n",
       "      <th>weather_delay</th>\n",
       "      <th>nas_delay</th>\n",
       "      <th>late_aircraft_delay</th>\n",
       "    </tr>\n",
       "  </thead>\n",
       "  <tbody>\n",
       "    <tr>\n",
       "      <th>936476</th>\n",
       "      <td>58</td>\n",
       "      <td>DL</td>\n",
       "      <td>OMA</td>\n",
       "      <td>2018-01-01 08:15:00</td>\n",
       "      <td>DTW</td>\n",
       "      <td>2018-01-01 11:21:00</td>\n",
       "      <td>126</td>\n",
       "      <td>137</td>\n",
       "      <td>651</td>\n",
       "      <td>47</td>\n",
       "      <td>0</td>\n",
       "      <td>11</td>\n",
       "      <td>0</td>\n",
       "    </tr>\n",
       "    <tr>\n",
       "      <th>936477</th>\n",
       "      <td>23</td>\n",
       "      <td>DL</td>\n",
       "      <td>MSP</td>\n",
       "      <td>2018-01-01 15:05:00</td>\n",
       "      <td>BIS</td>\n",
       "      <td>2018-01-01 16:50:00</td>\n",
       "      <td>105</td>\n",
       "      <td>86</td>\n",
       "      <td>386</td>\n",
       "      <td>23</td>\n",
       "      <td>0</td>\n",
       "      <td>0</td>\n",
       "      <td>0</td>\n",
       "    </tr>\n",
       "    <tr>\n",
       "      <th>936478</th>\n",
       "      <td>28</td>\n",
       "      <td>DL</td>\n",
       "      <td>BNA</td>\n",
       "      <td>2018-01-01 07:00:00</td>\n",
       "      <td>MCO</td>\n",
       "      <td>2018-01-01 10:03:00</td>\n",
       "      <td>123</td>\n",
       "      <td>154</td>\n",
       "      <td>616</td>\n",
       "      <td>0</td>\n",
       "      <td>0</td>\n",
       "      <td>28</td>\n",
       "      <td>0</td>\n",
       "    </tr>\n",
       "    <tr>\n",
       "      <th>936479</th>\n",
       "      <td>20</td>\n",
       "      <td>DL</td>\n",
       "      <td>MCO</td>\n",
       "      <td>2018-01-01 10:38:00</td>\n",
       "      <td>BNA</td>\n",
       "      <td>2018-01-01 11:40:00</td>\n",
       "      <td>122</td>\n",
       "      <td>120</td>\n",
       "      <td>616</td>\n",
       "      <td>0</td>\n",
       "      <td>0</td>\n",
       "      <td>0</td>\n",
       "      <td>20</td>\n",
       "    </tr>\n",
       "    <tr>\n",
       "      <th>936480</th>\n",
       "      <td>67</td>\n",
       "      <td>DL</td>\n",
       "      <td>BOS</td>\n",
       "      <td>2018-01-01 13:20:00</td>\n",
       "      <td>JFK</td>\n",
       "      <td>2018-01-01 14:50:00</td>\n",
       "      <td>90</td>\n",
       "      <td>84</td>\n",
       "      <td>187</td>\n",
       "      <td>67</td>\n",
       "      <td>0</td>\n",
       "      <td>0</td>\n",
       "      <td>0</td>\n",
       "    </tr>\n",
       "  </tbody>\n",
       "</table>\n",
       "</div>"
      ],
      "text/plain": [
       "        arr_delay mkt_unique_carrier origin        crs_dep_time dest  \\\n",
       "936476         58                 DL    OMA 2018-01-01 08:15:00  DTW   \n",
       "936477         23                 DL    MSP 2018-01-01 15:05:00  BIS   \n",
       "936478         28                 DL    BNA 2018-01-01 07:00:00  MCO   \n",
       "936479         20                 DL    MCO 2018-01-01 10:38:00  BNA   \n",
       "936480         67                 DL    BOS 2018-01-01 13:20:00  JFK   \n",
       "\n",
       "              crs_arr_time  crs_elapsed_time  actual_elapsed_time  distance  \\\n",
       "936476 2018-01-01 11:21:00               126                  137       651   \n",
       "936477 2018-01-01 16:50:00               105                   86       386   \n",
       "936478 2018-01-01 10:03:00               123                  154       616   \n",
       "936479 2018-01-01 11:40:00               122                  120       616   \n",
       "936480 2018-01-01 14:50:00                90                   84       187   \n",
       "\n",
       "        carrier_delay  weather_delay  nas_delay  late_aircraft_delay  \n",
       "936476             47              0         11                    0  \n",
       "936477             23              0          0                    0  \n",
       "936478              0              0         28                    0  \n",
       "936479              0              0          0                   20  \n",
       "936480             67              0          0                    0  "
      ]
     },
     "execution_count": 10,
     "metadata": {},
     "output_type": "execute_result"
    }
   ],
   "source": [
    "dff = df_.copy()\n",
    "# dff.drop(columns=['arr_delay'], inplace=True)\n",
    "dff.head()"
   ]
  },
  {
   "cell_type": "code",
   "execution_count": 11,
   "metadata": {},
   "outputs": [
    {
     "data": {
      "text/html": [
       "<div>\n",
       "<style scoped>\n",
       "    .dataframe tbody tr th:only-of-type {\n",
       "        vertical-align: middle;\n",
       "    }\n",
       "\n",
       "    .dataframe tbody tr th {\n",
       "        vertical-align: top;\n",
       "    }\n",
       "\n",
       "    .dataframe thead th {\n",
       "        text-align: right;\n",
       "    }\n",
       "</style>\n",
       "<table border=\"1\" class=\"dataframe\">\n",
       "  <thead>\n",
       "    <tr style=\"text-align: right;\">\n",
       "      <th></th>\n",
       "      <th>arr_delay</th>\n",
       "      <th>mkt_unique_carrier</th>\n",
       "      <th>origin</th>\n",
       "      <th>crs_dep_time</th>\n",
       "      <th>dest</th>\n",
       "      <th>crs_arr_time</th>\n",
       "      <th>crs_elapsed_time</th>\n",
       "      <th>actual_elapsed_time</th>\n",
       "      <th>distance</th>\n",
       "      <th>carrier_delay</th>\n",
       "      <th>weather_delay</th>\n",
       "      <th>late_aircraft_delay</th>\n",
       "    </tr>\n",
       "  </thead>\n",
       "  <tbody>\n",
       "    <tr>\n",
       "      <th>936476</th>\n",
       "      <td>58</td>\n",
       "      <td>DL</td>\n",
       "      <td>OMA</td>\n",
       "      <td>2018-01-01 08:15:00</td>\n",
       "      <td>DTW</td>\n",
       "      <td>2018-01-01 11:21:00</td>\n",
       "      <td>126</td>\n",
       "      <td>137</td>\n",
       "      <td>651</td>\n",
       "      <td>10.095979</td>\n",
       "      <td>12.669184</td>\n",
       "      <td>13.685801</td>\n",
       "    </tr>\n",
       "    <tr>\n",
       "      <th>936477</th>\n",
       "      <td>23</td>\n",
       "      <td>DL</td>\n",
       "      <td>MSP</td>\n",
       "      <td>2018-01-01 15:05:00</td>\n",
       "      <td>BIS</td>\n",
       "      <td>2018-01-01 16:50:00</td>\n",
       "      <td>105</td>\n",
       "      <td>86</td>\n",
       "      <td>386</td>\n",
       "      <td>10.095979</td>\n",
       "      <td>13.270658</td>\n",
       "      <td>8.634184</td>\n",
       "    </tr>\n",
       "    <tr>\n",
       "      <th>936478</th>\n",
       "      <td>28</td>\n",
       "      <td>DL</td>\n",
       "      <td>BNA</td>\n",
       "      <td>2018-01-01 07:00:00</td>\n",
       "      <td>MCO</td>\n",
       "      <td>2018-01-01 10:03:00</td>\n",
       "      <td>123</td>\n",
       "      <td>154</td>\n",
       "      <td>616</td>\n",
       "      <td>10.095979</td>\n",
       "      <td>11.223508</td>\n",
       "      <td>13.389918</td>\n",
       "    </tr>\n",
       "    <tr>\n",
       "      <th>936479</th>\n",
       "      <td>20</td>\n",
       "      <td>DL</td>\n",
       "      <td>MCO</td>\n",
       "      <td>2018-01-01 10:38:00</td>\n",
       "      <td>BNA</td>\n",
       "      <td>2018-01-01 11:40:00</td>\n",
       "      <td>122</td>\n",
       "      <td>120</td>\n",
       "      <td>616</td>\n",
       "      <td>10.095979</td>\n",
       "      <td>8.109836</td>\n",
       "      <td>12.284836</td>\n",
       "    </tr>\n",
       "    <tr>\n",
       "      <th>936480</th>\n",
       "      <td>67</td>\n",
       "      <td>DL</td>\n",
       "      <td>BOS</td>\n",
       "      <td>2018-01-01 13:20:00</td>\n",
       "      <td>JFK</td>\n",
       "      <td>2018-01-01 14:50:00</td>\n",
       "      <td>90</td>\n",
       "      <td>84</td>\n",
       "      <td>187</td>\n",
       "      <td>10.095979</td>\n",
       "      <td>14.735357</td>\n",
       "      <td>17.107649</td>\n",
       "    </tr>\n",
       "  </tbody>\n",
       "</table>\n",
       "</div>"
      ],
      "text/plain": [
       "        arr_delay mkt_unique_carrier origin        crs_dep_time dest  \\\n",
       "936476         58                 DL    OMA 2018-01-01 08:15:00  DTW   \n",
       "936477         23                 DL    MSP 2018-01-01 15:05:00  BIS   \n",
       "936478         28                 DL    BNA 2018-01-01 07:00:00  MCO   \n",
       "936479         20                 DL    MCO 2018-01-01 10:38:00  BNA   \n",
       "936480         67                 DL    BOS 2018-01-01 13:20:00  JFK   \n",
       "\n",
       "              crs_arr_time  crs_elapsed_time  actual_elapsed_time  distance  \\\n",
       "936476 2018-01-01 11:21:00               126                  137       651   \n",
       "936477 2018-01-01 16:50:00               105                   86       386   \n",
       "936478 2018-01-01 10:03:00               123                  154       616   \n",
       "936479 2018-01-01 11:40:00               122                  120       616   \n",
       "936480 2018-01-01 14:50:00                90                   84       187   \n",
       "\n",
       "        carrier_delay  weather_delay  late_aircraft_delay  \n",
       "936476      10.095979      12.669184            13.685801  \n",
       "936477      10.095979      13.270658             8.634184  \n",
       "936478      10.095979      11.223508            13.389918  \n",
       "936479      10.095979       8.109836            12.284836  \n",
       "936480      10.095979      14.735357            17.107649  "
      ]
     },
     "execution_count": 11,
     "metadata": {},
     "output_type": "execute_result"
    }
   ],
   "source": [
    "carrier_delay = dff.groupby(by='mkt_unique_carrier')['carrier_delay'].mean()\n",
    "for i in carrier_delay.index:\n",
    "    dff.loc[dff[dff['mkt_unique_carrier'] == i].index, ['carrier_delay']] = carrier_delay.loc[i]\n",
    "\n",
    "dff['weather_delay'] += dff['nas_delay']\n",
    "dff.drop(columns=['nas_delay'], inplace=True)\n",
    "weather_delay = dff.groupby(by='origin')['weather_delay'].mean()\n",
    "for i in weather_delay.index:\n",
    "    dff.loc[dff[dff['origin'] == i].index, ['weather_delay']] = weather_delay.loc[i]\n",
    "\n",
    "late_aircraft_delay = dff.groupby(by='origin')['late_aircraft_delay'].mean()\n",
    "for i in late_aircraft_delay.index:\n",
    "    dff.loc[dff[dff['origin'] == i].index, ['late_aircraft_delay']] = late_aircraft_delay.loc[i]\n",
    "\n",
    "dff.head()"
   ]
  },
  {
   "cell_type": "code",
   "execution_count": 12,
   "metadata": {},
   "outputs": [
    {
     "name": "stdout",
     "output_type": "stream",
     "text": [
      "<class 'pandas.core.frame.DataFrame'>\n",
      "Int64Index: 403647 entries, 936476 to 4328681\n",
      "Data columns (total 6 columns):\n",
      " #   Column               Non-Null Count   Dtype  \n",
      "---  ------               --------------   -----  \n",
      " 0   arr_delay            403647 non-null  int16  \n",
      " 1   mkt_unique_carrier   403647 non-null  string \n",
      " 2   distance             403647 non-null  int16  \n",
      " 3   carrier_delay        403647 non-null  float64\n",
      " 4   weather_delay        403647 non-null  float64\n",
      " 5   late_aircraft_delay  403647 non-null  float64\n",
      "dtypes: float64(3), int16(2), string(1)\n",
      "memory usage: 25.0 MB\n"
     ]
    }
   ],
   "source": [
    "_df = dff[[\n",
    "    'arr_delay',\n",
    "    'mkt_unique_carrier',\n",
    "    'distance',\n",
    "    'carrier_delay',\n",
    "    'weather_delay',\n",
    "    'late_aircraft_delay'\n",
    "]].copy()\n",
    "_df.info()"
   ]
  },
  {
   "cell_type": "code",
   "execution_count": 13,
   "metadata": {},
   "outputs": [
    {
     "name": "stdout",
     "output_type": "stream",
     "text": [
      "<class 'pandas.core.frame.DataFrame'>\n",
      "Int64Index: 401851 entries, 936476 to 4328681\n",
      "Data columns (total 6 columns):\n",
      " #   Column               Non-Null Count   Dtype  \n",
      "---  ------               --------------   -----  \n",
      " 0   arr_delay            401851 non-null  int16  \n",
      " 1   mkt_unique_carrier   401851 non-null  string \n",
      " 2   distance             401851 non-null  int16  \n",
      " 3   carrier_delay        401851 non-null  float64\n",
      " 4   weather_delay        401851 non-null  float64\n",
      " 5   late_aircraft_delay  401851 non-null  float64\n",
      "dtypes: float64(3), int16(2), string(1)\n",
      "memory usage: 16.9 MB\n"
     ]
    }
   ],
   "source": [
    "_df.drop(\n",
    "    index=_df[_df['mkt_unique_carrier'] == 'VX'].index,\n",
    "    inplace=True\n",
    ")\n",
    "_df.info()"
   ]
  },
  {
   "cell_type": "code",
   "execution_count": 14,
   "metadata": {},
   "outputs": [
    {
     "name": "stdout",
     "output_type": "stream",
     "text": [
      "<class 'pandas.core.series.Series'>\n",
      "Int64Index: 401851 entries, 936476 to 4328681\n",
      "Series name: arr_delay\n",
      "Non-Null Count   Dtype\n",
      "--------------   -----\n",
      "401851 non-null  int16\n",
      "dtypes: int16(1)\n",
      "memory usage: 3.8 MB\n"
     ]
    }
   ],
   "source": [
    "target = _df['arr_delay'].copy()\n",
    "target.info()"
   ]
  },
  {
   "cell_type": "code",
   "execution_count": 15,
   "metadata": {},
   "outputs": [
    {
     "data": {
      "text/html": [
       "<div>\n",
       "<style scoped>\n",
       "    .dataframe tbody tr th:only-of-type {\n",
       "        vertical-align: middle;\n",
       "    }\n",
       "\n",
       "    .dataframe tbody tr th {\n",
       "        vertical-align: top;\n",
       "    }\n",
       "\n",
       "    .dataframe thead th {\n",
       "        text-align: right;\n",
       "    }\n",
       "</style>\n",
       "<table border=\"1\" class=\"dataframe\">\n",
       "  <thead>\n",
       "    <tr style=\"text-align: right;\">\n",
       "      <th></th>\n",
       "      <th>distance</th>\n",
       "      <th>carrier_delay</th>\n",
       "      <th>weather_delay</th>\n",
       "      <th>late_aircraft_delay</th>\n",
       "      <th>AA</th>\n",
       "      <th>AS</th>\n",
       "      <th>B6</th>\n",
       "      <th>DL</th>\n",
       "      <th>F9</th>\n",
       "      <th>G4</th>\n",
       "      <th>HA</th>\n",
       "      <th>NK</th>\n",
       "      <th>UA</th>\n",
       "      <th>WN</th>\n",
       "    </tr>\n",
       "  </thead>\n",
       "  <tbody>\n",
       "    <tr>\n",
       "      <th>936476</th>\n",
       "      <td>651</td>\n",
       "      <td>10.095979</td>\n",
       "      <td>12.669184</td>\n",
       "      <td>13.685801</td>\n",
       "      <td>0</td>\n",
       "      <td>0</td>\n",
       "      <td>0</td>\n",
       "      <td>1</td>\n",
       "      <td>0</td>\n",
       "      <td>0</td>\n",
       "      <td>0</td>\n",
       "      <td>0</td>\n",
       "      <td>0</td>\n",
       "      <td>0</td>\n",
       "    </tr>\n",
       "    <tr>\n",
       "      <th>936477</th>\n",
       "      <td>386</td>\n",
       "      <td>10.095979</td>\n",
       "      <td>13.270658</td>\n",
       "      <td>8.634184</td>\n",
       "      <td>0</td>\n",
       "      <td>0</td>\n",
       "      <td>0</td>\n",
       "      <td>1</td>\n",
       "      <td>0</td>\n",
       "      <td>0</td>\n",
       "      <td>0</td>\n",
       "      <td>0</td>\n",
       "      <td>0</td>\n",
       "      <td>0</td>\n",
       "    </tr>\n",
       "    <tr>\n",
       "      <th>936478</th>\n",
       "      <td>616</td>\n",
       "      <td>10.095979</td>\n",
       "      <td>11.223508</td>\n",
       "      <td>13.389918</td>\n",
       "      <td>0</td>\n",
       "      <td>0</td>\n",
       "      <td>0</td>\n",
       "      <td>1</td>\n",
       "      <td>0</td>\n",
       "      <td>0</td>\n",
       "      <td>0</td>\n",
       "      <td>0</td>\n",
       "      <td>0</td>\n",
       "      <td>0</td>\n",
       "    </tr>\n",
       "    <tr>\n",
       "      <th>936479</th>\n",
       "      <td>616</td>\n",
       "      <td>10.095979</td>\n",
       "      <td>8.109836</td>\n",
       "      <td>12.284836</td>\n",
       "      <td>0</td>\n",
       "      <td>0</td>\n",
       "      <td>0</td>\n",
       "      <td>1</td>\n",
       "      <td>0</td>\n",
       "      <td>0</td>\n",
       "      <td>0</td>\n",
       "      <td>0</td>\n",
       "      <td>0</td>\n",
       "      <td>0</td>\n",
       "    </tr>\n",
       "    <tr>\n",
       "      <th>936480</th>\n",
       "      <td>187</td>\n",
       "      <td>10.095979</td>\n",
       "      <td>14.735357</td>\n",
       "      <td>17.107649</td>\n",
       "      <td>0</td>\n",
       "      <td>0</td>\n",
       "      <td>0</td>\n",
       "      <td>1</td>\n",
       "      <td>0</td>\n",
       "      <td>0</td>\n",
       "      <td>0</td>\n",
       "      <td>0</td>\n",
       "      <td>0</td>\n",
       "      <td>0</td>\n",
       "    </tr>\n",
       "  </tbody>\n",
       "</table>\n",
       "</div>"
      ],
      "text/plain": [
       "        distance  carrier_delay  weather_delay  late_aircraft_delay  AA  AS  \\\n",
       "936476       651      10.095979      12.669184            13.685801   0   0   \n",
       "936477       386      10.095979      13.270658             8.634184   0   0   \n",
       "936478       616      10.095979      11.223508            13.389918   0   0   \n",
       "936479       616      10.095979       8.109836            12.284836   0   0   \n",
       "936480       187      10.095979      14.735357            17.107649   0   0   \n",
       "\n",
       "        B6  DL  F9  G4  HA  NK  UA  WN  \n",
       "936476   0   1   0   0   0   0   0   0  \n",
       "936477   0   1   0   0   0   0   0   0  \n",
       "936478   0   1   0   0   0   0   0   0  \n",
       "936479   0   1   0   0   0   0   0   0  \n",
       "936480   0   1   0   0   0   0   0   0  "
      ]
     },
     "execution_count": 15,
     "metadata": {},
     "output_type": "execute_result"
    }
   ],
   "source": [
    "_df.drop(columns=['arr_delay'], inplace=True)\n",
    "_df = pd.concat(\n",
    "    [_df, pd.get_dummies(data=_df['mkt_unique_carrier'])],\n",
    "    axis=1\n",
    ")\n",
    "_df.drop(columns=['mkt_unique_carrier'], inplace=True)\n",
    "_df.head()"
   ]
  },
  {
   "cell_type": "markdown",
   "metadata": {},
   "source": [
    "### Feature Selection / Dimensionality Reduction"
   ]
  },
  {
   "cell_type": "markdown",
   "metadata": {},
   "source": [
    "We need to apply different selection techniques to find out which one will be the best for our problems.\n",
    "\n",
    "- Original Features vs. PCA conponents?"
   ]
  },
  {
   "cell_type": "code",
   "execution_count": 17,
   "metadata": {},
   "outputs": [],
   "source": [
    "from sklearn.preprocessing import StandardScaler\n",
    "from sklearn.decomposition import PCA"
   ]
  },
  {
   "cell_type": "code",
   "execution_count": 184,
   "metadata": {},
   "outputs": [],
   "source": [
    "# tsclr = StandardScaler()\n",
    "# target = tsclr.fit_transform(target)\n",
    "# target.ravel()"
   ]
  },
  {
   "cell_type": "code",
   "execution_count": 18,
   "metadata": {},
   "outputs": [
    {
     "data": {
      "text/html": [
       "<div>\n",
       "<style scoped>\n",
       "    .dataframe tbody tr th:only-of-type {\n",
       "        vertical-align: middle;\n",
       "    }\n",
       "\n",
       "    .dataframe tbody tr th {\n",
       "        vertical-align: top;\n",
       "    }\n",
       "\n",
       "    .dataframe thead th {\n",
       "        text-align: right;\n",
       "    }\n",
       "</style>\n",
       "<table border=\"1\" class=\"dataframe\">\n",
       "  <thead>\n",
       "    <tr style=\"text-align: right;\">\n",
       "      <th></th>\n",
       "      <th>distance</th>\n",
       "      <th>carrier_delay</th>\n",
       "      <th>weather_delay</th>\n",
       "      <th>late_aircraft_delay</th>\n",
       "      <th>AA</th>\n",
       "      <th>AS</th>\n",
       "      <th>B6</th>\n",
       "      <th>DL</th>\n",
       "      <th>F9</th>\n",
       "      <th>G4</th>\n",
       "      <th>HA</th>\n",
       "      <th>NK</th>\n",
       "      <th>UA</th>\n",
       "      <th>WN</th>\n",
       "    </tr>\n",
       "  </thead>\n",
       "  <tbody>\n",
       "    <tr>\n",
       "      <th>0</th>\n",
       "      <td>-0.180202</td>\n",
       "      <td>0.603709</td>\n",
       "      <td>0.807668</td>\n",
       "      <td>0.112876</td>\n",
       "      <td>-0.632272</td>\n",
       "      <td>-0.226519</td>\n",
       "      <td>-0.225857</td>\n",
       "      <td>2.108944</td>\n",
       "      <td>-0.135842</td>\n",
       "      <td>-0.116544</td>\n",
       "      <td>-0.111196</td>\n",
       "      <td>-0.145117</td>\n",
       "      <td>-0.497035</td>\n",
       "      <td>-0.45423</td>\n",
       "    </tr>\n",
       "    <tr>\n",
       "      <th>1</th>\n",
       "      <td>-0.646712</td>\n",
       "      <td>0.603709</td>\n",
       "      <td>0.984350</td>\n",
       "      <td>-0.945639</td>\n",
       "      <td>-0.632272</td>\n",
       "      <td>-0.226519</td>\n",
       "      <td>-0.225857</td>\n",
       "      <td>2.108944</td>\n",
       "      <td>-0.135842</td>\n",
       "      <td>-0.116544</td>\n",
       "      <td>-0.111196</td>\n",
       "      <td>-0.145117</td>\n",
       "      <td>-0.497035</td>\n",
       "      <td>-0.45423</td>\n",
       "    </tr>\n",
       "    <tr>\n",
       "      <th>2</th>\n",
       "      <td>-0.241816</td>\n",
       "      <td>0.603709</td>\n",
       "      <td>0.383002</td>\n",
       "      <td>0.050877</td>\n",
       "      <td>-0.632272</td>\n",
       "      <td>-0.226519</td>\n",
       "      <td>-0.225857</td>\n",
       "      <td>2.108944</td>\n",
       "      <td>-0.135842</td>\n",
       "      <td>-0.116544</td>\n",
       "      <td>-0.111196</td>\n",
       "      <td>-0.145117</td>\n",
       "      <td>-0.497035</td>\n",
       "      <td>-0.45423</td>\n",
       "    </tr>\n",
       "    <tr>\n",
       "      <th>3</th>\n",
       "      <td>-0.241816</td>\n",
       "      <td>0.603709</td>\n",
       "      <td>-0.531635</td>\n",
       "      <td>-0.180682</td>\n",
       "      <td>-0.632272</td>\n",
       "      <td>-0.226519</td>\n",
       "      <td>-0.225857</td>\n",
       "      <td>2.108944</td>\n",
       "      <td>-0.135842</td>\n",
       "      <td>-0.116544</td>\n",
       "      <td>-0.111196</td>\n",
       "      <td>-0.145117</td>\n",
       "      <td>-0.497035</td>\n",
       "      <td>-0.45423</td>\n",
       "    </tr>\n",
       "    <tr>\n",
       "      <th>4</th>\n",
       "      <td>-0.997035</td>\n",
       "      <td>0.603709</td>\n",
       "      <td>1.414603</td>\n",
       "      <td>0.829890</td>\n",
       "      <td>-0.632272</td>\n",
       "      <td>-0.226519</td>\n",
       "      <td>-0.225857</td>\n",
       "      <td>2.108944</td>\n",
       "      <td>-0.135842</td>\n",
       "      <td>-0.116544</td>\n",
       "      <td>-0.111196</td>\n",
       "      <td>-0.145117</td>\n",
       "      <td>-0.497035</td>\n",
       "      <td>-0.45423</td>\n",
       "    </tr>\n",
       "  </tbody>\n",
       "</table>\n",
       "</div>"
      ],
      "text/plain": [
       "   distance  carrier_delay  weather_delay  late_aircraft_delay        AA  \\\n",
       "0 -0.180202       0.603709       0.807668             0.112876 -0.632272   \n",
       "1 -0.646712       0.603709       0.984350            -0.945639 -0.632272   \n",
       "2 -0.241816       0.603709       0.383002             0.050877 -0.632272   \n",
       "3 -0.241816       0.603709      -0.531635            -0.180682 -0.632272   \n",
       "4 -0.997035       0.603709       1.414603             0.829890 -0.632272   \n",
       "\n",
       "         AS        B6        DL        F9        G4        HA        NK  \\\n",
       "0 -0.226519 -0.225857  2.108944 -0.135842 -0.116544 -0.111196 -0.145117   \n",
       "1 -0.226519 -0.225857  2.108944 -0.135842 -0.116544 -0.111196 -0.145117   \n",
       "2 -0.226519 -0.225857  2.108944 -0.135842 -0.116544 -0.111196 -0.145117   \n",
       "3 -0.226519 -0.225857  2.108944 -0.135842 -0.116544 -0.111196 -0.145117   \n",
       "4 -0.226519 -0.225857  2.108944 -0.135842 -0.116544 -0.111196 -0.145117   \n",
       "\n",
       "         UA       WN  \n",
       "0 -0.497035 -0.45423  \n",
       "1 -0.497035 -0.45423  \n",
       "2 -0.497035 -0.45423  \n",
       "3 -0.497035 -0.45423  \n",
       "4 -0.497035 -0.45423  "
      ]
     },
     "execution_count": 18,
     "metadata": {},
     "output_type": "execute_result"
    }
   ],
   "source": [
    "_df1 = pd.DataFrame(data=StandardScaler().fit_transform(_df), columns=_df.columns)\n",
    "_df1.head()"
   ]
  },
  {
   "cell_type": "code",
   "execution_count": 19,
   "metadata": {},
   "outputs": [
    {
     "data": {
      "text/plain": [
       "PCA(n_components=10, svd_solver='full')"
      ]
     },
     "execution_count": 19,
     "metadata": {},
     "output_type": "execute_result"
    }
   ],
   "source": [
    "pca_model = PCA(n_components=10, svd_solver='full')\n",
    "pca_model.fit(X=_df1)"
   ]
  },
  {
   "cell_type": "code",
   "execution_count": 20,
   "metadata": {},
   "outputs": [
    {
     "name": "stdout",
     "output_type": "stream",
     "text": [
      "[0.17160685 0.282132   0.37796419 0.46831769 0.55027674 0.62853113\n",
      " 0.70256423 0.77546984 0.84799014 0.90898116]\n"
     ]
    }
   ],
   "source": [
    "print(np.cumsum(pca_model.explained_variance_ratio_))"
   ]
  },
  {
   "cell_type": "code",
   "execution_count": 21,
   "metadata": {},
   "outputs": [
    {
     "data": {
      "text/html": [
       "<div>\n",
       "<style scoped>\n",
       "    .dataframe tbody tr th:only-of-type {\n",
       "        vertical-align: middle;\n",
       "    }\n",
       "\n",
       "    .dataframe tbody tr th {\n",
       "        vertical-align: top;\n",
       "    }\n",
       "\n",
       "    .dataframe thead th {\n",
       "        text-align: right;\n",
       "    }\n",
       "</style>\n",
       "<table border=\"1\" class=\"dataframe\">\n",
       "  <thead>\n",
       "    <tr style=\"text-align: right;\">\n",
       "      <th></th>\n",
       "      <th>PCA1</th>\n",
       "      <th>PCA2</th>\n",
       "      <th>PCA3</th>\n",
       "      <th>PCA4</th>\n",
       "      <th>PCA5</th>\n",
       "      <th>PCA6</th>\n",
       "      <th>PCA7</th>\n",
       "      <th>PCA8</th>\n",
       "      <th>PCA9</th>\n",
       "      <th>PCA10</th>\n",
       "    </tr>\n",
       "  </thead>\n",
       "  <tbody>\n",
       "    <tr>\n",
       "      <th>0</th>\n",
       "      <td>1.222444</td>\n",
       "      <td>-0.059776</td>\n",
       "      <td>0.295116</td>\n",
       "      <td>-2.132471</td>\n",
       "      <td>0.475343</td>\n",
       "      <td>0.076641</td>\n",
       "      <td>0.138094</td>\n",
       "      <td>0.006085</td>\n",
       "      <td>-0.044081</td>\n",
       "      <td>0.316806</td>\n",
       "    </tr>\n",
       "    <tr>\n",
       "      <th>1</th>\n",
       "      <td>0.926177</td>\n",
       "      <td>0.099512</td>\n",
       "      <td>0.190598</td>\n",
       "      <td>-2.405432</td>\n",
       "      <td>0.488519</td>\n",
       "      <td>0.300285</td>\n",
       "      <td>0.057365</td>\n",
       "      <td>-0.011379</td>\n",
       "      <td>-0.073554</td>\n",
       "      <td>0.196579</td>\n",
       "    </tr>\n",
       "    <tr>\n",
       "      <th>2</th>\n",
       "      <td>1.043006</td>\n",
       "      <td>0.107954</td>\n",
       "      <td>0.254934</td>\n",
       "      <td>-2.117066</td>\n",
       "      <td>0.452113</td>\n",
       "      <td>0.184632</td>\n",
       "      <td>0.149443</td>\n",
       "      <td>0.004090</td>\n",
       "      <td>-0.038679</td>\n",
       "      <td>0.319227</td>\n",
       "    </tr>\n",
       "    <tr>\n",
       "      <th>3</th>\n",
       "      <td>0.622229</td>\n",
       "      <td>0.556940</td>\n",
       "      <td>0.172683</td>\n",
       "      <td>-2.060476</td>\n",
       "      <td>0.442517</td>\n",
       "      <td>0.392550</td>\n",
       "      <td>0.182189</td>\n",
       "      <td>0.001788</td>\n",
       "      <td>-0.031800</td>\n",
       "      <td>0.430209</td>\n",
       "    </tr>\n",
       "    <tr>\n",
       "      <th>4</th>\n",
       "      <td>1.699071</td>\n",
       "      <td>-0.882411</td>\n",
       "      <td>0.320367</td>\n",
       "      <td>-2.319099</td>\n",
       "      <td>0.237056</td>\n",
       "      <td>0.095427</td>\n",
       "      <td>0.063998</td>\n",
       "      <td>-0.004977</td>\n",
       "      <td>-0.020619</td>\n",
       "      <td>-0.400315</td>\n",
       "    </tr>\n",
       "  </tbody>\n",
       "</table>\n",
       "</div>"
      ],
      "text/plain": [
       "       PCA1      PCA2      PCA3      PCA4      PCA5      PCA6      PCA7  \\\n",
       "0  1.222444 -0.059776  0.295116 -2.132471  0.475343  0.076641  0.138094   \n",
       "1  0.926177  0.099512  0.190598 -2.405432  0.488519  0.300285  0.057365   \n",
       "2  1.043006  0.107954  0.254934 -2.117066  0.452113  0.184632  0.149443   \n",
       "3  0.622229  0.556940  0.172683 -2.060476  0.442517  0.392550  0.182189   \n",
       "4  1.699071 -0.882411  0.320367 -2.319099  0.237056  0.095427  0.063998   \n",
       "\n",
       "       PCA8      PCA9     PCA10  \n",
       "0  0.006085 -0.044081  0.316806  \n",
       "1 -0.011379 -0.073554  0.196579  \n",
       "2  0.004090 -0.038679  0.319227  \n",
       "3  0.001788 -0.031800  0.430209  \n",
       "4 -0.004977 -0.020619 -0.400315  "
      ]
     },
     "execution_count": 21,
     "metadata": {},
     "output_type": "execute_result"
    }
   ],
   "source": [
    "_df2 = pd.DataFrame(data=pca_model.transform(X=_df1), columns=[f'PCA{i}' for i in range(1, 11)])\n",
    "_df2.head()"
   ]
  },
  {
   "cell_type": "markdown",
   "metadata": {},
   "source": [
    "### Modeling"
   ]
  },
  {
   "cell_type": "markdown",
   "metadata": {},
   "source": [
    "Use different ML techniques to predict each problem.\n",
    "\n",
    "- linear / logistic / multinomial logistic regression\n",
    "- Naive Bayes\n",
    "- Random Forest\n",
    "- SVM\n",
    "- XGBoost\n",
    "- The ensemble of your own choice"
   ]
  },
  {
   "cell_type": "code",
   "execution_count": 22,
   "metadata": {},
   "outputs": [],
   "source": [
    "from sklearn.model_selection import train_test_split"
   ]
  },
  {
   "cell_type": "code",
   "execution_count": 23,
   "metadata": {},
   "outputs": [],
   "source": [
    "X_train, X_test, y_train, y_test = train_test_split(_df2, target, test_size=0.3)"
   ]
  },
  {
   "cell_type": "code",
   "execution_count": 24,
   "metadata": {},
   "outputs": [],
   "source": [
    "from sklearn.ensemble import GradientBoostingRegressor\n",
    "gb = GradientBoostingRegressor().fit(X=X_train, y=y_train.ravel())"
   ]
  },
  {
   "cell_type": "code",
   "execution_count": 25,
   "metadata": {},
   "outputs": [
    {
     "name": "stdout",
     "output_type": "stream",
     "text": [
      "train_set_score 0.04412038192489143\n",
      "test_set_score 0.04234945720557737\n"
     ]
    }
   ],
   "source": [
    "print('train_set_score', gb.score(X=X_train, y=y_train))\n",
    "print('test_set_score', gb.score(X=X_test, y=y_test))"
   ]
  },
  {
   "cell_type": "code",
   "execution_count": 32,
   "metadata": {},
   "outputs": [],
   "source": [
    "from sklearn.svm import LinearSVR\n",
    "svm = LinearSVR(max_iter=10000).fit(X=X_train, y=y_train.ravel())"
   ]
  },
  {
   "cell_type": "code",
   "execution_count": 33,
   "metadata": {},
   "outputs": [
    {
     "name": "stdout",
     "output_type": "stream",
     "text": [
      "train_set_score -0.11146719102472447\n",
      "test_set_score -0.10786252723391887\n"
     ]
    }
   ],
   "source": [
    "print('train_set_score', svm.score(X=X_train, y=y_train))\n",
    "print('test_set_score', svm.score(X=X_test, y=y_test))"
   ]
  },
  {
   "cell_type": "code",
   "execution_count": 34,
   "metadata": {},
   "outputs": [],
   "source": [
    "from sklearn.linear_model import LinearRegression\n",
    "lr = LinearRegression().fit(X=X_train, y=y_train)"
   ]
  },
  {
   "cell_type": "code",
   "execution_count": 35,
   "metadata": {},
   "outputs": [
    {
     "name": "stdout",
     "output_type": "stream",
     "text": [
      "train_set_score 0.0355819912865325\n",
      "test_set_score 0.03692967007587655\n"
     ]
    }
   ],
   "source": [
    "print('train_set_score', lr.score(X_train, y_train))\n",
    "print('test_set_score', lr.score(X_test, y_test))"
   ]
  },
  {
   "cell_type": "code",
   "execution_count": 36,
   "metadata": {},
   "outputs": [],
   "source": [
    "from sklearn.ensemble import RandomForestRegressor\n",
    "rfr = RandomForestRegressor(n_jobs=4).fit(X=X_train, y=y_train.ravel())"
   ]
  },
  {
   "cell_type": "code",
   "execution_count": 37,
   "metadata": {},
   "outputs": [
    {
     "name": "stdout",
     "output_type": "stream",
     "text": [
      "train_set_score 0.08845983233775034\n",
      "test_set_score 0.03253797499337163\n",
      "feature_importance [0.38675038 0.07497551 0.06936528 0.0586674  0.06577496 0.06657164\n",
      " 0.05819036 0.05896071 0.07919403 0.08154972]\n"
     ]
    }
   ],
   "source": [
    "print('train_set_score', rfr.score(X=X_train, y=y_train))\n",
    "print('test_set_score', rfr.score(X=X_test, y=y_test))\n",
    "print('feature_importance', rfr.feature_importances_)"
   ]
  },
  {
   "cell_type": "code",
   "execution_count": 38,
   "metadata": {},
   "outputs": [
    {
     "name": "stderr",
     "output_type": "stream",
     "text": [
      "/home/chao/miniconda3/envs/lhl/lib/python3.10/site-packages/xgboost/compat.py:36: FutureWarning: pandas.Int64Index is deprecated and will be removed from pandas in a future version. Use pandas.Index with the appropriate dtype instead.\n",
      "  from pandas import MultiIndex, Int64Index\n",
      "/home/chao/miniconda3/envs/lhl/lib/python3.10/site-packages/xgboost/data.py:262: FutureWarning: pandas.Int64Index is deprecated and will be removed from pandas in a future version. Use pandas.Index with the appropriate dtype instead.\n",
      "  elif isinstance(data.columns, (pd.Int64Index, pd.RangeIndex)):\n"
     ]
    }
   ],
   "source": [
    "import xgboost\n",
    "xgb = xgboost.XGBRegressor(objective ='reg:squarederror', colsample_bytree = 0.3, learning_rate = 0.1, max_depth = 7, alpha = 0.1).fit(X=X_train, y=y_train)"
   ]
  },
  {
   "cell_type": "code",
   "execution_count": 39,
   "metadata": {},
   "outputs": [
    {
     "name": "stdout",
     "output_type": "stream",
     "text": [
      "train_set_score 0.06114049791232701\n",
      "test_set_score 0.04844448383195232\n"
     ]
    },
    {
     "name": "stderr",
     "output_type": "stream",
     "text": [
      "/home/chao/miniconda3/envs/lhl/lib/python3.10/site-packages/xgboost/data.py:262: FutureWarning: pandas.Int64Index is deprecated and will be removed from pandas in a future version. Use pandas.Index with the appropriate dtype instead.\n",
      "  elif isinstance(data.columns, (pd.Int64Index, pd.RangeIndex)):\n"
     ]
    }
   ],
   "source": [
    "print('train_set_score', xgb.score(X=X_train, y=y_train))\n",
    "print('test_set_score', xgb.score(X=X_test, y=y_test))"
   ]
  },
  {
   "cell_type": "markdown",
   "metadata": {},
   "source": [
    "### Evaluation"
   ]
  },
  {
   "cell_type": "markdown",
   "metadata": {},
   "source": [
    "You have data from 2018 and 2019 to develop models. Use different evaluation metrics for each problem and compare the performance of different models.\n",
    "\n",
    "You are required to predict delays on **out of sample** data from **first 7 days (1st-7th) of January 2020** and to share the file with LighthouseLabs. Sample submission can be found in the file **_sample_submission.csv_**"
   ]
  },
  {
   "cell_type": "code",
   "execution_count": 65,
   "metadata": {},
   "outputs": [
    {
     "name": "stdout",
     "output_type": "stream",
     "text": [
      "<class 'pandas.core.frame.DataFrame'>\n",
      "RangeIndex: 660556 entries, 0 to 660555\n",
      "Data columns (total 20 columns):\n",
      " #   Column              Non-Null Count   Dtype \n",
      "---  ------              --------------   ----- \n",
      " 0   fl_date             660556 non-null  object\n",
      " 1   mkt_unique_carrier  660556 non-null  object\n",
      " 2   branded_code_share  660556 non-null  object\n",
      " 3   mkt_carrier         660556 non-null  object\n",
      " 4   mkt_carrier_fl_num  660556 non-null  int64 \n",
      " 5   op_unique_carrier   660556 non-null  object\n",
      " 6   tail_num            659057 non-null  object\n",
      " 7   op_carrier_fl_num   660556 non-null  int64 \n",
      " 8   origin_airport_id   660556 non-null  int64 \n",
      " 9   origin              660556 non-null  object\n",
      " 10  origin_city_name    660556 non-null  object\n",
      " 11  dest_airport_id     660556 non-null  int64 \n",
      " 12  dest                660556 non-null  object\n",
      " 13  dest_city_name      660556 non-null  object\n",
      " 14  crs_dep_time        660556 non-null  int64 \n",
      " 15  crs_arr_time        660556 non-null  int64 \n",
      " 16  dup                 660556 non-null  object\n",
      " 17  crs_elapsed_time    660556 non-null  int64 \n",
      " 18  flights             660556 non-null  int64 \n",
      " 19  distance            660556 non-null  int64 \n",
      "dtypes: int64(9), object(11)\n",
      "memory usage: 100.8+ MB\n"
     ]
    }
   ],
   "source": [
    "filename = '../flights_test.csv'\n",
    "dft = pd.read_csv(filename, engine='c', low_memory=False)\n",
    "dft.info()"
   ]
  },
  {
   "cell_type": "code",
   "execution_count": 67,
   "metadata": {},
   "outputs": [
    {
     "data": {
      "text/html": [
       "<div>\n",
       "<style scoped>\n",
       "    .dataframe tbody tr th:only-of-type {\n",
       "        vertical-align: middle;\n",
       "    }\n",
       "\n",
       "    .dataframe tbody tr th {\n",
       "        vertical-align: top;\n",
       "    }\n",
       "\n",
       "    .dataframe thead th {\n",
       "        text-align: right;\n",
       "    }\n",
       "</style>\n",
       "<table border=\"1\" class=\"dataframe\">\n",
       "  <thead>\n",
       "    <tr style=\"text-align: right;\">\n",
       "      <th></th>\n",
       "      <th>fl_date</th>\n",
       "      <th>mkt_unique_carrier</th>\n",
       "      <th>branded_code_share</th>\n",
       "      <th>mkt_carrier</th>\n",
       "      <th>mkt_carrier_fl_num</th>\n",
       "      <th>op_unique_carrier</th>\n",
       "      <th>tail_num</th>\n",
       "      <th>op_carrier_fl_num</th>\n",
       "      <th>origin_airport_id</th>\n",
       "      <th>origin</th>\n",
       "      <th>origin_city_name</th>\n",
       "      <th>dest_airport_id</th>\n",
       "      <th>dest</th>\n",
       "      <th>dest_city_name</th>\n",
       "      <th>crs_dep_time</th>\n",
       "      <th>crs_arr_time</th>\n",
       "      <th>dup</th>\n",
       "      <th>crs_elapsed_time</th>\n",
       "      <th>flights</th>\n",
       "      <th>distance</th>\n",
       "    </tr>\n",
       "  </thead>\n",
       "  <tbody>\n",
       "    <tr>\n",
       "      <th>0</th>\n",
       "      <td>2020-01-01</td>\n",
       "      <td>WN</td>\n",
       "      <td>WN</td>\n",
       "      <td>WN</td>\n",
       "      <td>5888</td>\n",
       "      <td>WN</td>\n",
       "      <td>N951WN</td>\n",
       "      <td>5888</td>\n",
       "      <td>13891</td>\n",
       "      <td>ONT</td>\n",
       "      <td>Ontario, CA</td>\n",
       "      <td>14771</td>\n",
       "      <td>SFO</td>\n",
       "      <td>San Francisco, CA</td>\n",
       "      <td>1810</td>\n",
       "      <td>1945</td>\n",
       "      <td>N</td>\n",
       "      <td>95</td>\n",
       "      <td>1</td>\n",
       "      <td>363</td>\n",
       "    </tr>\n",
       "    <tr>\n",
       "      <th>1</th>\n",
       "      <td>2020-01-01</td>\n",
       "      <td>WN</td>\n",
       "      <td>WN</td>\n",
       "      <td>WN</td>\n",
       "      <td>6276</td>\n",
       "      <td>WN</td>\n",
       "      <td>N467WN</td>\n",
       "      <td>6276</td>\n",
       "      <td>13891</td>\n",
       "      <td>ONT</td>\n",
       "      <td>Ontario, CA</td>\n",
       "      <td>14771</td>\n",
       "      <td>SFO</td>\n",
       "      <td>San Francisco, CA</td>\n",
       "      <td>1150</td>\n",
       "      <td>1320</td>\n",
       "      <td>N</td>\n",
       "      <td>90</td>\n",
       "      <td>1</td>\n",
       "      <td>363</td>\n",
       "    </tr>\n",
       "    <tr>\n",
       "      <th>2</th>\n",
       "      <td>2020-01-01</td>\n",
       "      <td>WN</td>\n",
       "      <td>WN</td>\n",
       "      <td>WN</td>\n",
       "      <td>4598</td>\n",
       "      <td>WN</td>\n",
       "      <td>N7885A</td>\n",
       "      <td>4598</td>\n",
       "      <td>13891</td>\n",
       "      <td>ONT</td>\n",
       "      <td>Ontario, CA</td>\n",
       "      <td>14831</td>\n",
       "      <td>SJC</td>\n",
       "      <td>San Jose, CA</td>\n",
       "      <td>2020</td>\n",
       "      <td>2130</td>\n",
       "      <td>N</td>\n",
       "      <td>70</td>\n",
       "      <td>1</td>\n",
       "      <td>333</td>\n",
       "    </tr>\n",
       "    <tr>\n",
       "      <th>3</th>\n",
       "      <td>2020-01-01</td>\n",
       "      <td>WN</td>\n",
       "      <td>WN</td>\n",
       "      <td>WN</td>\n",
       "      <td>4761</td>\n",
       "      <td>WN</td>\n",
       "      <td>N551WN</td>\n",
       "      <td>4761</td>\n",
       "      <td>13891</td>\n",
       "      <td>ONT</td>\n",
       "      <td>Ontario, CA</td>\n",
       "      <td>14831</td>\n",
       "      <td>SJC</td>\n",
       "      <td>San Jose, CA</td>\n",
       "      <td>1340</td>\n",
       "      <td>1455</td>\n",
       "      <td>N</td>\n",
       "      <td>75</td>\n",
       "      <td>1</td>\n",
       "      <td>333</td>\n",
       "    </tr>\n",
       "    <tr>\n",
       "      <th>4</th>\n",
       "      <td>2020-01-01</td>\n",
       "      <td>WN</td>\n",
       "      <td>WN</td>\n",
       "      <td>WN</td>\n",
       "      <td>5162</td>\n",
       "      <td>WN</td>\n",
       "      <td>N968WN</td>\n",
       "      <td>5162</td>\n",
       "      <td>13891</td>\n",
       "      <td>ONT</td>\n",
       "      <td>Ontario, CA</td>\n",
       "      <td>14831</td>\n",
       "      <td>SJC</td>\n",
       "      <td>San Jose, CA</td>\n",
       "      <td>915</td>\n",
       "      <td>1035</td>\n",
       "      <td>N</td>\n",
       "      <td>80</td>\n",
       "      <td>1</td>\n",
       "      <td>333</td>\n",
       "    </tr>\n",
       "  </tbody>\n",
       "</table>\n",
       "</div>"
      ],
      "text/plain": [
       "     fl_date mkt_unique_carrier branded_code_share mkt_carrier  \\\n",
       "0 2020-01-01                 WN                 WN          WN   \n",
       "1 2020-01-01                 WN                 WN          WN   \n",
       "2 2020-01-01                 WN                 WN          WN   \n",
       "3 2020-01-01                 WN                 WN          WN   \n",
       "4 2020-01-01                 WN                 WN          WN   \n",
       "\n",
       "   mkt_carrier_fl_num op_unique_carrier tail_num  op_carrier_fl_num  \\\n",
       "0                5888                WN   N951WN               5888   \n",
       "1                6276                WN   N467WN               6276   \n",
       "2                4598                WN   N7885A               4598   \n",
       "3                4761                WN   N551WN               4761   \n",
       "4                5162                WN   N968WN               5162   \n",
       "\n",
       "   origin_airport_id origin origin_city_name  dest_airport_id dest  \\\n",
       "0              13891    ONT      Ontario, CA            14771  SFO   \n",
       "1              13891    ONT      Ontario, CA            14771  SFO   \n",
       "2              13891    ONT      Ontario, CA            14831  SJC   \n",
       "3              13891    ONT      Ontario, CA            14831  SJC   \n",
       "4              13891    ONT      Ontario, CA            14831  SJC   \n",
       "\n",
       "      dest_city_name  crs_dep_time  crs_arr_time dup  crs_elapsed_time  \\\n",
       "0  San Francisco, CA          1810          1945   N                95   \n",
       "1  San Francisco, CA          1150          1320   N                90   \n",
       "2       San Jose, CA          2020          2130   N                70   \n",
       "3       San Jose, CA          1340          1455   N                75   \n",
       "4       San Jose, CA           915          1035   N                80   \n",
       "\n",
       "   flights  distance  \n",
       "0        1       363  \n",
       "1        1       363  \n",
       "2        1       333  \n",
       "3        1       333  \n",
       "4        1       333  "
      ]
     },
     "execution_count": 67,
     "metadata": {},
     "output_type": "execute_result"
    }
   ],
   "source": [
    "dft['fl_date'] = pd.to_datetime(dft['fl_date'], errors='coerce')\n",
    "dft.head()"
   ]
  },
  {
   "cell_type": "code",
   "execution_count": 233,
   "metadata": {},
   "outputs": [
    {
     "name": "stdout",
     "output_type": "stream",
     "text": [
      "<class 'pandas.core.frame.DataFrame'>\n",
      "Int64Index: 150623 entries, 0 to 150622\n",
      "Data columns (total 3 columns):\n",
      " #   Column              Non-Null Count   Dtype \n",
      "---  ------              --------------   ----- \n",
      " 0   mkt_unique_carrier  150623 non-null  object\n",
      " 1   origin              150623 non-null  object\n",
      " 2   distance            150623 non-null  int64 \n",
      "dtypes: int64(1), object(2)\n",
      "memory usage: 4.6+ MB\n"
     ]
    }
   ],
   "source": [
    "_filter = (dft['fl_date'].dt.month == 1) & (dft['fl_date'].dt.day <= 7)\n",
    "dft_ = dft[_filter][[\n",
    "    'mkt_unique_carrier',\n",
    "    'origin',\n",
    "    'distance',\n",
    "]].copy()\n",
    "dft_.info()"
   ]
  },
  {
   "cell_type": "code",
   "execution_count": 234,
   "metadata": {},
   "outputs": [
    {
     "name": "stdout",
     "output_type": "stream",
     "text": [
      "<class 'pandas.core.frame.DataFrame'>\n",
      "Int64Index: 150623 entries, 0 to 150622\n",
      "Data columns (total 6 columns):\n",
      " #   Column              Non-Null Count   Dtype \n",
      "---  ------              --------------   ----- \n",
      " 0   mkt_unique_carrier  150623 non-null  object\n",
      " 1   origin              150623 non-null  object\n",
      " 2   distance            150623 non-null  int64 \n",
      " 3   carrier_delay       150623 non-null  int64 \n",
      " 4   weather_delay       150623 non-null  int64 \n",
      " 5   late_arrival_delay  150623 non-null  int64 \n",
      "dtypes: int64(4), object(2)\n",
      "memory usage: 8.0+ MB\n"
     ]
    }
   ],
   "source": [
    "dft_.insert(loc=3, column='carrier_delay', value=0)\n",
    "dft_.insert(loc=4, column='weather_delay', value=0)\n",
    "dft_.insert(loc=5, column='late_arrival_delay', value=0)\n",
    "dft_.info()"
   ]
  },
  {
   "cell_type": "code",
   "execution_count": 235,
   "metadata": {},
   "outputs": [
    {
     "data": {
      "text/html": [
       "<div>\n",
       "<style scoped>\n",
       "    .dataframe tbody tr th:only-of-type {\n",
       "        vertical-align: middle;\n",
       "    }\n",
       "\n",
       "    .dataframe tbody tr th {\n",
       "        vertical-align: top;\n",
       "    }\n",
       "\n",
       "    .dataframe thead th {\n",
       "        text-align: right;\n",
       "    }\n",
       "</style>\n",
       "<table border=\"1\" class=\"dataframe\">\n",
       "  <thead>\n",
       "    <tr style=\"text-align: right;\">\n",
       "      <th></th>\n",
       "      <th>mkt_unique_carrier</th>\n",
       "      <th>origin</th>\n",
       "      <th>distance</th>\n",
       "      <th>carrier_delay</th>\n",
       "      <th>weather_delay</th>\n",
       "      <th>late_arrival_delay</th>\n",
       "      <th>late_aircraft_delay</th>\n",
       "    </tr>\n",
       "  </thead>\n",
       "  <tbody>\n",
       "    <tr>\n",
       "      <th>0</th>\n",
       "      <td>WN</td>\n",
       "      <td>ONT</td>\n",
       "      <td>363</td>\n",
       "      <td>6.93863</td>\n",
       "      <td>8.682785</td>\n",
       "      <td>0</td>\n",
       "      <td>11.473888</td>\n",
       "    </tr>\n",
       "    <tr>\n",
       "      <th>1</th>\n",
       "      <td>WN</td>\n",
       "      <td>ONT</td>\n",
       "      <td>363</td>\n",
       "      <td>6.93863</td>\n",
       "      <td>8.682785</td>\n",
       "      <td>0</td>\n",
       "      <td>11.473888</td>\n",
       "    </tr>\n",
       "    <tr>\n",
       "      <th>2</th>\n",
       "      <td>WN</td>\n",
       "      <td>ONT</td>\n",
       "      <td>333</td>\n",
       "      <td>6.93863</td>\n",
       "      <td>8.682785</td>\n",
       "      <td>0</td>\n",
       "      <td>11.473888</td>\n",
       "    </tr>\n",
       "    <tr>\n",
       "      <th>3</th>\n",
       "      <td>WN</td>\n",
       "      <td>ONT</td>\n",
       "      <td>333</td>\n",
       "      <td>6.93863</td>\n",
       "      <td>8.682785</td>\n",
       "      <td>0</td>\n",
       "      <td>11.473888</td>\n",
       "    </tr>\n",
       "    <tr>\n",
       "      <th>4</th>\n",
       "      <td>WN</td>\n",
       "      <td>ONT</td>\n",
       "      <td>333</td>\n",
       "      <td>6.93863</td>\n",
       "      <td>8.682785</td>\n",
       "      <td>0</td>\n",
       "      <td>11.473888</td>\n",
       "    </tr>\n",
       "  </tbody>\n",
       "</table>\n",
       "</div>"
      ],
      "text/plain": [
       "  mkt_unique_carrier origin  distance  carrier_delay  weather_delay  \\\n",
       "0                 WN    ONT       363        6.93863       8.682785   \n",
       "1                 WN    ONT       363        6.93863       8.682785   \n",
       "2                 WN    ONT       333        6.93863       8.682785   \n",
       "3                 WN    ONT       333        6.93863       8.682785   \n",
       "4                 WN    ONT       333        6.93863       8.682785   \n",
       "\n",
       "   late_arrival_delay  late_aircraft_delay  \n",
       "0                   0            11.473888  \n",
       "1                   0            11.473888  \n",
       "2                   0            11.473888  \n",
       "3                   0            11.473888  \n",
       "4                   0            11.473888  "
      ]
     },
     "execution_count": 235,
     "metadata": {},
     "output_type": "execute_result"
    }
   ],
   "source": [
    "for i in carrier_delay.index:\n",
    "    dft_.loc[dft_[dft_['mkt_unique_carrier'] == i].index, ['carrier_delay']] = carrier_delay.loc[i]\n",
    "\n",
    "for i in weather_delay.index:\n",
    "    dft_.loc[dft_[dft_['origin'] == i].index, ['weather_delay']] = weather_delay.loc[i]\n",
    "\n",
    "for i in late_aircraft_delay.index:\n",
    "    dft_.loc[dft_[dft_['origin'] == i].index, ['late_aircraft_delay']] = late_aircraft_delay.loc[i]\n",
    "\n",
    "dft_.head()"
   ]
  },
  {
   "cell_type": "code",
   "execution_count": 236,
   "metadata": {},
   "outputs": [
    {
     "data": {
      "text/html": [
       "<div>\n",
       "<style scoped>\n",
       "    .dataframe tbody tr th:only-of-type {\n",
       "        vertical-align: middle;\n",
       "    }\n",
       "\n",
       "    .dataframe tbody tr th {\n",
       "        vertical-align: top;\n",
       "    }\n",
       "\n",
       "    .dataframe thead th {\n",
       "        text-align: right;\n",
       "    }\n",
       "</style>\n",
       "<table border=\"1\" class=\"dataframe\">\n",
       "  <thead>\n",
       "    <tr style=\"text-align: right;\">\n",
       "      <th></th>\n",
       "      <th>distance</th>\n",
       "      <th>carrier_delay</th>\n",
       "      <th>weather_delay</th>\n",
       "      <th>late_arrival_delay</th>\n",
       "      <th>late_aircraft_delay</th>\n",
       "      <th>AA</th>\n",
       "      <th>AS</th>\n",
       "      <th>B6</th>\n",
       "      <th>DL</th>\n",
       "      <th>F9</th>\n",
       "      <th>G4</th>\n",
       "      <th>HA</th>\n",
       "      <th>NK</th>\n",
       "      <th>UA</th>\n",
       "      <th>WN</th>\n",
       "    </tr>\n",
       "  </thead>\n",
       "  <tbody>\n",
       "    <tr>\n",
       "      <th>0</th>\n",
       "      <td>363</td>\n",
       "      <td>6.93863</td>\n",
       "      <td>8.682785</td>\n",
       "      <td>0</td>\n",
       "      <td>11.473888</td>\n",
       "      <td>0</td>\n",
       "      <td>0</td>\n",
       "      <td>0</td>\n",
       "      <td>0</td>\n",
       "      <td>0</td>\n",
       "      <td>0</td>\n",
       "      <td>0</td>\n",
       "      <td>0</td>\n",
       "      <td>0</td>\n",
       "      <td>1</td>\n",
       "    </tr>\n",
       "    <tr>\n",
       "      <th>1</th>\n",
       "      <td>363</td>\n",
       "      <td>6.93863</td>\n",
       "      <td>8.682785</td>\n",
       "      <td>0</td>\n",
       "      <td>11.473888</td>\n",
       "      <td>0</td>\n",
       "      <td>0</td>\n",
       "      <td>0</td>\n",
       "      <td>0</td>\n",
       "      <td>0</td>\n",
       "      <td>0</td>\n",
       "      <td>0</td>\n",
       "      <td>0</td>\n",
       "      <td>0</td>\n",
       "      <td>1</td>\n",
       "    </tr>\n",
       "    <tr>\n",
       "      <th>2</th>\n",
       "      <td>333</td>\n",
       "      <td>6.93863</td>\n",
       "      <td>8.682785</td>\n",
       "      <td>0</td>\n",
       "      <td>11.473888</td>\n",
       "      <td>0</td>\n",
       "      <td>0</td>\n",
       "      <td>0</td>\n",
       "      <td>0</td>\n",
       "      <td>0</td>\n",
       "      <td>0</td>\n",
       "      <td>0</td>\n",
       "      <td>0</td>\n",
       "      <td>0</td>\n",
       "      <td>1</td>\n",
       "    </tr>\n",
       "    <tr>\n",
       "      <th>3</th>\n",
       "      <td>333</td>\n",
       "      <td>6.93863</td>\n",
       "      <td>8.682785</td>\n",
       "      <td>0</td>\n",
       "      <td>11.473888</td>\n",
       "      <td>0</td>\n",
       "      <td>0</td>\n",
       "      <td>0</td>\n",
       "      <td>0</td>\n",
       "      <td>0</td>\n",
       "      <td>0</td>\n",
       "      <td>0</td>\n",
       "      <td>0</td>\n",
       "      <td>0</td>\n",
       "      <td>1</td>\n",
       "    </tr>\n",
       "    <tr>\n",
       "      <th>4</th>\n",
       "      <td>333</td>\n",
       "      <td>6.93863</td>\n",
       "      <td>8.682785</td>\n",
       "      <td>0</td>\n",
       "      <td>11.473888</td>\n",
       "      <td>0</td>\n",
       "      <td>0</td>\n",
       "      <td>0</td>\n",
       "      <td>0</td>\n",
       "      <td>0</td>\n",
       "      <td>0</td>\n",
       "      <td>0</td>\n",
       "      <td>0</td>\n",
       "      <td>0</td>\n",
       "      <td>1</td>\n",
       "    </tr>\n",
       "  </tbody>\n",
       "</table>\n",
       "</div>"
      ],
      "text/plain": [
       "   distance  carrier_delay  weather_delay  late_arrival_delay  \\\n",
       "0       363        6.93863       8.682785                   0   \n",
       "1       363        6.93863       8.682785                   0   \n",
       "2       333        6.93863       8.682785                   0   \n",
       "3       333        6.93863       8.682785                   0   \n",
       "4       333        6.93863       8.682785                   0   \n",
       "\n",
       "   late_aircraft_delay  AA  AS  B6  DL  F9  G4  HA  NK  UA  WN  \n",
       "0            11.473888   0   0   0   0   0   0   0   0   0   1  \n",
       "1            11.473888   0   0   0   0   0   0   0   0   0   1  \n",
       "2            11.473888   0   0   0   0   0   0   0   0   0   1  \n",
       "3            11.473888   0   0   0   0   0   0   0   0   0   1  \n",
       "4            11.473888   0   0   0   0   0   0   0   0   0   1  "
      ]
     },
     "execution_count": 236,
     "metadata": {},
     "output_type": "execute_result"
    }
   ],
   "source": [
    "dft_ = pd.concat(\n",
    "    [dft_, pd.get_dummies(data=dft_['mkt_unique_carrier'])],\n",
    "    axis=1\n",
    ")\n",
    "dft_.drop(columns=['mkt_unique_carrier', 'origin'], inplace=True)\n",
    "dft_.head()"
   ]
  },
  {
   "cell_type": "code",
   "execution_count": 239,
   "metadata": {},
   "outputs": [
    {
     "data": {
      "text/plain": [
       "distance               0\n",
       "carrier_delay          0\n",
       "weather_delay          0\n",
       "late_arrival_delay     0\n",
       "late_aircraft_delay    0\n",
       "AA                     0\n",
       "AS                     0\n",
       "B6                     0\n",
       "DL                     0\n",
       "F9                     0\n",
       "G4                     0\n",
       "HA                     0\n",
       "NK                     0\n",
       "UA                     0\n",
       "WN                     0\n",
       "dtype: int64"
      ]
     },
     "execution_count": 239,
     "metadata": {},
     "output_type": "execute_result"
    }
   ],
   "source": [
    "dft_0 = dft_.drop(index=dft_.loc[dft_['late_aircraft_delay'].isnull()].index)\n",
    "dft_0.isnull().sum()"
   ]
  },
  {
   "cell_type": "code",
   "execution_count": 243,
   "metadata": {},
   "outputs": [
    {
     "data": {
      "text/html": [
       "<div>\n",
       "<style scoped>\n",
       "    .dataframe tbody tr th:only-of-type {\n",
       "        vertical-align: middle;\n",
       "    }\n",
       "\n",
       "    .dataframe tbody tr th {\n",
       "        vertical-align: top;\n",
       "    }\n",
       "\n",
       "    .dataframe thead th {\n",
       "        text-align: right;\n",
       "    }\n",
       "</style>\n",
       "<table border=\"1\" class=\"dataframe\">\n",
       "  <thead>\n",
       "    <tr style=\"text-align: right;\">\n",
       "      <th></th>\n",
       "      <th>distance</th>\n",
       "      <th>carrier_delay</th>\n",
       "      <th>weather_delay</th>\n",
       "      <th>late_arrival_delay</th>\n",
       "      <th>late_aircraft_delay</th>\n",
       "      <th>AA</th>\n",
       "      <th>AS</th>\n",
       "      <th>B6</th>\n",
       "      <th>DL</th>\n",
       "      <th>F9</th>\n",
       "      <th>G4</th>\n",
       "      <th>HA</th>\n",
       "      <th>NK</th>\n",
       "      <th>UA</th>\n",
       "      <th>WN</th>\n",
       "    </tr>\n",
       "  </thead>\n",
       "  <tbody>\n",
       "    <tr>\n",
       "      <th>0</th>\n",
       "      <td>-0.717790</td>\n",
       "      <td>-0.973822</td>\n",
       "      <td>-0.319449</td>\n",
       "      <td>0.0</td>\n",
       "      <td>-0.312431</td>\n",
       "      <td>-0.601561</td>\n",
       "      <td>-0.244766</td>\n",
       "      <td>-0.196203</td>\n",
       "      <td>-0.501815</td>\n",
       "      <td>-0.142422</td>\n",
       "      <td>-0.1204</td>\n",
       "      <td>-0.110524</td>\n",
       "      <td>-0.167387</td>\n",
       "      <td>-0.499084</td>\n",
       "      <td>2.236443</td>\n",
       "    </tr>\n",
       "    <tr>\n",
       "      <th>1</th>\n",
       "      <td>-0.717790</td>\n",
       "      <td>-0.973822</td>\n",
       "      <td>-0.319449</td>\n",
       "      <td>0.0</td>\n",
       "      <td>-0.312431</td>\n",
       "      <td>-0.601561</td>\n",
       "      <td>-0.244766</td>\n",
       "      <td>-0.196203</td>\n",
       "      <td>-0.501815</td>\n",
       "      <td>-0.142422</td>\n",
       "      <td>-0.1204</td>\n",
       "      <td>-0.110524</td>\n",
       "      <td>-0.167387</td>\n",
       "      <td>-0.499084</td>\n",
       "      <td>2.236443</td>\n",
       "    </tr>\n",
       "    <tr>\n",
       "      <th>2</th>\n",
       "      <td>-0.768273</td>\n",
       "      <td>-0.973822</td>\n",
       "      <td>-0.319449</td>\n",
       "      <td>0.0</td>\n",
       "      <td>-0.312431</td>\n",
       "      <td>-0.601561</td>\n",
       "      <td>-0.244766</td>\n",
       "      <td>-0.196203</td>\n",
       "      <td>-0.501815</td>\n",
       "      <td>-0.142422</td>\n",
       "      <td>-0.1204</td>\n",
       "      <td>-0.110524</td>\n",
       "      <td>-0.167387</td>\n",
       "      <td>-0.499084</td>\n",
       "      <td>2.236443</td>\n",
       "    </tr>\n",
       "    <tr>\n",
       "      <th>3</th>\n",
       "      <td>-0.768273</td>\n",
       "      <td>-0.973822</td>\n",
       "      <td>-0.319449</td>\n",
       "      <td>0.0</td>\n",
       "      <td>-0.312431</td>\n",
       "      <td>-0.601561</td>\n",
       "      <td>-0.244766</td>\n",
       "      <td>-0.196203</td>\n",
       "      <td>-0.501815</td>\n",
       "      <td>-0.142422</td>\n",
       "      <td>-0.1204</td>\n",
       "      <td>-0.110524</td>\n",
       "      <td>-0.167387</td>\n",
       "      <td>-0.499084</td>\n",
       "      <td>2.236443</td>\n",
       "    </tr>\n",
       "    <tr>\n",
       "      <th>4</th>\n",
       "      <td>-0.768273</td>\n",
       "      <td>-0.973822</td>\n",
       "      <td>-0.319449</td>\n",
       "      <td>0.0</td>\n",
       "      <td>-0.312431</td>\n",
       "      <td>-0.601561</td>\n",
       "      <td>-0.244766</td>\n",
       "      <td>-0.196203</td>\n",
       "      <td>-0.501815</td>\n",
       "      <td>-0.142422</td>\n",
       "      <td>-0.1204</td>\n",
       "      <td>-0.110524</td>\n",
       "      <td>-0.167387</td>\n",
       "      <td>-0.499084</td>\n",
       "      <td>2.236443</td>\n",
       "    </tr>\n",
       "  </tbody>\n",
       "</table>\n",
       "</div>"
      ],
      "text/plain": [
       "   distance  carrier_delay  weather_delay  late_arrival_delay  \\\n",
       "0 -0.717790      -0.973822      -0.319449                 0.0   \n",
       "1 -0.717790      -0.973822      -0.319449                 0.0   \n",
       "2 -0.768273      -0.973822      -0.319449                 0.0   \n",
       "3 -0.768273      -0.973822      -0.319449                 0.0   \n",
       "4 -0.768273      -0.973822      -0.319449                 0.0   \n",
       "\n",
       "   late_aircraft_delay        AA        AS        B6        DL        F9  \\\n",
       "0            -0.312431 -0.601561 -0.244766 -0.196203 -0.501815 -0.142422   \n",
       "1            -0.312431 -0.601561 -0.244766 -0.196203 -0.501815 -0.142422   \n",
       "2            -0.312431 -0.601561 -0.244766 -0.196203 -0.501815 -0.142422   \n",
       "3            -0.312431 -0.601561 -0.244766 -0.196203 -0.501815 -0.142422   \n",
       "4            -0.312431 -0.601561 -0.244766 -0.196203 -0.501815 -0.142422   \n",
       "\n",
       "       G4        HA        NK        UA        WN  \n",
       "0 -0.1204 -0.110524 -0.167387 -0.499084  2.236443  \n",
       "1 -0.1204 -0.110524 -0.167387 -0.499084  2.236443  \n",
       "2 -0.1204 -0.110524 -0.167387 -0.499084  2.236443  \n",
       "3 -0.1204 -0.110524 -0.167387 -0.499084  2.236443  \n",
       "4 -0.1204 -0.110524 -0.167387 -0.499084  2.236443  "
      ]
     },
     "execution_count": 243,
     "metadata": {},
     "output_type": "execute_result"
    }
   ],
   "source": [
    "dft_1 = pd.DataFrame(data=StandardScaler().fit_transform(dft_0), columns=dft_0.columns)\n",
    "dft_1.head()"
   ]
  },
  {
   "cell_type": "code",
   "execution_count": 244,
   "metadata": {},
   "outputs": [
    {
     "name": "stdout",
     "output_type": "stream",
     "text": [
      "[0.17089992 0.27673226 0.37124134 0.46299105 0.54632012 0.62563304\n",
      " 0.69981096 0.77284262 0.8454784  0.90888482]\n"
     ]
    }
   ],
   "source": [
    "pca_model = PCA(n_components=10, svd_solver='full')\n",
    "pca_model.fit(X=dft_1)\n",
    "print(np.cumsum(pca_model.explained_variance_ratio_))"
   ]
  },
  {
   "cell_type": "code",
   "execution_count": 245,
   "metadata": {},
   "outputs": [
    {
     "data": {
      "text/html": [
       "<div>\n",
       "<style scoped>\n",
       "    .dataframe tbody tr th:only-of-type {\n",
       "        vertical-align: middle;\n",
       "    }\n",
       "\n",
       "    .dataframe tbody tr th {\n",
       "        vertical-align: top;\n",
       "    }\n",
       "\n",
       "    .dataframe thead th {\n",
       "        text-align: right;\n",
       "    }\n",
       "</style>\n",
       "<table border=\"1\" class=\"dataframe\">\n",
       "  <thead>\n",
       "    <tr style=\"text-align: right;\">\n",
       "      <th></th>\n",
       "      <th>PCA1</th>\n",
       "      <th>PCA2</th>\n",
       "      <th>PCA3</th>\n",
       "      <th>PCA4</th>\n",
       "      <th>PCA5</th>\n",
       "      <th>PCA6</th>\n",
       "      <th>PCA7</th>\n",
       "      <th>PCA8</th>\n",
       "      <th>PCA9</th>\n",
       "      <th>PCA10</th>\n",
       "    </tr>\n",
       "  </thead>\n",
       "  <tbody>\n",
       "    <tr>\n",
       "      <th>0</th>\n",
       "      <td>-1.641038</td>\n",
       "      <td>-0.083237</td>\n",
       "      <td>0.636725</td>\n",
       "      <td>-0.662459</td>\n",
       "      <td>-1.875556</td>\n",
       "      <td>-0.638027</td>\n",
       "      <td>-0.267268</td>\n",
       "      <td>-0.027010</td>\n",
       "      <td>-0.075850</td>\n",
       "      <td>-0.351066</td>\n",
       "    </tr>\n",
       "    <tr>\n",
       "      <th>1</th>\n",
       "      <td>-1.641038</td>\n",
       "      <td>-0.083237</td>\n",
       "      <td>0.636725</td>\n",
       "      <td>-0.662459</td>\n",
       "      <td>-1.875556</td>\n",
       "      <td>-0.638027</td>\n",
       "      <td>-0.267268</td>\n",
       "      <td>-0.027010</td>\n",
       "      <td>-0.075850</td>\n",
       "      <td>-0.351066</td>\n",
       "    </tr>\n",
       "    <tr>\n",
       "      <th>2</th>\n",
       "      <td>-1.640811</td>\n",
       "      <td>-0.099146</td>\n",
       "      <td>0.628352</td>\n",
       "      <td>-0.678620</td>\n",
       "      <td>-1.890007</td>\n",
       "      <td>-0.625663</td>\n",
       "      <td>-0.269360</td>\n",
       "      <td>-0.027458</td>\n",
       "      <td>-0.074435</td>\n",
       "      <td>-0.380564</td>\n",
       "    </tr>\n",
       "    <tr>\n",
       "      <th>3</th>\n",
       "      <td>-1.640811</td>\n",
       "      <td>-0.099146</td>\n",
       "      <td>0.628352</td>\n",
       "      <td>-0.678620</td>\n",
       "      <td>-1.890007</td>\n",
       "      <td>-0.625663</td>\n",
       "      <td>-0.269360</td>\n",
       "      <td>-0.027458</td>\n",
       "      <td>-0.074435</td>\n",
       "      <td>-0.380564</td>\n",
       "    </tr>\n",
       "    <tr>\n",
       "      <th>4</th>\n",
       "      <td>-1.640811</td>\n",
       "      <td>-0.099146</td>\n",
       "      <td>0.628352</td>\n",
       "      <td>-0.678620</td>\n",
       "      <td>-1.890007</td>\n",
       "      <td>-0.625663</td>\n",
       "      <td>-0.269360</td>\n",
       "      <td>-0.027458</td>\n",
       "      <td>-0.074435</td>\n",
       "      <td>-0.380564</td>\n",
       "    </tr>\n",
       "  </tbody>\n",
       "</table>\n",
       "</div>"
      ],
      "text/plain": [
       "       PCA1      PCA2      PCA3      PCA4      PCA5      PCA6      PCA7  \\\n",
       "0 -1.641038 -0.083237  0.636725 -0.662459 -1.875556 -0.638027 -0.267268   \n",
       "1 -1.641038 -0.083237  0.636725 -0.662459 -1.875556 -0.638027 -0.267268   \n",
       "2 -1.640811 -0.099146  0.628352 -0.678620 -1.890007 -0.625663 -0.269360   \n",
       "3 -1.640811 -0.099146  0.628352 -0.678620 -1.890007 -0.625663 -0.269360   \n",
       "4 -1.640811 -0.099146  0.628352 -0.678620 -1.890007 -0.625663 -0.269360   \n",
       "\n",
       "       PCA8      PCA9     PCA10  \n",
       "0 -0.027010 -0.075850 -0.351066  \n",
       "1 -0.027010 -0.075850 -0.351066  \n",
       "2 -0.027458 -0.074435 -0.380564  \n",
       "3 -0.027458 -0.074435 -0.380564  \n",
       "4 -0.027458 -0.074435 -0.380564  "
      ]
     },
     "execution_count": 245,
     "metadata": {},
     "output_type": "execute_result"
    }
   ],
   "source": [
    "dft_2 = pd.DataFrame(data=pca_model.transform(X=dft_1), columns=[f'PCA{i}' for i in range(1, 11)])\n",
    "dft_2.head()"
   ]
  },
  {
   "cell_type": "code",
   "execution_count": 246,
   "metadata": {},
   "outputs": [
    {
     "name": "stderr",
     "output_type": "stream",
     "text": [
      "/home/chao/miniconda3/envs/lhl/lib/python3.10/site-packages/xgboost/data.py:262: FutureWarning: pandas.Int64Index is deprecated and will be removed from pandas in a future version. Use pandas.Index with the appropriate dtype instead.\n",
      "  elif isinstance(data.columns, (pd.Int64Index, pd.RangeIndex)):\n"
     ]
    }
   ],
   "source": [
    "ypred_t = xgb.predict(X=dft_2)"
   ]
  },
  {
   "cell_type": "code",
   "execution_count": 249,
   "metadata": {},
   "outputs": [
    {
     "name": "stdout",
     "output_type": "stream",
     "text": [
      "150396\n"
     ]
    },
    {
     "data": {
      "text/plain": [
       "array([27., 27., 27., ..., 29., 39., 50.], dtype=float32)"
      ]
     },
     "execution_count": 249,
     "metadata": {},
     "output_type": "execute_result"
    }
   ],
   "source": [
    "print(len(ypred_t))\n",
    "ypred_t = np.round(ypred_t)\n",
    "ypred_t"
   ]
  },
  {
   "cell_type": "code",
   "execution_count": 253,
   "metadata": {},
   "outputs": [
    {
     "name": "stdout",
     "output_type": "stream",
     "text": [
      "<class 'pandas.core.frame.DataFrame'>\n",
      "Int64Index: 150396 entries, 0 to 150622\n",
      "Data columns (total 5 columns):\n",
      " #   Column              Non-Null Count   Dtype         \n",
      "---  ------              --------------   -----         \n",
      " 0   fl_date             150396 non-null  datetime64[ns]\n",
      " 1   mkt_carrier         150396 non-null  object        \n",
      " 2   mkt_carrier_fl_num  150396 non-null  int64         \n",
      " 3   origin              150396 non-null  object        \n",
      " 4   dest                150396 non-null  object        \n",
      "dtypes: datetime64[ns](1), int64(1), object(3)\n",
      "memory usage: 6.9+ MB\n"
     ]
    }
   ],
   "source": [
    "df_sub = dft[_filter][[\n",
    "    'fl_date', 'mkt_carrier', 'mkt_carrier_fl_num', 'origin', 'dest'\n",
    "]]\n",
    "df_sub.drop(index=dft_.loc[dft_['late_aircraft_delay'].isnull()].index, inplace=True)\n",
    "df_sub.info()"
   ]
  },
  {
   "cell_type": "code",
   "execution_count": 254,
   "metadata": {},
   "outputs": [
    {
     "data": {
      "text/html": [
       "<div>\n",
       "<style scoped>\n",
       "    .dataframe tbody tr th:only-of-type {\n",
       "        vertical-align: middle;\n",
       "    }\n",
       "\n",
       "    .dataframe tbody tr th {\n",
       "        vertical-align: top;\n",
       "    }\n",
       "\n",
       "    .dataframe thead th {\n",
       "        text-align: right;\n",
       "    }\n",
       "</style>\n",
       "<table border=\"1\" class=\"dataframe\">\n",
       "  <thead>\n",
       "    <tr style=\"text-align: right;\">\n",
       "      <th></th>\n",
       "      <th>fl_date</th>\n",
       "      <th>mkt_carrier</th>\n",
       "      <th>mkt_carrier_fl_num</th>\n",
       "      <th>origin</th>\n",
       "      <th>dest</th>\n",
       "      <th>predicted_delay</th>\n",
       "    </tr>\n",
       "  </thead>\n",
       "  <tbody>\n",
       "    <tr>\n",
       "      <th>0</th>\n",
       "      <td>2020-01-01</td>\n",
       "      <td>WN</td>\n",
       "      <td>5888</td>\n",
       "      <td>ONT</td>\n",
       "      <td>SFO</td>\n",
       "      <td>27</td>\n",
       "    </tr>\n",
       "    <tr>\n",
       "      <th>1</th>\n",
       "      <td>2020-01-01</td>\n",
       "      <td>WN</td>\n",
       "      <td>6276</td>\n",
       "      <td>ONT</td>\n",
       "      <td>SFO</td>\n",
       "      <td>27</td>\n",
       "    </tr>\n",
       "    <tr>\n",
       "      <th>2</th>\n",
       "      <td>2020-01-01</td>\n",
       "      <td>WN</td>\n",
       "      <td>4598</td>\n",
       "      <td>ONT</td>\n",
       "      <td>SJC</td>\n",
       "      <td>27</td>\n",
       "    </tr>\n",
       "    <tr>\n",
       "      <th>3</th>\n",
       "      <td>2020-01-01</td>\n",
       "      <td>WN</td>\n",
       "      <td>4761</td>\n",
       "      <td>ONT</td>\n",
       "      <td>SJC</td>\n",
       "      <td>27</td>\n",
       "    </tr>\n",
       "    <tr>\n",
       "      <th>4</th>\n",
       "      <td>2020-01-01</td>\n",
       "      <td>WN</td>\n",
       "      <td>5162</td>\n",
       "      <td>ONT</td>\n",
       "      <td>SJC</td>\n",
       "      <td>27</td>\n",
       "    </tr>\n",
       "  </tbody>\n",
       "</table>\n",
       "</div>"
      ],
      "text/plain": [
       "     fl_date mkt_carrier  mkt_carrier_fl_num origin dest  predicted_delay\n",
       "0 2020-01-01          WN                5888    ONT  SFO               27\n",
       "1 2020-01-01          WN                6276    ONT  SFO               27\n",
       "2 2020-01-01          WN                4598    ONT  SJC               27\n",
       "3 2020-01-01          WN                4761    ONT  SJC               27\n",
       "4 2020-01-01          WN                5162    ONT  SJC               27"
      ]
     },
     "execution_count": 254,
     "metadata": {},
     "output_type": "execute_result"
    }
   ],
   "source": [
    "df_sub.insert(\n",
    "    loc=5,\n",
    "    column='predicted_delay',\n",
    "    value=np.int16(ypred_t)\n",
    ")\n",
    "df_sub.head()"
   ]
  },
  {
   "cell_type": "code",
   "execution_count": 257,
   "metadata": {},
   "outputs": [
    {
     "data": {
      "text/plain": [
       "count    150396.000000\n",
       "mean         34.917272\n",
       "std           7.417329\n",
       "min          20.000000\n",
       "25%          29.000000\n",
       "50%          34.000000\n",
       "75%          40.000000\n",
       "max          89.000000\n",
       "Name: predicted_delay, dtype: float64"
      ]
     },
     "execution_count": 257,
     "metadata": {},
     "output_type": "execute_result"
    }
   ],
   "source": [
    "df_sub['predicted_delay'].describe()"
   ]
  },
  {
   "cell_type": "code",
   "execution_count": 255,
   "metadata": {},
   "outputs": [],
   "source": [
    "df_sub.to_csv('./submission_CSi.csv', index=False)"
   ]
  },
  {
   "cell_type": "code",
   "execution_count": 48,
   "metadata": {},
   "outputs": [],
   "source": [
    "_x = [\n",
    "'dep_delay',\n",
    "'crs_elapsed_time',\n",
    "'nas_delay',\n",
    "'late_aircraft_delay',\n",
    "'carrier_delay',\n",
    "'passengers',\n",
    "'capacity',\n",
    "'origin_airport_id',\n",
    "'dest_airport_id',\n",
    "'distance',\n",
    "'total_gallons',\n",
    "'weather_delay',\n",
    "'security_delay'\n",
    "]"
   ]
  },
  {
   "cell_type": "code",
   "execution_count": 49,
   "metadata": {},
   "outputs": [],
   "source": [
    "_y = [\n",
    "0.220665,\n",
    "0.182979,\n",
    "0.090361,\n",
    "0.068881,\n",
    "0.065717,\n",
    "0.063864,\n",
    "0.061855,\n",
    "0.059212,\n",
    "0.058391,\n",
    "0.049645,\n",
    "0.042902,\n",
    "0.029439,\n",
    "0.006089\n",
    "]"
   ]
  },
  {
   "cell_type": "code",
   "execution_count": 52,
   "metadata": {},
   "outputs": [
    {
     "data": {
      "text/plain": [
       "(array([ 0,  1,  2,  3,  4,  5,  6,  7,  8,  9, 10, 11, 12]),\n",
       " [Text(0, 0, 'dep_delay'),\n",
       "  Text(1, 0, 'crs_elapsed_time'),\n",
       "  Text(2, 0, 'nas_delay'),\n",
       "  Text(3, 0, 'late_aircraft_delay'),\n",
       "  Text(4, 0, 'carrier_delay'),\n",
       "  Text(5, 0, 'passengers'),\n",
       "  Text(6, 0, 'capacity'),\n",
       "  Text(7, 0, 'origin_airport_id'),\n",
       "  Text(8, 0, 'dest_airport_id'),\n",
       "  Text(9, 0, 'distance'),\n",
       "  Text(10, 0, 'total_gallons'),\n",
       "  Text(11, 0, 'weather_delay'),\n",
       "  Text(12, 0, 'security_delay')])"
      ]
     },
     "execution_count": 52,
     "metadata": {},
     "output_type": "execute_result"
    },
    {
     "data": {
      "image/png": "[encoded data removed]",
      "text/plain": [
       "<Figure size 864x648 with 1 Axes>"
      ]
     },
     "metadata": {
      "needs_background": "light"
     },
     "output_type": "display_data"
    }
   ],
   "source": [
    "import matplotlib.pyplot as plt\n",
    "import seaborn as sns\n",
    "plt.figure(figsize=(12, 9))\n",
    "sns.barplot(x=_x, y=_y)\n",
    "plt.xticks(rotation=45)"
   ]
  },
  {
   "cell_type": "code",
   "execution_count": 61,
   "metadata": {},
   "outputs": [],
   "source": [
    "jfk = df[(df['crs_dep_time'].dt.month == 1) & (df['crs_dep_time'].dt.day == 1) & (df['origin'] == 'JFK')].copy()"
   ]
  },
  {
   "cell_type": "code",
   "execution_count": 67,
   "metadata": {},
   "outputs": [
    {
     "data": {
      "text/plain": [
       "crs_dep_time\n",
       "5      5\n",
       "6      9\n",
       "7     15\n",
       "8     20\n",
       "9     16\n",
       "10    14\n",
       "11    24\n",
       "12     9\n",
       "13    20\n",
       "14    11\n",
       "15    22\n",
       "16    15\n",
       "17    13\n",
       "18    15\n",
       "19    21\n",
       "20    18\n",
       "21    11\n",
       "22    10\n",
       "23     2\n",
       "Name: arr_delay, dtype: int64"
      ]
     },
     "execution_count": 67,
     "metadata": {},
     "output_type": "execute_result"
    }
   ],
   "source": [
    "jfk_traffic = jfk.groupby(by=df['crs_dep_time'].dt.hour)['arr_delay'].count().values\n",
    "jfk.groupby(by=df['crs_dep_time'].dt.hour)['arr_delay'].count()"
   ]
  },
  {
   "cell_type": "code",
   "execution_count": 65,
   "metadata": {},
   "outputs": [
    {
     "data": {
      "text/plain": [
       "array([ 5,  9, 15, 20, 16, 14, 24,  9, 20, 11, 22, 15, 13, 15, 21, 18, 11,\n",
       "       10,  2])"
      ]
     },
     "execution_count": 65,
     "metadata": {},
     "output_type": "execute_result"
    }
   ],
   "source": [
    "jfk_traffic"
   ]
  },
  {
   "cell_type": "code",
   "execution_count": 68,
   "metadata": {},
   "outputs": [
    {
     "data": {
      "text/plain": [
       "array([48.8       , 63.66666667, 57.13333333, 27.85      , 69.1875    ,\n",
       "       34.        , 33.66666667, 72.88888889, 35.05      , 26.81818182,\n",
       "       45.68181818, 27.6       , 30.92307692, 53.46666667, 51.38095238,\n",
       "       25.83333333, 35.36363636, 64.6       , 20.        ])"
      ]
     },
     "execution_count": 68,
     "metadata": {},
     "output_type": "execute_result"
    }
   ],
   "source": [
    "jfk_delay = jfk.groupby(by=df['crs_dep_time'].dt.hour)['arr_delay'].mean().values\n",
    "jfk_delay"
   ]
  },
  {
   "cell_type": "code",
   "execution_count": 77,
   "metadata": {},
   "outputs": [
    {
     "data": {
      "image/png": "[encoded data removed]",
      "text/plain": [
       "<Figure size 648x432 with 1 Axes>"
      ]
     },
     "metadata": {
      "needs_background": "light"
     },
     "output_type": "display_data"
    }
   ],
   "source": [
    "plt.figure(figsize=(9, 6))\n",
    "plt.bar(\n",
    "    x=range(5, 24),\n",
    "    height=jfk_delay,\n",
    "    color='violet',\n",
    "    label='arr_delay'\n",
    ")\n",
    "plt.bar(\n",
    "    x=range(5, 24),\n",
    "    height=jfk_traffic,\n",
    "    color='royalblue',\n",
    "    label='traffic'\n",
    ")\n",
    "plt.title('JFK Avg. Hourly Traffic/Arrival_Delay @ 2019/01/01')\n",
    "plt.legend()\n",
    "plt.show()"
   ]
  },
  {
   "cell_type": "markdown",
   "metadata": {},
   "source": [
    "======================================================================\n",
    "## Stretch Tasks"
   ]
  },
  {
   "cell_type": "markdown",
   "metadata": {},
   "source": [
    "### Multiclass Classification"
   ]
  },
  {
   "cell_type": "markdown",
   "metadata": {},
   "source": [
    "The target variables are **CARRIER_DELAY, WEATHER_DELAY, NAS_DELAY, SECURITY_DELAY, LATE_AIRCRAFT_DELAY**. We need to do additional transformations because these variables are not binary but continuos. For each flight that was delayed, we need to have one of these variables as 1 and others 0.\n",
    "\n",
    "It can happen that we have two types of delays with more than 0 minutes. In this case, take the bigger one as 1 and others as 0."
   ]
  },
  {
   "cell_type": "code",
   "execution_count": null,
   "metadata": {},
   "outputs": [],
   "source": []
  },
  {
   "cell_type": "code",
   "execution_count": null,
   "metadata": {},
   "outputs": [],
   "source": []
  },
  {
   "cell_type": "code",
   "execution_count": null,
   "metadata": {},
   "outputs": [],
   "source": []
  },
  {
   "cell_type": "markdown",
   "metadata": {},
   "source": [
    "### Binary Classification"
   ]
  },
  {
   "cell_type": "markdown",
   "metadata": {},
   "source": [
    "The target variable is **CANCELLED**. The main problem here is going to be huge class imbalance. We have only very little cancelled flights with comparison to all flights. It is important to do the right sampling before training and to choose correct evaluation metrics."
   ]
  },
  {
   "cell_type": "code",
   "execution_count": null,
   "metadata": {},
   "outputs": [],
   "source": []
  },
  {
   "cell_type": "code",
   "execution_count": null,
   "metadata": {},
   "outputs": [],
   "source": []
  },
  {
   "cell_type": "code",
   "execution_count": null,
   "metadata": {},
   "outputs": [],
   "source": []
  }
 ],
 "metadata": {
  "kernelspec": {
   "display_name": "Python 3",
   "language": "python",
   "name": "python3"
  },
  "language_info": {
   "codemirror_mode": {
    "name": "ipython",
    "version": 3
   },
   "file_extension": ".py",
   "mimetype": "text/x-python",
   "name": "python",
   "nbconvert_exporter": "python",
   "pygments_lexer": "ipython3",
   "version": "3.10.4"
  }
 },
 "nbformat": 4,
 "nbformat_minor": 4
}
