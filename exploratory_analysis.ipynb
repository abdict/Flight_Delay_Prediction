{
 "cells": [
  {
   "cell_type": "markdown",
   "metadata": {},
   "source": [
    "## Exploratory Data Analysis\n",
    "\n",
    "Use this notebook to get familiar with the datasets we have. There is 10 questions we need to answer during the EDA.\n",
    "\n",
    "\n",
    "We shouldn't limit our EDA to these 10 questions. Let's be creative :)."
   ]
  },
  {
   "cell_type": "code",
   "execution_count": 1,
   "metadata": {},
   "outputs": [],
   "source": [
    "import pandas as pd\n",
    "import numpy as np\n",
    "import matplotlib.pyplot as plt"
   ]
  },
  {
   "cell_type": "code",
   "execution_count": 2,
   "metadata": {},
   "outputs": [
    {
     "name": "stdout",
     "output_type": "stream",
     "text": [
      "<class 'pandas.core.frame.DataFrame'>\n",
      "RangeIndex: 15612264 entries, 0 to 15612263\n",
      "Data columns (total 24 columns):\n",
      " #   Column               Dtype         \n",
      "---  ------               -----         \n",
      " 0   fl_date              datetime64[ns]\n",
      " 1   mkt_unique_carrier   string        \n",
      " 2   op_unique_carrier    string        \n",
      " 3   origin_airport_id    int16         \n",
      " 4   origin_city_name     string        \n",
      " 5   dest_airport_id      int16         \n",
      " 6   dest_city_name       string        \n",
      " 7   crs_dep_time         datetime64[ns]\n",
      " 8   dep_time             datetime64[ns]\n",
      " 9   dep_delay            int16         \n",
      " 10  taxi_out             int16         \n",
      " 11  taxi_in              int16         \n",
      " 12  crs_arr_time         datetime64[ns]\n",
      " 13  arr_time             datetime64[ns]\n",
      " 14  arr_delay            int16         \n",
      " 15  crs_elapsed_time     int16         \n",
      " 16  actual_elapsed_time  int16         \n",
      " 17  air_time             int16         \n",
      " 18  distance             int16         \n",
      " 19  carrier_delay        int16         \n",
      " 20  weather_delay        int16         \n",
      " 21  nas_delay            int16         \n",
      " 22  security_delay       int16         \n",
      " 23  late_aircraft_delay  int16         \n",
      "dtypes: datetime64[ns](5), int16(15), string(4)\n",
      "memory usage: 1.5 GB\n"
     ]
    }
   ],
   "source": [
    "filename = './_flights_fix2.csv'\n",
    "df = pd.read_csv(filename, engine='c', low_memory=False)\n",
    "# update dtypes\n",
    "str_obj = ['mkt_unique_carrier', 'op_unique_carrier', 'origin_city_name', 'dest_city_name']\n",
    "date_obj = ['fl_date']\n",
    "id_obj = ['origin_airport_id', 'dest_airport_id']\n",
    "time_obj = ['crs_dep_time', 'dep_time', 'crs_arr_time', 'arr_time']\n",
    "df[date_obj] = df[date_obj].astype(dtype='datetime64[ns]')\n",
    "df[str_obj] = df[str_obj].astype(dtype='string')\n",
    "df[id_obj] = df[id_obj].astype(dtype='int16')\n",
    "df.iloc[:, 7:] = df.iloc[:, 7:].astype(dtype='int16')\n",
    "# update time obj\n",
    "for t in time_obj:\n",
    "    df[t] = df[t].astype(dtype='string').str.zfill(4)\n",
    "    df[t].replace(to_replace={'2400': '0000'}, inplace=True)\n",
    "    df[t] = pd.to_datetime(df[t], format='%H%M', errors='coerce')\n",
    "df.info()"
   ]
  },
  {
   "cell_type": "markdown",
   "metadata": {},
   "source": [
    "* raw.shape (15927485, 42)\n",
    "* assume a 80:20 split, train.shape (3302780, 42/20/?)"
   ]
  },
  {
   "cell_type": "markdown",
   "metadata": {},
   "source": [
    "#### **Task 1**: Test the hypothesis that the delay is from Normal distribution. and that **mean** of the delay is 0. Be careful about the outliers."
   ]
  },
  {
   "cell_type": "code",
   "execution_count": 8,
   "metadata": {},
   "outputs": [],
   "source": [
    "# df['dep_delay'].describe()\n",
    "# df[df['dep_delay'] < 0]['dep_delay'].count()\n",
    "# print(df[(df['dep_delay'] <= 0) | (df['dep_delay'] > 15)]['dep_delay'].count())\n",
    "# dep_delay = df[(df['dep_delay'] <= 0) | (df['dep_delay'] > 15)]['dep_delay'].copy()\n",
    "# df[df['dep_delay'] > 2000].head(20).iloc[:, 4:]"
   ]
  },
  {
   "cell_type": "code",
   "execution_count": 9,
   "metadata": {},
   "outputs": [
    {
     "name": "stdout",
     "output_type": "stream",
     "text": [
      "arr_delay mean = 5.472870814892702\n",
      "k^2 + s^2 = 22727016.426210985\n",
      "Null hypothesis is delay time is from a Normal distribution\n",
      "The null hypothesis can be rejected, p=0.0\n"
     ]
    }
   ],
   "source": [
    "from scipy.stats import normaltest, shapiro, anderson, kstest\n",
    "\n",
    "# print(f\"dep_delay mean = {np.mean(dep_delay)}\")\n",
    "print(f\"arr_delay mean = {np.mean(df['arr_delay'])}\")\n",
    "\n",
    "alpha = 0.05\n",
    "stat, pval = normaltest(df['arr_delay'])\n",
    "print(f'k^2 + s^2 = {stat}\\nNull hypothesis is delay time is from a Normal distribution')\n",
    "if pval < alpha: print(f'The null hypothesis can be rejected, p={pval}')\n",
    "else: print(f'The null hypothesis cannot be rejected, p={pval}')"
   ]
  },
  {
   "cell_type": "markdown",
   "metadata": {},
   "source": [
    "#### **Task 2**: Is average/median monthly delay different during the year? If yes, which are months with the biggest delays and what could be the reason?"
   ]
  },
  {
   "cell_type": "code",
   "execution_count": 10,
   "metadata": {},
   "outputs": [],
   "source": [
    "# _fY18 = (df['fl_date'].dt.year == 2018)\n",
    "# avg_med_M18 = []\n",
    "# _fY19 = (df['fl_date'].dt.year == 2019)\n",
    "# avg_med_M19 = []\n",
    "avg_med = []\n",
    "for i in range(1, 13):\n",
    "    _fM = (df['fl_date'].dt.month == i)\n",
    "    # avg_med_M18.append(\n",
    "        # df[_fY18 & _fM][['dep_delay', 'arr_delay']].describe().apply(lambda s: s.apply('{0:.2f}'.format)).loc[['mean', '50%'], :].values.tolist()\n",
    "    # )\n",
    "    # avg_med_M19.append(\n",
    "        # df[_fY19 & _fM][['dep_delay', 'arr_delay']].describe().apply(lambda s: s.apply('{0:.2f}'.format)).loc[['mean', '50%'], :].values.tolist()\n",
    "    # )\n",
    "    avg_med.append(\n",
    "        df[_fM][['dep_delay', 'arr_delay']].describe().apply(lambda s: s.apply('{0:.2f}'.format)).loc[['mean', '50%'], :].values.tolist()\n",
    "    )\n"
   ]
  },
  {
   "cell_type": "code",
   "execution_count": 7,
   "metadata": {},
   "outputs": [],
   "source": [
    "# for i, v in enumerate(avg_med_M18):\n",
    "#     print(f'Y2018M{i+1:2}',\n",
    "#         f'avg_dep_delay={float(v[0][0]):3.2f}, med_dep_delay={float(v[1][0]):3.2f} (mins)\\n',\n",
    "#         f'        avg_arr_delay={float(v[0][1]):3.2f}, med_arr_delay={float(v[1][1]):3.2f} (mins)',\n",
    "#     )\n",
    "\n",
    "# for i, v in enumerate(avg_med_M18):\n",
    "#     print(f'Y2019M{i+1:2}',\n",
    "#         f'avg_dep_delay={float(v[0][0]):3.2f}, med_dep_delay={float(v[1][0]):3.2f} (mins)\\n',\n",
    "#         f'        avg_arr_delay={float(v[0][1]):3.2f}, med_arr_delay={float(v[1][1]):3.2f} (mins)',\n",
    "#     )"
   ]
  },
  {
   "cell_type": "code",
   "execution_count": 12,
   "metadata": {},
   "outputs": [
    {
     "name": "stdout",
     "output_type": "stream",
     "text": [
      "Month 1 avg_dep_delay=9.77, med_dep_delay=-3.00 (mins)\n",
      "        avg_arr_delay=3.96, med_arr_delay=-7.00 (mins)\n",
      "Month 2 avg_dep_delay=11.66, med_dep_delay=-2.00 (mins)\n",
      "        avg_arr_delay=6.74, med_arr_delay=-6.00 (mins)\n",
      "Month 3 avg_dep_delay=8.37, med_dep_delay=-2.00 (mins)\n",
      "        avg_arr_delay=2.82, med_arr_delay=-7.00 (mins)\n",
      "Month 4 avg_dep_delay=9.30, med_dep_delay=-3.00 (mins)\n",
      "        avg_arr_delay=4.16, med_arr_delay=-7.00 (mins)\n",
      "Month 5 avg_dep_delay=11.27, med_dep_delay=-2.00 (mins)\n",
      "        avg_arr_delay=6.51, med_arr_delay=-6.00 (mins)\n",
      "Month 6 avg_dep_delay=14.54, med_dep_delay=-1.00 (mins)\n",
      "        avg_arr_delay=10.41, med_arr_delay=-4.00 (mins)\n",
      "Month 7 avg_dep_delay=13.74, med_dep_delay=-2.00 (mins)\n",
      "        avg_arr_delay=8.98, med_arr_delay=-5.00 (mins)\n",
      "Month 8 avg_dep_delay=13.23, med_dep_delay=-2.00 (mins)\n",
      "        avg_arr_delay=8.90, med_arr_delay=-5.00 (mins)\n",
      "Month 9 avg_dep_delay=6.91, med_dep_delay=-3.00 (mins)\n",
      "        avg_arr_delay=1.71, med_arr_delay=-8.00 (mins)\n",
      "Month10 avg_dep_delay=7.49, med_dep_delay=-3.00 (mins)\n",
      "        avg_arr_delay=2.84, med_arr_delay=-7.00 (mins)\n",
      "Month11 avg_dep_delay=8.16, med_dep_delay=-3.00 (mins)\n",
      "        avg_arr_delay=2.99, med_arr_delay=-7.00 (mins)\n",
      "Month12 avg_dep_delay=10.80, med_dep_delay=-2.00 (mins)\n",
      "        avg_arr_delay=5.11, med_arr_delay=-6.00 (mins)\n"
     ]
    }
   ],
   "source": [
    "for i, v in enumerate(avg_med):\n",
    "    print(f'Month{i+1:2}',\n",
    "        f'avg_dep_delay={float(v[0][0]):3.2f}, med_dep_delay={float(v[1][0]):3.2f} (mins)\\n',\n",
    "        f'       avg_arr_delay={float(v[0][1]):3.2f}, med_arr_delay={float(v[1][1]):3.2f} (mins)',\n",
    "    )"
   ]
  },
  {
   "cell_type": "markdown",
   "metadata": {},
   "source": [
    "#### **Task 3**: Does the weather affect the delay? \n",
    "Use the API to pull the weather information for flights. There is no need to get weather for ALL flights. We can choose the right representative sample. Let's focus on four weather types:\n",
    "- sunny\n",
    "- cloudy\n",
    "- rainy\n",
    "- snow.\n",
    "Test the hypothesis that these 4 delays are from the same distribution. If they are not, which ones are significantly different?"
   ]
  },
  {
   "cell_type": "code",
   "execution_count": null,
   "metadata": {},
   "outputs": [],
   "source": []
  },
  {
   "cell_type": "code",
   "execution_count": null,
   "metadata": {},
   "outputs": [],
   "source": []
  },
  {
   "cell_type": "markdown",
   "metadata": {},
   "source": [
    "#### **Task 4**: How taxi times changing during the day? Does higher traffic lead to bigger taxi times?"
   ]
  },
  {
   "cell_type": "code",
   "execution_count": 13,
   "metadata": {},
   "outputs": [],
   "source": [
    "# df['dep_time'].describe(datetime_is_numeric=True).apply('{0:.0f}'.format)\n",
    "avg_taxi_o = []\n",
    "for h in range(0, 24):\n",
    "    avg_taxi_o.append(\n",
    "        df[df['dep_time'].dt.hour == h]['taxi_out'].describe()['mean']\n",
    "    )\n",
    "avg_taxi_i = []\n",
    "for h in range(0, 24):\n",
    "    avg_taxi_i.append(\n",
    "        df[df['arr_time'].dt.hour == h]['taxi_in'].describe()['mean']\n",
    "    )"
   ]
  },
  {
   "cell_type": "code",
   "execution_count": 17,
   "metadata": {},
   "outputs": [
    {
     "data": {
      "image/png": "[encoded data removed]",
      "text/plain": [
       "<Figure size 432x288 with 1 Axes>"
      ]
     },
     "metadata": {
      "needs_background": "light"
     },
     "output_type": "display_data"
    }
   ],
   "source": [
    "plt.bar(\n",
    "    x=range(0, 24),\n",
    "    height=avg_taxi_o,\n",
    "    color='royalblue',\n",
    "    label='taxi_out'\n",
    ")\n",
    "plt.bar(\n",
    "    x=range(0, 24),\n",
    "    height=avg_taxi_i,\n",
    "    color='violet',\n",
    "    label='taxi_in'\n",
    ")\n",
    "plt.legend()\n",
    "plt.show()"
   ]
  },
  {
   "cell_type": "markdown",
   "metadata": {},
   "source": [
    "#### **Task 5**: What is the average percentage of delays that is already created before departure? (aka are arrival delays caused by departure delays?) Are airlines able to lower the delay during the flights?"
   ]
  },
  {
   "cell_type": "code",
   "execution_count": 18,
   "metadata": {},
   "outputs": [
    {
     "name": "stdout",
     "output_type": "stream",
     "text": [
      "avg_dep_delay=75.52 (mins)\n",
      "avg_arr_delay=90.44 (mins)\n",
      "ratio=83.50% arrival delays are caused by departure delays.\n"
     ]
    }
   ],
   "source": [
    "_fAdelay = (df['arr_delay'] - df['dep_delay'] > 0) & (df['dep_delay'] > 15)\n",
    "\n",
    "A_dep_delay = df[_fAdelay]['dep_delay'].mean()\n",
    "A_arr_delay = df[_fAdelay]['arr_delay'].mean()\n",
    "print(\n",
    "    f'avg_dep_delay={A_dep_delay:.2f} (mins)\\navg_arr_delay={A_arr_delay:.2f} (mins)\\nratio={A_dep_delay/A_arr_delay*100:.2f}% arrival delays are caused by departure delays.'\n",
    ")"
   ]
  },
  {
   "cell_type": "code",
   "execution_count": 59,
   "metadata": {},
   "outputs": [
    {
     "name": "stdout",
     "output_type": "stream",
     "text": [
      "_dep_delay=2799219 (flights)\n",
      "_arr_faster=1928970 (flights)\n",
      "ratio=68.91% flights were able to lower the delay from departure delays.\n"
     ]
    }
   ],
   "source": [
    "_fAlower = (df['arr_delay'] - df['dep_delay'] < 0) & (df['dep_delay'] > 15)\n",
    "\n",
    "Al_dep_count = df[df['dep_delay'] > 15]['dep_delay'].count()\n",
    "Al_arr_count = df[_fAlower]['arr_delay'].count()\n",
    "print(\n",
    "    f'_dep_delay={Al_dep_count:.0f} (flights)\\n_arr_faster={Al_arr_count:.0f} (flights)\\nratio={Al_arr_count/Al_dep_count*100:.2f}% flights were able to lower the delay from departure delays.'\n",
    ")"
   ]
  },
  {
   "cell_type": "markdown",
   "metadata": {},
   "source": [
    "#### **Task 6**: How many states cover 50% of US air traffic? "
   ]
  },
  {
   "cell_type": "code",
   "execution_count": 26,
   "metadata": {},
   "outputs": [
    {
     "data": {
      "text/plain": [
       "(15612264, 1)"
      ]
     },
     "execution_count": 26,
     "metadata": {},
     "output_type": "execute_result"
    }
   ],
   "source": [
    "states = [s[1] for s in df['origin_city_name'].str.split(', ').values]\n",
    "states = pd.DataFrame(data=states, columns=['state'], dtype='string')\n",
    "states.shape"
   ]
  },
  {
   "cell_type": "code",
   "execution_count": 41,
   "metadata": {},
   "outputs": [],
   "source": [
    "states_traffic = states.groupby(by='state')['state'].count().sort_values(ascending=False)"
   ]
  },
  {
   "cell_type": "code",
   "execution_count": 98,
   "metadata": {},
   "outputs": [
    {
     "name": "stdout",
     "output_type": "stream",
     "text": [
      "The following States account for over 50% of US air traffic\n",
      " [('CA', 1711233), ('TX', 1540765), ('FL', 1134336), ('IL', 978263), ('GA', 834077), ('NY', 803320), ('NC', 718849)] Coverage: 53.37% of 15612264 flights in Y2018-2019.\n"
     ]
    }
   ],
   "source": [
    "heavy_traffic_states = 0\n",
    "heavy_traffic_sum = 0\n",
    "for i in range(len(states_traffic)):\n",
    "    heavy_traffic_sum += states_traffic[i]\n",
    "    if heavy_traffic_sum >= states_traffic.sum() * 0.5:\n",
    "        heavy_traffic_states = i\n",
    "        break\n",
    "print(\n",
    "    'The following States account for over 50% of US air traffic\\n',\n",
    "    f'{[(states_traffic.index[i], states_traffic[i]) for i in range(heavy_traffic_states)]}',\n",
    "    # f'{[states_traffic[i] for i in range(heavy_traffic_states)]}\\n',\n",
    "    f'Coverage: {heavy_traffic_sum/states_traffic.sum()*100:.2f}% of {states_traffic.sum()} flights in Y2018-2019.'\n",
    ")"
   ]
  },
  {
   "cell_type": "markdown",
   "metadata": {},
   "source": [
    "#### **Task 7**: Test the hypothesis whether planes fly faster when there is the departure delay? "
   ]
  },
  {
   "cell_type": "code",
   "execution_count": 58,
   "metadata": {},
   "outputs": [
    {
     "name": "stdout",
     "output_type": "stream",
     "text": [
      "p=0.7027\n"
     ]
    }
   ],
   "source": [
    "dep_delay_count = df[df['dep_delay'] > 0]['dep_delay'].count()\n",
    "arr_faster_count = df[(df['arr_delay']-df['dep_delay']<0) & (df['dep_delay']>0)]['arr_delay'].count()\n",
    "print(f'p={arr_faster_count/dep_delay_count:.4f}')"
   ]
  },
  {
   "cell_type": "code",
   "execution_count": null,
   "metadata": {},
   "outputs": [],
   "source": []
  },
  {
   "cell_type": "markdown",
   "metadata": {},
   "source": [
    "#### **Task 8**: When (which hour) do most 'LONG', 'SHORT', 'MEDIUM' haul flights take off?"
   ]
  },
  {
   "cell_type": "code",
   "execution_count": 80,
   "metadata": {},
   "outputs": [],
   "source": [
    "df['distance'].describe().apply('{0:.2f}'.format)\n",
    "_long = (df['distance'] > 1000)\n",
    "_medium = (df['distance'] > 350) & (df['distance'] <=1000)\n",
    "_short = (df['distance'] <= 350)"
   ]
  },
  {
   "cell_type": "code",
   "execution_count": 100,
   "metadata": {},
   "outputs": [
    {
     "name": "stdout",
     "output_type": "stream",
     "text": [
      "LONG  7    288036\n",
      "Name: dep_time, dtype: int64\n",
      "MEDIUM  12    482125\n",
      "Name: dep_time, dtype: int64\n",
      "SHORT  17    260479\n",
      "Name: dep_time, dtype: int64\n"
     ]
    }
   ],
   "source": [
    "# df[_long].groupby(by=['dep_time'])['dep_time'].count().sort_values(ascending=False).head(10)\n",
    "print('LONG', pd.value_counts(df[_long]['dep_time'].dt.hour).head(1))\n",
    "print('MEDIUM', pd.value_counts(df[_medium]['dep_time'].dt.hour).head(1))\n",
    "print('SHORT', pd.value_counts(df[_short]['dep_time'].dt.hour).head(1))"
   ]
  },
  {
   "cell_type": "markdown",
   "metadata": {},
   "source": [
    "#### **Task 9**: Find the top 10 the bussiest airports. Does the biggest number of flights mean that the biggest number of passengers went through the particular airport? How much traffic do these 10 airports cover?"
   ]
  },
  {
   "cell_type": "code",
   "execution_count": 86,
   "metadata": {},
   "outputs": [
    {
     "data": {
      "text/plain": [
       "origin_city_name\n",
       "Chicago, IL              933491\n",
       "Atlanta, GA              779957\n",
       "New York, NY             582299\n",
       "Dallas/Fort Worth, TX    570595\n",
       "Denver, CO               542936\n",
       "Los Angeles, CA          494704\n",
       "Charlotte, NC            490370\n",
       "Houston, TX              465125\n",
       "Washington, DC           461425\n",
       "Seattle, WA              375331\n",
       "Name: origin_city_name, dtype: int64"
      ]
     },
     "execution_count": 86,
     "metadata": {},
     "output_type": "execute_result"
    }
   ],
   "source": [
    "df.groupby(by='origin_city_name')['origin_city_name'].count().sort_values(ascending=False).head(10)"
   ]
  },
  {
   "cell_type": "code",
   "execution_count": 97,
   "metadata": {},
   "outputs": [
    {
     "name": "stdout",
     "output_type": "stream",
     "text": [
      "Those 10 airports cover about 36.49% of total US air trafic in Y2018-2019.\n"
     ]
    }
   ],
   "source": [
    "print(\n",
    "    \"Those 10 airports cover about\",\n",
    "    f\"{df.groupby(by='origin_city_name')['origin_city_name'].count().sort_values(ascending=False).head(10).sum()/df.shape[0]*100:.2f}%\",\n",
    "    \"of total US air trafic in Y2018-2019.\"\n",
    ")"
   ]
  },
  {
   "cell_type": "markdown",
   "metadata": {},
   "source": [
    "#### **Task 10**: Do bigger delays lead to bigger fuel comsumption per passenger? \n",
    "We need to do four things to answer this as accurate as possible:\n",
    "- Find out average monthly delay per air carrier (monthly delay is sum of all delays in 1 month)\n",
    "- Find out distance covered monthly by different air carriers\n",
    "- Find out number of passengers that were carried by different air carriers\n",
    "- Find out total fuel comsumption per air carrier.\n",
    "\n",
    "Use this information to get the average fuel comsumption per passenger per km. Is this higher for the airlines with bigger average delays?"
   ]
  },
  {
   "cell_type": "code",
   "execution_count": 6,
   "metadata": {},
   "outputs": [
    {
     "data": {
      "text/plain": [
       "AA    4024725\n",
       "DL    3454878\n",
       "UA    3022901\n",
       "WN    2659171\n",
       "AS     840708\n",
       "B6     590482\n",
       "NK     375020\n",
       "F9     250584\n",
       "G4     199635\n",
       "HA     177007\n",
       "VX      17153\n",
       "Name: mkt_unique_carrier, dtype: Int64"
      ]
     },
     "execution_count": 6,
     "metadata": {},
     "output_type": "execute_result"
    }
   ],
   "source": [
    "_f_firstweek = (df['fl_date'].dt.month == 1) & (df['fl_date'].dt.day <=7)\n",
    "# df[_f_firstweek].shape\n",
    "df['mkt_unique_carrier'].value_counts()"
   ]
  },
  {
   "cell_type": "code",
   "execution_count": null,
   "metadata": {},
   "outputs": [],
   "source": []
  },
  {
   "cell_type": "markdown",
   "metadata": {},
   "source": [
    "### <span style='color:magenta'> DataFrame Trim Down </span>"
   ]
  },
  {
   "cell_type": "code",
   "execution_count": 23,
   "metadata": {},
   "outputs": [
    {
     "name": "stdout",
     "output_type": "stream",
     "text": [
      "<class 'pandas.core.frame.DataFrame'>\n",
      "RangeIndex: 15605076 entries, 0 to 15605075\n",
      "Data columns (total 22 columns):\n",
      " #   Column               Dtype \n",
      "---  ------               ----- \n",
      " 0   fl_date              object\n",
      " 1   mkt_unique_carrier   object\n",
      " 2   origin               object\n",
      " 3   dest                 object\n",
      " 4   crs_dep_time         int64 \n",
      " 5   dep_time             int64 \n",
      " 6   dep_delay            int64 \n",
      " 7   taxi_out             int64 \n",
      " 8   taxi_in              int64 \n",
      " 9   crs_arr_time         int64 \n",
      " 10  arr_time             int64 \n",
      " 11  arr_delay            int64 \n",
      " 12  cancelled            int64 \n",
      " 13  crs_elapsed_time     int64 \n",
      " 14  actual_elapsed_time  int64 \n",
      " 15  air_time             int64 \n",
      " 16  distance             int64 \n",
      " 17  carrier_delay        int64 \n",
      " 18  weather_delay        int64 \n",
      " 19  nas_delay            int64 \n",
      " 20  security_delay       int64 \n",
      " 21  late_aircraft_delay  int64 \n",
      "dtypes: int64(18), object(4)\n",
      "memory usage: 2.6+ GB\n"
     ]
    }
   ],
   "source": [
    "filename = '../_flights_trim.csv'\n",
    "df = pd.read_csv(filename, engine='c', low_memory=False)\n",
    "df.info()"
   ]
  },
  {
   "cell_type": "code",
   "execution_count": 24,
   "metadata": {},
   "outputs": [
    {
     "data": {
      "text/html": [
       "<div>\n",
       "<style scoped>\n",
       "    .dataframe tbody tr th:only-of-type {\n",
       "        vertical-align: middle;\n",
       "    }\n",
       "\n",
       "    .dataframe tbody tr th {\n",
       "        vertical-align: top;\n",
       "    }\n",
       "\n",
       "    .dataframe thead th {\n",
       "        text-align: right;\n",
       "    }\n",
       "</style>\n",
       "<table border=\"1\" class=\"dataframe\">\n",
       "  <thead>\n",
       "    <tr style=\"text-align: right;\">\n",
       "      <th></th>\n",
       "      <th>fl_date</th>\n",
       "      <th>mkt_unique_carrier</th>\n",
       "      <th>origin</th>\n",
       "      <th>dest</th>\n",
       "      <th>crs_dep_time</th>\n",
       "      <th>dep_time</th>\n",
       "      <th>dep_delay</th>\n",
       "      <th>taxi_out</th>\n",
       "      <th>taxi_in</th>\n",
       "      <th>crs_arr_time</th>\n",
       "      <th>...</th>\n",
       "      <th>cancelled</th>\n",
       "      <th>crs_elapsed_time</th>\n",
       "      <th>actual_elapsed_time</th>\n",
       "      <th>air_time</th>\n",
       "      <th>distance</th>\n",
       "      <th>carrier_delay</th>\n",
       "      <th>weather_delay</th>\n",
       "      <th>nas_delay</th>\n",
       "      <th>security_delay</th>\n",
       "      <th>late_aircraft_delay</th>\n",
       "    </tr>\n",
       "  </thead>\n",
       "  <tbody>\n",
       "    <tr>\n",
       "      <th>0</th>\n",
       "      <td>2018-07-30</td>\n",
       "      <td>DL</td>\n",
       "      <td>ATL</td>\n",
       "      <td>BWI</td>\n",
       "      <td>1803</td>\n",
       "      <td>1759</td>\n",
       "      <td>-4</td>\n",
       "      <td>16</td>\n",
       "      <td>7</td>\n",
       "      <td>2010</td>\n",
       "      <td>...</td>\n",
       "      <td>0</td>\n",
       "      <td>127</td>\n",
       "      <td>107</td>\n",
       "      <td>84</td>\n",
       "      <td>577</td>\n",
       "      <td>0</td>\n",
       "      <td>0</td>\n",
       "      <td>0</td>\n",
       "      <td>0</td>\n",
       "      <td>0</td>\n",
       "    </tr>\n",
       "    <tr>\n",
       "      <th>1</th>\n",
       "      <td>2018-07-30</td>\n",
       "      <td>DL</td>\n",
       "      <td>ATL</td>\n",
       "      <td>MIA</td>\n",
       "      <td>1622</td>\n",
       "      <td>1622</td>\n",
       "      <td>0</td>\n",
       "      <td>13</td>\n",
       "      <td>5</td>\n",
       "      <td>1823</td>\n",
       "      <td>...</td>\n",
       "      <td>0</td>\n",
       "      <td>121</td>\n",
       "      <td>105</td>\n",
       "      <td>87</td>\n",
       "      <td>594</td>\n",
       "      <td>0</td>\n",
       "      <td>0</td>\n",
       "      <td>0</td>\n",
       "      <td>0</td>\n",
       "      <td>0</td>\n",
       "    </tr>\n",
       "    <tr>\n",
       "      <th>2</th>\n",
       "      <td>2018-07-30</td>\n",
       "      <td>DL</td>\n",
       "      <td>MIA</td>\n",
       "      <td>ATL</td>\n",
       "      <td>1905</td>\n",
       "      <td>1911</td>\n",
       "      <td>6</td>\n",
       "      <td>12</td>\n",
       "      <td>14</td>\n",
       "      <td>2112</td>\n",
       "      <td>...</td>\n",
       "      <td>0</td>\n",
       "      <td>127</td>\n",
       "      <td>112</td>\n",
       "      <td>86</td>\n",
       "      <td>594</td>\n",
       "      <td>0</td>\n",
       "      <td>0</td>\n",
       "      <td>0</td>\n",
       "      <td>0</td>\n",
       "      <td>0</td>\n",
       "    </tr>\n",
       "    <tr>\n",
       "      <th>3</th>\n",
       "      <td>2018-07-30</td>\n",
       "      <td>DL</td>\n",
       "      <td>ATL</td>\n",
       "      <td>FLL</td>\n",
       "      <td>1000</td>\n",
       "      <td>1015</td>\n",
       "      <td>15</td>\n",
       "      <td>14</td>\n",
       "      <td>3</td>\n",
       "      <td>1202</td>\n",
       "      <td>...</td>\n",
       "      <td>0</td>\n",
       "      <td>122</td>\n",
       "      <td>99</td>\n",
       "      <td>82</td>\n",
       "      <td>581</td>\n",
       "      <td>0</td>\n",
       "      <td>0</td>\n",
       "      <td>0</td>\n",
       "      <td>0</td>\n",
       "      <td>0</td>\n",
       "    </tr>\n",
       "    <tr>\n",
       "      <th>4</th>\n",
       "      <td>2018-07-30</td>\n",
       "      <td>DL</td>\n",
       "      <td>FLL</td>\n",
       "      <td>ATL</td>\n",
       "      <td>1242</td>\n",
       "      <td>1248</td>\n",
       "      <td>6</td>\n",
       "      <td>56</td>\n",
       "      <td>12</td>\n",
       "      <td>1442</td>\n",
       "      <td>...</td>\n",
       "      <td>0</td>\n",
       "      <td>120</td>\n",
       "      <td>152</td>\n",
       "      <td>84</td>\n",
       "      <td>581</td>\n",
       "      <td>6</td>\n",
       "      <td>0</td>\n",
       "      <td>32</td>\n",
       "      <td>0</td>\n",
       "      <td>0</td>\n",
       "    </tr>\n",
       "  </tbody>\n",
       "</table>\n",
       "<p>5 rows × 22 columns</p>\n",
       "</div>"
      ],
      "text/plain": [
       "      fl_date mkt_unique_carrier origin dest  crs_dep_time  dep_time  \\\n",
       "0  2018-07-30                 DL    ATL  BWI          1803      1759   \n",
       "1  2018-07-30                 DL    ATL  MIA          1622      1622   \n",
       "2  2018-07-30                 DL    MIA  ATL          1905      1911   \n",
       "3  2018-07-30                 DL    ATL  FLL          1000      1015   \n",
       "4  2018-07-30                 DL    FLL  ATL          1242      1248   \n",
       "\n",
       "   dep_delay  taxi_out  taxi_in  crs_arr_time  ...  cancelled  \\\n",
       "0         -4        16        7          2010  ...          0   \n",
       "1          0        13        5          1823  ...          0   \n",
       "2          6        12       14          2112  ...          0   \n",
       "3         15        14        3          1202  ...          0   \n",
       "4          6        56       12          1442  ...          0   \n",
       "\n",
       "   crs_elapsed_time  actual_elapsed_time  air_time  distance  carrier_delay  \\\n",
       "0               127                  107        84       577              0   \n",
       "1               121                  105        87       594              0   \n",
       "2               127                  112        86       594              0   \n",
       "3               122                   99        82       581              0   \n",
       "4               120                  152        84       581              6   \n",
       "\n",
       "   weather_delay  nas_delay  security_delay  late_aircraft_delay  \n",
       "0              0          0               0                    0  \n",
       "1              0          0               0                    0  \n",
       "2              0          0               0                    0  \n",
       "3              0          0               0                    0  \n",
       "4              0         32               0                    0  \n",
       "\n",
       "[5 rows x 22 columns]"
      ]
     },
     "execution_count": 24,
     "metadata": {},
     "output_type": "execute_result"
    }
   ],
   "source": [
    "df.head()"
   ]
  },
  {
   "cell_type": "code",
   "execution_count": 25,
   "metadata": {},
   "outputs": [
    {
     "name": "stdout",
     "output_type": "stream",
     "text": [
      "<class 'pandas.core.frame.DataFrame'>\n",
      "RangeIndex: 15605076 entries, 0 to 15605075\n",
      "Data columns (total 22 columns):\n",
      " #   Column               Dtype         \n",
      "---  ------               -----         \n",
      " 0   fl_date              string        \n",
      " 1   mkt_unique_carrier   string        \n",
      " 2   origin               string        \n",
      " 3   dest                 string        \n",
      " 4   crs_dep_time         datetime64[ns]\n",
      " 5   dep_time             datetime64[ns]\n",
      " 6   dep_delay            int16         \n",
      " 7   taxi_out             int16         \n",
      " 8   taxi_in              int16         \n",
      " 9   crs_arr_time         datetime64[ns]\n",
      " 10  arr_time             datetime64[ns]\n",
      " 11  arr_delay            int16         \n",
      " 12  cancelled            int16         \n",
      " 13  crs_elapsed_time     int16         \n",
      " 14  actual_elapsed_time  int16         \n",
      " 15  air_time             int16         \n",
      " 16  distance             int16         \n",
      " 17  carrier_delay        int16         \n",
      " 18  weather_delay        int16         \n",
      " 19  nas_delay            int16         \n",
      " 20  security_delay       int16         \n",
      " 21  late_aircraft_delay  int16         \n",
      "dtypes: datetime64[ns](4), int16(14), string(4)\n",
      "memory usage: 1.3 GB\n"
     ]
    }
   ],
   "source": [
    "# update dtypes\n",
    "date_obj = ['fl_date']\n",
    "str_obj = ['mkt_unique_carrier', 'origin', 'dest']\n",
    "time_obj = ['crs_dep_time', 'dep_time', 'crs_arr_time', 'arr_time']\n",
    "df[date_obj] = df[date_obj].astype(dtype='string')\n",
    "df[str_obj] = df[str_obj].astype(dtype='string')\n",
    "df.iloc[:, 6:9] = df.iloc[:, 6:9].astype(dtype='int16')\n",
    "df.iloc[:, 11:] = df.iloc[:, 11:].astype(dtype='int16')\n",
    "# update time obj\n",
    "for t in time_obj:\n",
    "    df[t] = df[t].astype(dtype='string').str.zfill(4)\n",
    "    df[t].replace(to_replace={'2400': '0000'}, inplace=True)\n",
    "    df[t] = df['fl_date'] + df[t]\n",
    "    df[t] = pd.to_datetime(df[t], format='%Y-%m-%d%H%M', errors='coerce')\n",
    "df.info()"
   ]
  },
  {
   "cell_type": "code",
   "execution_count": 26,
   "metadata": {},
   "outputs": [
    {
     "data": {
      "text/html": [
       "<div>\n",
       "<style scoped>\n",
       "    .dataframe tbody tr th:only-of-type {\n",
       "        vertical-align: middle;\n",
       "    }\n",
       "\n",
       "    .dataframe tbody tr th {\n",
       "        vertical-align: top;\n",
       "    }\n",
       "\n",
       "    .dataframe thead th {\n",
       "        text-align: right;\n",
       "    }\n",
       "</style>\n",
       "<table border=\"1\" class=\"dataframe\">\n",
       "  <thead>\n",
       "    <tr style=\"text-align: right;\">\n",
       "      <th></th>\n",
       "      <th>fl_date</th>\n",
       "      <th>mkt_unique_carrier</th>\n",
       "      <th>origin</th>\n",
       "      <th>dest</th>\n",
       "      <th>crs_dep_time</th>\n",
       "      <th>dep_time</th>\n",
       "      <th>dep_delay</th>\n",
       "      <th>taxi_out</th>\n",
       "      <th>taxi_in</th>\n",
       "      <th>crs_arr_time</th>\n",
       "      <th>...</th>\n",
       "      <th>cancelled</th>\n",
       "      <th>crs_elapsed_time</th>\n",
       "      <th>actual_elapsed_time</th>\n",
       "      <th>air_time</th>\n",
       "      <th>distance</th>\n",
       "      <th>carrier_delay</th>\n",
       "      <th>weather_delay</th>\n",
       "      <th>nas_delay</th>\n",
       "      <th>security_delay</th>\n",
       "      <th>late_aircraft_delay</th>\n",
       "    </tr>\n",
       "  </thead>\n",
       "  <tbody>\n",
       "    <tr>\n",
       "      <th>0</th>\n",
       "      <td>2018-07-30</td>\n",
       "      <td>DL</td>\n",
       "      <td>ATL</td>\n",
       "      <td>BWI</td>\n",
       "      <td>2018-07-30 18:03:00</td>\n",
       "      <td>2018-07-30 17:59:00</td>\n",
       "      <td>-4</td>\n",
       "      <td>16</td>\n",
       "      <td>7</td>\n",
       "      <td>2018-07-30 20:10:00</td>\n",
       "      <td>...</td>\n",
       "      <td>0</td>\n",
       "      <td>127</td>\n",
       "      <td>107</td>\n",
       "      <td>84</td>\n",
       "      <td>577</td>\n",
       "      <td>0</td>\n",
       "      <td>0</td>\n",
       "      <td>0</td>\n",
       "      <td>0</td>\n",
       "      <td>0</td>\n",
       "    </tr>\n",
       "    <tr>\n",
       "      <th>1</th>\n",
       "      <td>2018-07-30</td>\n",
       "      <td>DL</td>\n",
       "      <td>ATL</td>\n",
       "      <td>MIA</td>\n",
       "      <td>2018-07-30 16:22:00</td>\n",
       "      <td>2018-07-30 16:22:00</td>\n",
       "      <td>0</td>\n",
       "      <td>13</td>\n",
       "      <td>5</td>\n",
       "      <td>2018-07-30 18:23:00</td>\n",
       "      <td>...</td>\n",
       "      <td>0</td>\n",
       "      <td>121</td>\n",
       "      <td>105</td>\n",
       "      <td>87</td>\n",
       "      <td>594</td>\n",
       "      <td>0</td>\n",
       "      <td>0</td>\n",
       "      <td>0</td>\n",
       "      <td>0</td>\n",
       "      <td>0</td>\n",
       "    </tr>\n",
       "    <tr>\n",
       "      <th>2</th>\n",
       "      <td>2018-07-30</td>\n",
       "      <td>DL</td>\n",
       "      <td>MIA</td>\n",
       "      <td>ATL</td>\n",
       "      <td>2018-07-30 19:05:00</td>\n",
       "      <td>2018-07-30 19:11:00</td>\n",
       "      <td>6</td>\n",
       "      <td>12</td>\n",
       "      <td>14</td>\n",
       "      <td>2018-07-30 21:12:00</td>\n",
       "      <td>...</td>\n",
       "      <td>0</td>\n",
       "      <td>127</td>\n",
       "      <td>112</td>\n",
       "      <td>86</td>\n",
       "      <td>594</td>\n",
       "      <td>0</td>\n",
       "      <td>0</td>\n",
       "      <td>0</td>\n",
       "      <td>0</td>\n",
       "      <td>0</td>\n",
       "    </tr>\n",
       "    <tr>\n",
       "      <th>3</th>\n",
       "      <td>2018-07-30</td>\n",
       "      <td>DL</td>\n",
       "      <td>ATL</td>\n",
       "      <td>FLL</td>\n",
       "      <td>2018-07-30 10:00:00</td>\n",
       "      <td>2018-07-30 10:15:00</td>\n",
       "      <td>15</td>\n",
       "      <td>14</td>\n",
       "      <td>3</td>\n",
       "      <td>2018-07-30 12:02:00</td>\n",
       "      <td>...</td>\n",
       "      <td>0</td>\n",
       "      <td>122</td>\n",
       "      <td>99</td>\n",
       "      <td>82</td>\n",
       "      <td>581</td>\n",
       "      <td>0</td>\n",
       "      <td>0</td>\n",
       "      <td>0</td>\n",
       "      <td>0</td>\n",
       "      <td>0</td>\n",
       "    </tr>\n",
       "    <tr>\n",
       "      <th>4</th>\n",
       "      <td>2018-07-30</td>\n",
       "      <td>DL</td>\n",
       "      <td>FLL</td>\n",
       "      <td>ATL</td>\n",
       "      <td>2018-07-30 12:42:00</td>\n",
       "      <td>2018-07-30 12:48:00</td>\n",
       "      <td>6</td>\n",
       "      <td>56</td>\n",
       "      <td>12</td>\n",
       "      <td>2018-07-30 14:42:00</td>\n",
       "      <td>...</td>\n",
       "      <td>0</td>\n",
       "      <td>120</td>\n",
       "      <td>152</td>\n",
       "      <td>84</td>\n",
       "      <td>581</td>\n",
       "      <td>6</td>\n",
       "      <td>0</td>\n",
       "      <td>32</td>\n",
       "      <td>0</td>\n",
       "      <td>0</td>\n",
       "    </tr>\n",
       "  </tbody>\n",
       "</table>\n",
       "<p>5 rows × 22 columns</p>\n",
       "</div>"
      ],
      "text/plain": [
       "      fl_date mkt_unique_carrier origin dest        crs_dep_time  \\\n",
       "0  2018-07-30                 DL    ATL  BWI 2018-07-30 18:03:00   \n",
       "1  2018-07-30                 DL    ATL  MIA 2018-07-30 16:22:00   \n",
       "2  2018-07-30                 DL    MIA  ATL 2018-07-30 19:05:00   \n",
       "3  2018-07-30                 DL    ATL  FLL 2018-07-30 10:00:00   \n",
       "4  2018-07-30                 DL    FLL  ATL 2018-07-30 12:42:00   \n",
       "\n",
       "             dep_time  dep_delay  taxi_out  taxi_in        crs_arr_time  ...  \\\n",
       "0 2018-07-30 17:59:00         -4        16        7 2018-07-30 20:10:00  ...   \n",
       "1 2018-07-30 16:22:00          0        13        5 2018-07-30 18:23:00  ...   \n",
       "2 2018-07-30 19:11:00          6        12       14 2018-07-30 21:12:00  ...   \n",
       "3 2018-07-30 10:15:00         15        14        3 2018-07-30 12:02:00  ...   \n",
       "4 2018-07-30 12:48:00          6        56       12 2018-07-30 14:42:00  ...   \n",
       "\n",
       "  cancelled  crs_elapsed_time  actual_elapsed_time  air_time  distance  \\\n",
       "0         0               127                  107        84       577   \n",
       "1         0               121                  105        87       594   \n",
       "2         0               127                  112        86       594   \n",
       "3         0               122                   99        82       581   \n",
       "4         0               120                  152        84       581   \n",
       "\n",
       "   carrier_delay  weather_delay  nas_delay  security_delay  \\\n",
       "0              0              0          0               0   \n",
       "1              0              0          0               0   \n",
       "2              0              0          0               0   \n",
       "3              0              0          0               0   \n",
       "4              6              0         32               0   \n",
       "\n",
       "   late_aircraft_delay  \n",
       "0                    0  \n",
       "1                    0  \n",
       "2                    0  \n",
       "3                    0  \n",
       "4                    0  \n",
       "\n",
       "[5 rows x 22 columns]"
      ]
     },
     "execution_count": 26,
     "metadata": {},
     "output_type": "execute_result"
    }
   ],
   "source": [
    "df.head()"
   ]
  },
  {
   "cell_type": "code",
   "execution_count": 27,
   "metadata": {},
   "outputs": [
    {
     "data": {
      "text/plain": [
       "(15605071, 22)"
      ]
     },
     "execution_count": 27,
     "metadata": {},
     "output_type": "execute_result"
    }
   ],
   "source": [
    "df.drop(index=df[df['air_time'] < 0].index, inplace=True)\n",
    "df.shape"
   ]
  },
  {
   "cell_type": "code",
   "execution_count": 28,
   "metadata": {},
   "outputs": [
    {
     "data": {
      "text/plain": [
       "2923350   -475\n",
       "3348020   -260\n",
       "3348067   -258\n",
       "3347985   -254\n",
       "3348156   -253\n",
       "Name: arr_delay, dtype: int16"
      ]
     },
     "execution_count": 28,
     "metadata": {},
     "output_type": "execute_result"
    }
   ],
   "source": [
    "df['arr_delay'].sort_values().head()"
   ]
  },
  {
   "cell_type": "markdown",
   "metadata": {},
   "source": [
    "### <span style='color:magenta'> Possible Features </span>"
   ]
  },
  {
   "cell_type": "code",
   "execution_count": 29,
   "metadata": {},
   "outputs": [
    {
     "data": {
      "text/html": [
       "<div>\n",
       "<style scoped>\n",
       "    .dataframe tbody tr th:only-of-type {\n",
       "        vertical-align: middle;\n",
       "    }\n",
       "\n",
       "    .dataframe tbody tr th {\n",
       "        vertical-align: top;\n",
       "    }\n",
       "\n",
       "    .dataframe thead th {\n",
       "        text-align: right;\n",
       "    }\n",
       "</style>\n",
       "<table border=\"1\" class=\"dataframe\">\n",
       "  <thead>\n",
       "    <tr style=\"text-align: right;\">\n",
       "      <th></th>\n",
       "      <th>arr_delay</th>\n",
       "      <th>mkt_unique_carrier</th>\n",
       "      <th>origin</th>\n",
       "      <th>crs_dep_time</th>\n",
       "      <th>dest</th>\n",
       "      <th>crs_arr_time</th>\n",
       "      <th>crs_elapsed_time</th>\n",
       "      <th>actual_elapsed_time</th>\n",
       "      <th>distance</th>\n",
       "      <th>carrier_delay</th>\n",
       "      <th>weather_delay</th>\n",
       "      <th>nas_delay</th>\n",
       "      <th>late_aircraft_delay</th>\n",
       "    </tr>\n",
       "  </thead>\n",
       "  <tbody>\n",
       "    <tr>\n",
       "      <th>4</th>\n",
       "      <td>38</td>\n",
       "      <td>DL</td>\n",
       "      <td>FLL</td>\n",
       "      <td>2018-07-30 12:42:00</td>\n",
       "      <td>ATL</td>\n",
       "      <td>2018-07-30 14:42:00</td>\n",
       "      <td>120</td>\n",
       "      <td>152</td>\n",
       "      <td>581</td>\n",
       "      <td>6</td>\n",
       "      <td>0</td>\n",
       "      <td>32</td>\n",
       "      <td>0</td>\n",
       "    </tr>\n",
       "    <tr>\n",
       "      <th>5</th>\n",
       "      <td>13</td>\n",
       "      <td>DL</td>\n",
       "      <td>MSP</td>\n",
       "      <td>2018-07-30 20:31:00</td>\n",
       "      <td>SFO</td>\n",
       "      <td>2018-07-30 22:50:00</td>\n",
       "      <td>259</td>\n",
       "      <td>274</td>\n",
       "      <td>1589</td>\n",
       "      <td>0</td>\n",
       "      <td>0</td>\n",
       "      <td>0</td>\n",
       "      <td>0</td>\n",
       "    </tr>\n",
       "    <tr>\n",
       "      <th>9</th>\n",
       "      <td>21</td>\n",
       "      <td>DL</td>\n",
       "      <td>MDW</td>\n",
       "      <td>2018-07-30 06:00:00</td>\n",
       "      <td>ATL</td>\n",
       "      <td>2018-07-30 08:49:00</td>\n",
       "      <td>109</td>\n",
       "      <td>128</td>\n",
       "      <td>591</td>\n",
       "      <td>0</td>\n",
       "      <td>0</td>\n",
       "      <td>21</td>\n",
       "      <td>0</td>\n",
       "    </tr>\n",
       "    <tr>\n",
       "      <th>12</th>\n",
       "      <td>6</td>\n",
       "      <td>DL</td>\n",
       "      <td>ALB</td>\n",
       "      <td>2018-07-30 18:15:00</td>\n",
       "      <td>ATL</td>\n",
       "      <td>2018-07-30 20:53:00</td>\n",
       "      <td>158</td>\n",
       "      <td>146</td>\n",
       "      <td>853</td>\n",
       "      <td>0</td>\n",
       "      <td>0</td>\n",
       "      <td>0</td>\n",
       "      <td>0</td>\n",
       "    </tr>\n",
       "    <tr>\n",
       "      <th>13</th>\n",
       "      <td>18</td>\n",
       "      <td>DL</td>\n",
       "      <td>ATL</td>\n",
       "      <td>2018-07-30 15:11:00</td>\n",
       "      <td>ALB</td>\n",
       "      <td>2018-07-30 17:35:00</td>\n",
       "      <td>144</td>\n",
       "      <td>149</td>\n",
       "      <td>853</td>\n",
       "      <td>0</td>\n",
       "      <td>0</td>\n",
       "      <td>18</td>\n",
       "      <td>0</td>\n",
       "    </tr>\n",
       "  </tbody>\n",
       "</table>\n",
       "</div>"
      ],
      "text/plain": [
       "    arr_delay mkt_unique_carrier origin        crs_dep_time dest  \\\n",
       "4          38                 DL    FLL 2018-07-30 12:42:00  ATL   \n",
       "5          13                 DL    MSP 2018-07-30 20:31:00  SFO   \n",
       "9          21                 DL    MDW 2018-07-30 06:00:00  ATL   \n",
       "12          6                 DL    ALB 2018-07-30 18:15:00  ATL   \n",
       "13         18                 DL    ATL 2018-07-30 15:11:00  ALB   \n",
       "\n",
       "          crs_arr_time  crs_elapsed_time  actual_elapsed_time  distance  \\\n",
       "4  2018-07-30 14:42:00               120                  152       581   \n",
       "5  2018-07-30 22:50:00               259                  274      1589   \n",
       "9  2018-07-30 08:49:00               109                  128       591   \n",
       "12 2018-07-30 20:53:00               158                  146       853   \n",
       "13 2018-07-30 17:35:00               144                  149       853   \n",
       "\n",
       "    carrier_delay  weather_delay  nas_delay  late_aircraft_delay  \n",
       "4               6              0         32                    0  \n",
       "5               0              0          0                    0  \n",
       "9               0              0         21                    0  \n",
       "12              0              0          0                    0  \n",
       "13              0              0         18                    0  "
      ]
     },
     "execution_count": 29,
     "metadata": {},
     "output_type": "execute_result"
    }
   ],
   "source": [
    "dff = df[(df['arr_delay'] > 0) & (df['arr_delay'] < 300)][\n",
    "    [\n",
    "        'arr_delay',          # target value\n",
    "        'mkt_unique_carrier', # category for avg_carrier_delay\n",
    "        'origin',             # dep_weather\n",
    "        'crs_dep_time',       # avg_dep_traffic / check_weather\n",
    "        'dest',               # arr_weather\n",
    "        'crs_arr_time',       # avg_arr_traffic / check_weather\n",
    "        'crs_elapsed_time',   # this one should work the same as distance\n",
    "        'actual_elapsed_time',# ac_e_time - crs_e_time = traffic delay on both ends, could be categorized into nas_delay\n",
    "        'distance',           # this one should work the same as crs_elapsed_time*\n",
    "        'carrier_delay',      # avg_carrier_delay\n",
    "        'weather_delay',      # avg_extreme_weather_delay, based on weather info, should be 0 for most\n",
    "        'nas_delay',          # this relates to air_traffic and non-extreme weather_effect\n",
    "        'security_delay',     # very minimal impact, drop column later\n",
    "        'late_aircraft_delay' # avg_late_aircraft_delay per carrier?/airport?\n",
    "    ]\n",
    "]\n",
    "dff.drop(index=dff[dff['security_delay'] > 0].index, inplace=True)\n",
    "dff.drop(columns=['security_delay'], inplace=True)\n",
    "dff.info()"
   ]
  },
  {
   "cell_type": "code",
   "execution_count": 30,
   "metadata": {},
   "outputs": [
    {
     "name": "stdout",
     "output_type": "stream",
     "text": [
      "<class 'pandas.core.frame.DataFrame'>\n",
      "Int64Index: 5407500 entries, 4 to 15605073\n",
      "Data columns (total 13 columns):\n",
      " #   Column               Dtype         \n",
      "---  ------               -----         \n",
      " 0   arr_delay            int16         \n",
      " 1   mkt_unique_carrier   string        \n",
      " 2   origin               string        \n",
      " 3   crs_dep_time         datetime64[ns]\n",
      " 4   dest                 string        \n",
      " 5   crs_arr_time         datetime64[ns]\n",
      " 6   crs_elapsed_time     int16         \n",
      " 7   actual_elapsed_time  int16         \n",
      " 8   distance             int16         \n",
      " 9   carrier_delay        int16         \n",
      " 10  weather_delay        int16         \n",
      " 11  nas_delay            int16         \n",
      " 12  late_aircraft_delay  int16         \n",
      "dtypes: datetime64[ns](2), int16(8), string(3)\n",
      "memory usage: 330.0 MB\n"
     ]
    }
   ],
   "source": [
    "dff.head()"
   ]
  },
  {
   "cell_type": "code",
   "execution_count": 31,
   "metadata": {},
   "outputs": [],
   "source": [
    "dff.to_csv('../_flights_feat.csv', index=False)"
   ]
  }
 ],
 "metadata": {
  "kernelspec": {
   "display_name": "Python 3",
   "language": "python",
   "name": "python3"
  },
  "language_info": {
   "codemirror_mode": {
    "name": "ipython",
    "version": 3
   },
   "file_extension": ".py",
   "mimetype": "text/x-python",
   "name": "python",
   "nbconvert_exporter": "python",
   "pygments_lexer": "ipython3",
   "version": "3.10.4"
  },
  "toc": {
   "base_numbering": 1,
   "nav_menu": {},
   "number_sections": true,
   "sideBar": true,
   "skip_h1_title": false,
   "title_cell": "Table of Contents",
   "title_sidebar": "Contents",
   "toc_cell": false,
   "toc_position": {},
   "toc_section_display": true,
   "toc_window_display": false
  },
  "varInspector": {
   "cols": {
    "lenName": 16,
    "lenType": 16,
    "lenVar": 40
   },
   "kernels_config": {
    "python": {
     "delete_cmd_postfix": "",
     "delete_cmd_prefix": "del ",
     "library": "var_list.py",
     "varRefreshCmd": "print(var_dic_list())"
    },
    "r": {
     "delete_cmd_postfix": ") ",
     "delete_cmd_prefix": "rm(",
     "library": "var_list.r",
     "varRefreshCmd": "cat(var_dic_list()) "
    }
   },
   "types_to_exclude": [
    "module",
    "function",
    "builtin_function_or_method",
    "instance",
    "_Feature"
   ],
   "window_display": false
  }
 },
 "nbformat": 4,
 "nbformat_minor": 4
}
