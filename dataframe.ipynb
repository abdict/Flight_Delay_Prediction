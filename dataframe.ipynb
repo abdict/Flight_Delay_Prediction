{
 "cells": [
  {
   "cell_type": "code",
   "execution_count": 2,
   "metadata": {},
   "outputs": [],
   "source": [
    "import pandas as pd"
   ]
  },
  {
   "cell_type": "code",
   "execution_count": 20,
   "metadata": {},
   "outputs": [
    {
     "name": "stdout",
     "output_type": "stream",
     "text": [
      "<class 'pandas.core.frame.DataFrame'>\n",
      "RangeIndex: 15927485 entries, 0 to 15927484\n",
      "Data columns (total 42 columns):\n",
      " #   Column               Dtype  \n",
      "---  ------               -----  \n",
      " 0   fl_date              object \n",
      " 1   mkt_unique_carrier   object \n",
      " 2   branded_code_share   object \n",
      " 3   mkt_carrier          object \n",
      " 4   mkt_carrier_fl_num   int64  \n",
      " 5   op_unique_carrier    object \n",
      " 6   tail_num             object \n",
      " 7   op_carrier_fl_num    int64  \n",
      " 8   origin_airport_id    int64  \n",
      " 9   origin               object \n",
      " 10  origin_city_name     object \n",
      " 11  dest_airport_id      int64  \n",
      " 12  dest                 object \n",
      " 13  dest_city_name       object \n",
      " 14  crs_dep_time         int64  \n",
      " 15  dep_time             float64\n",
      " 16  dep_delay            float64\n",
      " 17  taxi_out             float64\n",
      " 18  wheels_off           float64\n",
      " 19  wheels_on            float64\n",
      " 20  taxi_in              float64\n",
      " 21  crs_arr_time         int64  \n",
      " 22  arr_time             float64\n",
      " 23  arr_delay            float64\n",
      " 24  cancelled            int64  \n",
      " 25  cancellation_code    object \n",
      " 26  diverted             int64  \n",
      " 27  dup                  object \n",
      " 28  crs_elapsed_time     float64\n",
      " 29  actual_elapsed_time  float64\n",
      " 30  air_time             float64\n",
      " 31  flights              int64  \n",
      " 32  distance             int64  \n",
      " 33  carrier_delay        float64\n",
      " 34  weather_delay        float64\n",
      " 35  nas_delay            float64\n",
      " 36  security_delay       float64\n",
      " 37  late_aircraft_delay  float64\n",
      " 38  first_dep_time       float64\n",
      " 39  total_add_gtime      float64\n",
      " 40  longest_add_gtime    float64\n",
      " 41  no_name              float64\n",
      "dtypes: float64(20), int64(10), object(12)\n",
      "memory usage: 5.0+ GB\n"
     ]
    }
   ],
   "source": [
    "filename = '../flights.csv'\n",
    "df = pd.read_csv(filename, engine='c', low_memory=False)\n",
    "df.info()"
   ]
  },
  {
   "cell_type": "markdown",
   "metadata": {},
   "source": [
    "### <span style='color:crimson'>1. Drop NA </span>"
   ]
  },
  {
   "cell_type": "code",
   "execution_count": 40,
   "metadata": {},
   "outputs": [
    {
     "name": "stdout",
     "output_type": "stream",
     "text": [
      "fl_date               0\n",
      "mkt_unique_carrier    0\n",
      "branded_code_share    0\n",
      "mkt_carrier           0\n",
      "mkt_carrier_fl_num    0\n",
      "op_unique_carrier     0\n",
      "tail_num              0\n",
      "op_carrier_fl_num     0\n",
      "origin_airport_id     0\n",
      "origin                0\n",
      "origin_city_name      0\n",
      "dest_airport_id       0\n",
      "dest                  0\n",
      "dest_city_name        0\n",
      "dtype: int64\n"
     ]
    }
   ],
   "source": [
    "print(df.iloc[:, :14].isnull().sum())"
   ]
  },
  {
   "cell_type": "code",
   "execution_count": 28,
   "metadata": {},
   "outputs": [
    {
     "name": "stdout",
     "output_type": "stream",
     "text": [
      "crs_dep_time       0\n",
      "dep_time           8\n",
      "dep_delay       4589\n",
      "taxi_out        6071\n",
      "wheels_off      6071\n",
      "wheels_on       6072\n",
      "taxi_in         6073\n",
      "crs_arr_time       0\n",
      "arr_time          10\n",
      "arr_delay          0\n",
      "cancelled          0\n",
      "dtype: int64\n",
      "(15615741, 42)\n"
     ]
    }
   ],
   "source": [
    "print(df.iloc[:, 14:25].isnull().sum())\n",
    "df.drop(index=df.loc[df['arr_delay'].isnull()].index, inplace=True)\n",
    "print(df.shape)"
   ]
  },
  {
   "cell_type": "code",
   "execution_count": 29,
   "metadata": {},
   "outputs": [
    {
     "name": "stdout",
     "output_type": "stream",
     "text": [
      "crs_dep_time       0\n",
      "dep_time           8\n",
      "dep_delay       4589\n",
      "taxi_out        6071\n",
      "wheels_off      6071\n",
      "wheels_on       6072\n",
      "taxi_in         6073\n",
      "crs_arr_time       0\n",
      "arr_time          10\n",
      "arr_delay          0\n",
      "cancelled          0\n",
      "dtype: int64\n",
      "(15609668, 42)\n"
     ]
    }
   ],
   "source": [
    "print(df.iloc[:, 14:25].isnull().sum())\n",
    "df.drop(index=df.loc[df['taxi_in'].isnull()].index, inplace=True)\n",
    "print(df.shape)"
   ]
  },
  {
   "cell_type": "code",
   "execution_count": 31,
   "metadata": {},
   "outputs": [
    {
     "name": "stdout",
     "output_type": "stream",
     "text": [
      "crs_dep_time       0\n",
      "dep_time           1\n",
      "dep_delay       4589\n",
      "taxi_out           2\n",
      "wheels_off         2\n",
      "wheels_on          0\n",
      "taxi_in            0\n",
      "crs_arr_time       0\n",
      "arr_time           0\n",
      "arr_delay          0\n",
      "cancelled          0\n",
      "dtype: int64\n",
      "(15605079, 42)\n"
     ]
    }
   ],
   "source": [
    "print(df.iloc[:, 14:25].isnull().sum())\n",
    "df.drop(index=df.loc[df['dep_delay'].isnull()].index, inplace=True)\n",
    "print(df.shape)"
   ]
  },
  {
   "cell_type": "code",
   "execution_count": 33,
   "metadata": {},
   "outputs": [
    {
     "name": "stdout",
     "output_type": "stream",
     "text": [
      "crs_dep_time    0\n",
      "dep_time        0\n",
      "dep_delay       0\n",
      "taxi_out        1\n",
      "wheels_off      1\n",
      "wheels_on       0\n",
      "taxi_in         0\n",
      "crs_arr_time    0\n",
      "arr_time        0\n",
      "arr_delay       0\n",
      "cancelled       0\n",
      "dtype: int64\n",
      "(15605078, 42)\n"
     ]
    }
   ],
   "source": [
    "print(df.iloc[:, 14:25].isnull().sum())\n",
    "df.drop(index=df.loc[df['taxi_out'].isnull()].index, inplace=True)\n",
    "print(df.shape)"
   ]
  },
  {
   "cell_type": "code",
   "execution_count": 34,
   "metadata": {},
   "outputs": [
    {
     "name": "stdout",
     "output_type": "stream",
     "text": [
      "crs_dep_time    0\n",
      "dep_time        0\n",
      "dep_delay       0\n",
      "taxi_out        0\n",
      "wheels_off      0\n",
      "wheels_on       0\n",
      "taxi_in         0\n",
      "crs_arr_time    0\n",
      "arr_time        0\n",
      "arr_delay       0\n",
      "cancelled       0\n",
      "dtype: int64\n"
     ]
    }
   ],
   "source": [
    "print(df.iloc[:, 14:25].isnull().sum())"
   ]
  },
  {
   "cell_type": "code",
   "execution_count": 36,
   "metadata": {},
   "outputs": [
    {
     "name": "stdout",
     "output_type": "stream",
     "text": [
      "crs_elapsed_time              1\n",
      "actual_elapsed_time           1\n",
      "air_time                      1\n",
      "flights                       0\n",
      "distance                      0\n",
      "carrier_delay          12597221\n",
      "weather_delay          12597221\n",
      "nas_delay              12597221\n",
      "security_delay         12597221\n",
      "late_aircraft_delay    12597221\n",
      "first_dep_time         15505234\n",
      "total_add_gtime        15505239\n",
      "longest_add_gtime      15505236\n",
      "no_name                15605078\n",
      "dtype: int64\n",
      "(15605077, 42)\n"
     ]
    }
   ],
   "source": [
    "print(df.iloc[:, 28:].isnull().sum())\n",
    "df.drop(index=df.loc[df['air_time'].isnull()].index, inplace=True)\n",
    "print(df.shape)"
   ]
  },
  {
   "cell_type": "code",
   "execution_count": 38,
   "metadata": {},
   "outputs": [
    {
     "name": "stdout",
     "output_type": "stream",
     "text": [
      "crs_elapsed_time              1\n",
      "actual_elapsed_time           0\n",
      "air_time                      0\n",
      "flights                       0\n",
      "distance                      0\n",
      "carrier_delay          12597220\n",
      "weather_delay          12597220\n",
      "nas_delay              12597220\n",
      "security_delay         12597220\n",
      "late_aircraft_delay    12597220\n",
      "first_dep_time         15505233\n",
      "total_add_gtime        15505238\n",
      "longest_add_gtime      15505235\n",
      "no_name                15605077\n",
      "dtype: int64\n",
      "(15605076, 42)\n"
     ]
    }
   ],
   "source": [
    "print(df.iloc[:, 28:].isnull().sum())\n",
    "df.drop(index=df.loc[df['crs_elapsed_time'].isnull()].index, inplace=True)\n",
    "print(df.shape)"
   ]
  },
  {
   "cell_type": "markdown",
   "metadata": {},
   "source": [
    "### <span style='color:crimson'>2. Fill NA </span>"
   ]
  },
  {
   "cell_type": "code",
   "execution_count": 45,
   "metadata": {},
   "outputs": [
    {
     "name": "stdout",
     "output_type": "stream",
     "text": [
      "crs_elapsed_time              0\n",
      "actual_elapsed_time           0\n",
      "air_time                      0\n",
      "flights                       0\n",
      "distance                      0\n",
      "carrier_delay          12597220\n",
      "weather_delay          12597220\n",
      "nas_delay              12597220\n",
      "security_delay         12597220\n",
      "late_aircraft_delay    12597220\n",
      "first_dep_time         15505232\n",
      "total_add_gtime        15505237\n",
      "longest_add_gtime      15505234\n",
      "no_name                15605076\n",
      "dtype: int64\n",
      "crs_elapsed_time       0\n",
      "actual_elapsed_time    0\n",
      "air_time               0\n",
      "flights                0\n",
      "distance               0\n",
      "carrier_delay          0\n",
      "weather_delay          0\n",
      "nas_delay              0\n",
      "security_delay         0\n",
      "late_aircraft_delay    0\n",
      "first_dep_time         0\n",
      "total_add_gtime        0\n",
      "longest_add_gtime      0\n",
      "no_name                0\n",
      "dtype: int64\n"
     ]
    }
   ],
   "source": [
    "print(df.iloc[:, 28:].isnull().sum())\n",
    "df.iloc[:, 33:] = df.iloc[:, 33:].fillna(value=0, axis=0)\n",
    "print(df.iloc[:, 28:].isnull().sum())"
   ]
  },
  {
   "cell_type": "markdown",
   "metadata": {},
   "source": [
    "### <span style='color:crimson'>3. Check Null Again </span>"
   ]
  },
  {
   "cell_type": "code",
   "execution_count": 47,
   "metadata": {},
   "outputs": [
    {
     "name": "stdout",
     "output_type": "stream",
     "text": [
      "fl_date               0\n",
      "mkt_unique_carrier    0\n",
      "branded_code_share    0\n",
      "mkt_carrier           0\n",
      "mkt_carrier_fl_num    0\n",
      "op_unique_carrier     0\n",
      "tail_num              0\n",
      "op_carrier_fl_num     0\n",
      "origin_airport_id     0\n",
      "origin                0\n",
      "origin_city_name      0\n",
      "dest_airport_id       0\n",
      "dest                  0\n",
      "dest_city_name        0\n",
      "crs_dep_time          0\n",
      "dep_time              0\n",
      "dep_delay             0\n",
      "taxi_out              0\n",
      "wheels_off            0\n",
      "wheels_on             0\n",
      "taxi_in               0\n",
      "crs_arr_time          0\n",
      "dtype: int64\n"
     ]
    }
   ],
   "source": [
    "print(df.iloc[:, :22].isnull().sum())"
   ]
  },
  {
   "cell_type": "code",
   "execution_count": 48,
   "metadata": {},
   "outputs": [
    {
     "name": "stdout",
     "output_type": "stream",
     "text": [
      "arr_time                      0\n",
      "arr_delay                     0\n",
      "cancelled                     0\n",
      "cancellation_code      15605076\n",
      "diverted                      0\n",
      "dup                           0\n",
      "crs_elapsed_time              0\n",
      "actual_elapsed_time           0\n",
      "air_time                      0\n",
      "flights                       0\n",
      "distance                      0\n",
      "carrier_delay                 0\n",
      "weather_delay                 0\n",
      "nas_delay                     0\n",
      "security_delay                0\n",
      "late_aircraft_delay           0\n",
      "first_dep_time                0\n",
      "total_add_gtime               0\n",
      "longest_add_gtime             0\n",
      "no_name                       0\n",
      "dtype: int64\n"
     ]
    }
   ],
   "source": [
    "print(df.iloc[:, 22:].isnull().sum())"
   ]
  },
  {
   "cell_type": "markdown",
   "metadata": {},
   "source": [
    "### <span style='color:crimson'>4. Type Conversion </span>"
   ]
  },
  {
   "cell_type": "code",
   "execution_count": 49,
   "metadata": {},
   "outputs": [
    {
     "name": "stdout",
     "output_type": "stream",
     "text": [
      "<class 'pandas.core.frame.DataFrame'>\n",
      "Int64Index: 15605076 entries, 0 to 15927484\n",
      "Data columns (total 42 columns):\n",
      " #   Column               Dtype \n",
      "---  ------               ----- \n",
      " 0   fl_date              string\n",
      " 1   mkt_unique_carrier   string\n",
      " 2   branded_code_share   string\n",
      " 3   mkt_carrier          string\n",
      " 4   mkt_carrier_fl_num   int16 \n",
      " 5   op_unique_carrier    string\n",
      " 6   tail_num             string\n",
      " 7   op_carrier_fl_num    int16 \n",
      " 8   origin_airport_id    int16 \n",
      " 9   origin               string\n",
      " 10  origin_city_name     string\n",
      " 11  dest_airport_id      int16 \n",
      " 12  dest                 string\n",
      " 13  dest_city_name       string\n",
      " 14  crs_dep_time         int16 \n",
      " 15  dep_time             int16 \n",
      " 16  dep_delay            int16 \n",
      " 17  taxi_out             int16 \n",
      " 18  wheels_off           int16 \n",
      " 19  wheels_on            int16 \n",
      " 20  taxi_in              int16 \n",
      " 21  crs_arr_time         int16 \n",
      " 22  arr_time             int16 \n",
      " 23  arr_delay            int16 \n",
      " 24  cancelled            int16 \n",
      " 25  cancellation_code    string\n",
      " 26  diverted             int16 \n",
      " 27  dup                  string\n",
      " 28  crs_elapsed_time     int16 \n",
      " 29  actual_elapsed_time  int16 \n",
      " 30  air_time             int16 \n",
      " 31  flights              int16 \n",
      " 32  distance             int16 \n",
      " 33  carrier_delay        int16 \n",
      " 34  weather_delay        int16 \n",
      " 35  nas_delay            int16 \n",
      " 36  security_delay       int16 \n",
      " 37  late_aircraft_delay  int16 \n",
      " 38  first_dep_time       int16 \n",
      " 39  total_add_gtime      int16 \n",
      " 40  longest_add_gtime    int16 \n",
      " 41  no_name              int16 \n",
      "dtypes: int16(30), string(12)\n",
      "memory usage: 2.4 GB\n"
     ]
    }
   ],
   "source": [
    "# update dtypes\n",
    "df.iloc[:, 0:4] = df.iloc[:, 0:4].astype(dtype='string')\n",
    "df.iloc[:, 4] = df.iloc[:, 4].astype(dtype='int16')\n",
    "df.iloc[:, 5:7] = df.iloc[:, 5:7].astype(dtype='string')\n",
    "df.iloc[:, 7:9] = df.iloc[:, 7:9].astype(dtype='int16')\n",
    "df.iloc[:, 9:11] = df.iloc[:, 9:11].astype(dtype='string')\n",
    "df.iloc[:, 11] = df.iloc[:, 11].astype(dtype='int16')\n",
    "df.iloc[:, 12:14] = df.iloc[:, 12:14].astype(dtype='string')\n",
    "df.iloc[:, 14:25] = df.iloc[:, 14:25].astype(dtype='int16')\n",
    "df.iloc[:, 25] = df.iloc[:, 25].astype(dtype='string')\n",
    "df.iloc[:, 26] = df.iloc[:, 26].astype(dtype='int16')\n",
    "df.iloc[:, 27] = df.iloc[:, 27].astype(dtype='string')\n",
    "df.iloc[:, 28:] = df.iloc[:, 28:].astype(dtype='int16')\n",
    "df.info()"
   ]
  },
  {
   "cell_type": "code",
   "execution_count": 50,
   "metadata": {},
   "outputs": [],
   "source": [
    "df.to_csv('../_flights.csv', index=False)"
   ]
  },
  {
   "cell_type": "markdown",
   "metadata": {},
   "source": [
    "### <span style='color:crimson'>5. Drop Columns for EDA</span>"
   ]
  },
  {
   "cell_type": "code",
   "execution_count": 59,
   "metadata": {},
   "outputs": [
    {
     "data": {
      "text/plain": [
       "(15605076, 31)"
      ]
     },
     "execution_count": 59,
     "metadata": {},
     "output_type": "execute_result"
    }
   ],
   "source": [
    "df = pd.read_csv('../_flights.csv', engine='c', low_memory=False)\n",
    "df.drop(columns=[\n",
    "    'branded_code_share',\n",
    "    'mkt_carrier',\n",
    "    'mkt_carrier_fl_num',\n",
    "    'op_unique_carrier',\n",
    "    'tail_num',\n",
    "    'op_carrier_fl_num',\n",
    "    'cancellation_code',\n",
    "    'diverted',\n",
    "    'dup',\n",
    "    'flights',\n",
    "    'no_name'\n",
    "], inplace=True)\n",
    "df.shape"
   ]
  },
  {
   "cell_type": "code",
   "execution_count": 60,
   "metadata": {},
   "outputs": [],
   "source": [
    "df.to_csv('../_flights_eda.csv', index=False)"
   ]
  },
  {
   "cell_type": "markdown",
   "metadata": {},
   "source": [
    "### <span style='color:crimson'>6. Drop Columns for Feature Engineering</span>"
   ]
  },
  {
   "cell_type": "code",
   "execution_count": 63,
   "metadata": {},
   "outputs": [
    {
     "name": "stdout",
     "output_type": "stream",
     "text": [
      "<class 'pandas.core.frame.DataFrame'>\n",
      "RangeIndex: 15605076 entries, 0 to 15605075\n",
      "Data columns (total 16 columns):\n",
      " #   Column              Dtype \n",
      "---  ------              ----- \n",
      " 0   fl_date             object\n",
      " 1   mkt_unique_carrier  object\n",
      " 2   origin_airport_id   int64 \n",
      " 3   origin              object\n",
      " 4   origin_city_name    object\n",
      " 5   dest_airport_id     int64 \n",
      " 6   dest                object\n",
      " 7   dest_city_name      object\n",
      " 8   crs_dep_time        int64 \n",
      " 9   dep_time            int64 \n",
      " 10  dep_delay           int64 \n",
      " 11  taxi_out            int64 \n",
      " 12  wheels_off          int64 \n",
      " 13  wheels_on           int64 \n",
      " 14  taxi_in             int64 \n",
      " 15  crs_arr_time        int64 \n",
      "dtypes: int64(10), object(6)\n",
      "memory usage: 1.9+ GB\n",
      "None\n"
     ]
    }
   ],
   "source": [
    "print(df.iloc[:, :16].info())"
   ]
  },
  {
   "cell_type": "code",
   "execution_count": 64,
   "metadata": {},
   "outputs": [
    {
     "name": "stdout",
     "output_type": "stream",
     "text": [
      "<class 'pandas.core.frame.DataFrame'>\n",
      "RangeIndex: 15605076 entries, 0 to 15605075\n",
      "Data columns (total 15 columns):\n",
      " #   Column               Dtype\n",
      "---  ------               -----\n",
      " 0   arr_time             int64\n",
      " 1   arr_delay            int64\n",
      " 2   cancelled            int64\n",
      " 3   crs_elapsed_time     int64\n",
      " 4   actual_elapsed_time  int64\n",
      " 5   air_time             int64\n",
      " 6   distance             int64\n",
      " 7   carrier_delay        int64\n",
      " 8   weather_delay        int64\n",
      " 9   nas_delay            int64\n",
      " 10  security_delay       int64\n",
      " 11  late_aircraft_delay  int64\n",
      " 12  first_dep_time       int64\n",
      " 13  total_add_gtime      int64\n",
      " 14  longest_add_gtime    int64\n",
      "dtypes: int64(15)\n",
      "memory usage: 1.7 GB\n",
      "None\n"
     ]
    }
   ],
   "source": [
    "print(df.iloc[:, 16:].info())"
   ]
  },
  {
   "cell_type": "code",
   "execution_count": 65,
   "metadata": {},
   "outputs": [],
   "source": [
    "df.drop(\n",
    "    columns=[\n",
    "        'origin_airport_id',\n",
    "        'origin_city_name',\n",
    "        'dest_airport_id',\n",
    "        'dest_city_name',\n",
    "        'wheels_off',\n",
    "        'wheels_on',\n",
    "        'first_dep_time',\n",
    "        'total_add_gtime',\n",
    "        'longest_add_gtime',\n",
    "    ],\n",
    "    inplace=True\n",
    ")"
   ]
  },
  {
   "cell_type": "code",
   "execution_count": 66,
   "metadata": {},
   "outputs": [],
   "source": [
    "df.to_csv('../_flights_trim.csv', index=False)"
   ]
  },
  {
   "cell_type": "code",
   "execution_count": null,
   "metadata": {},
   "outputs": [],
   "source": []
  }
 ],
 "metadata": {
  "interpreter": {
   "hash": "879610ac5a35bd45efb5f5b97d5b6768f66acb5d3c57f28aacdb10e2228cdf14"
  },
  "kernelspec": {
   "display_name": "Python 3.10.4 ('lhl')",
   "language": "python",
   "name": "python3"
  },
  "language_info": {
   "codemirror_mode": {
    "name": "ipython",
    "version": 3
   },
   "file_extension": ".py",
   "mimetype": "text/x-python",
   "name": "python",
   "nbconvert_exporter": "python",
   "pygments_lexer": "ipython3",
   "version": "3.10.4"
  },
  "orig_nbformat": 4
 },
 "nbformat": 4,
 "nbformat_minor": 2
}
